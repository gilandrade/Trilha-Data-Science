{
  "nbformat": 4,
  "nbformat_minor": 0,
  "metadata": {
    "colab": {
      "name": "1.2.NumPy_Pandas_gabarito.ipynb",
      "provenance": [],
      "include_colab_link": true
    },
    "kernelspec": {
      "display_name": "Python 3",
      "language": "python",
      "name": "python3"
    },
    "language_info": {
      "codemirror_mode": {
        "name": "ipython",
        "version": 3
      },
      "file_extension": ".py",
      "mimetype": "text/x-python",
      "name": "python",
      "nbconvert_exporter": "python",
      "pygments_lexer": "ipython3",
      "version": "3.7.6"
    }
  },
  "cells": [
    {
      "cell_type": "markdown",
      "metadata": {
        "id": "view-in-github",
        "colab_type": "text"
      },
      "source": [
        "<a href=\"https://colab.research.google.com/github/gilandrade/Trilha-Data-Science/blob/master/1_2_NumPy_Pandas_gabarito.ipynb\" target=\"_parent\"><img src=\"https://colab.research.google.com/assets/colab-badge.svg\" alt=\"Open In Colab\"/></a>"
      ]
    },
    {
      "cell_type": "markdown",
      "metadata": {
        "id": "-K5x1uclLX36"
      },
      "source": [
        "# <center> Introdução ao NumPy e Pandas - Teoria e Exercícios</center>\n",
        "___\n",
        "\n",
        "## Conteúdo\n",
        "1. [Introdução](#intro)\n",
        "2. [Jupyter Básico](#basics)\n",
        "3. [Pacotes (Packages)](#pacotes)<br>\n",
        "4. [Encerramento](#encerramento)\n",
        "\n",
        "<a id=\"intro\"></a>\n",
        "## 1. Introdução\n",
        "\n",
        "Agora que você já teve uma pequena introdução ao mundo de Machine Learning, vamos te introduzir a uma das ferramentas mais importantes em análise de dados: a biblioteca Pandas, através da linguagem de programação Python. \n",
        "\n",
        "Utilizaremos o Jupyter Notebook para o acompanhamento da aula. Para isso, é pré-requisito sua instalação, bem como o Python 3. Ambos são disponibilizados se você instalar o software Anaconda 3. O formato da aula propõe que o aluno consiga acompanhar o material e fazer os exercícios ao mesmo tempo."
      ]
    },
    {
      "cell_type": "markdown",
      "metadata": {
        "id": "rijdw6h9LX37"
      },
      "source": [
        "<a id=\"basics\"></a>\n",
        "## 2. Jupyter Básico\n",
        "\n",
        "### 2.1. O que é Jupyter?\n",
        "\"Jupyter\" é um acrônimo que significa Julia, Python, and R. Essas linguagens de programação foram as primeiras utilizadas na aplicação Jupyter, mas, atualmente, o notebook também suporta  [muitas outras linguagens](https://github.com/jupyter/jupyter/wiki/Jupyter-kernels).\n",
        "\n",
        "Por se tratar de uma aplicação server-client, o Jupyter Notebook App permite ao usuário fazer a edição e execução de seus notebooks via web browser (Chrome, por exemplo). A aplicação pode ser executada em um PC sem acesso a Internet. \n",
        "\n",
        "- É possível executar um documento notebook step-by-step (uma célula por vez) pressionando shift + enter.\n",
        "- É possível executar todo o notebook em um único passo. Para isso, basta clicar no menu Cell -> Run All.\n",
        "- Para reiniciar o kernel (i.e., o engine), clique no menu Kernel -> Restart. Isso pode ser útil quando você quer reinicializar o processamentos desde o começo (nesse caso, as variáveis são deletadas, arquivos abertos são fechados, etc...).\n",
        "\n",
        "**Keyboard Navigation**\n",
        "\n",
        "Essa interface do Jupyter Notebook foi **otimizada para eficiente uso com o teclado**. Isso é possível porque há dois modos diferentes de atalhos com o teclado: modo de edição (edition mode) e modo de comando (command mode).\n",
        "\n",
        "Os atalhos mais importantes são \"Enter\", que entra no modo de edição, e \"Esc\", que entra no modo de comando.\n",
        "\n",
        "No modo de edição, a maior parte do teclado está disponível para digitar nas células do notebook. Por conta disso, no modo de edição não há muitos atalhos disponíveis. Já no modo de comando, o teclado inteiro pode ser utilizado para atalhos, portanto, existem muito mais atalhos. Se você clicar em *Help->Keyboard Shortcuts*, será possível ver toda a lista de atalhos disponível.\n",
        "\n",
        "Recomenda-se aprender os atalhos do modo de comando na seguinte ordem:\n",
        "\n",
        "- Navegação básica: enter, shift-enter, up/k, down/j\n",
        "- Salvar o notebook: s\n",
        "- Mudar o tipo da célula (code, markdown, etc...): y, m, 1-6, t\n",
        "- Criação de célula: a, b\n",
        "- Edição de célula: x, c, v, d, z\n",
        "- Kernel operations: i, 0 (pressionar duas vezes)\n",
        "\n",
        "Apesar de esses atalhos representarem o que você mais utilizará no cotidiano, existem algumas [dicas e macetes](https://www.dataquest.io/blog/jupyter-notebook-tips-tricks-shortcuts) que podem melhorar sua experiência com a aplicação Jupyter Notebook."
      ]
    },
    {
      "cell_type": "markdown",
      "metadata": {
        "id": "qq5jNyO0LX38"
      },
      "source": [
        "### 2.2 Execução de células\n",
        "\n",
        "Não podemos aprender Data Science sem antes conhecer nossas ferramentas, né?\n",
        "\n",
        "Clique na célula abaixo e pressione ctrl+Enter para executar o código."
      ]
    },
    {
      "cell_type": "code",
      "metadata": {
        "id": "HCruf9GILX38",
        "outputId": "9c9819cc-bc21-4c44-dd7f-4926985b3b9b"
      },
      "source": [
        "print(\"Hello World!\") #Lembre-se que shift+enter vai executar a célula atual e selecionar a próxima célula"
      ],
      "execution_count": null,
      "outputs": [
        {
          "output_type": "stream",
          "text": [
            "Hello World!\n"
          ],
          "name": "stdout"
        }
      ]
    },
    {
      "cell_type": "markdown",
      "metadata": {
        "id": "m5zKHfMSLX4A"
      },
      "source": [
        "Parabéns!!! Você acabou de executar sua primeira linha de código no Jupyter. Foi bem fácil, né?\n",
        "\n",
        "É assim que o notebook funciona, você pode executar o documento célula a célula e observar o que está sendo realizado."
      ]
    },
    {
      "cell_type": "markdown",
      "metadata": {
        "id": "B0x0nN1TLX4B"
      },
      "source": [
        "Vamos, agora, acompanhar uma seção sobre os pacotes básicos mais utilizados para análise de dados em Python: o **Numpy** e o **Pandas**!"
      ]
    },
    {
      "cell_type": "markdown",
      "metadata": {
        "id": "SzK7ptGBLX4B"
      },
      "source": [
        "<a name=\"pacotes\"></a>\n",
        "## 3. Pacotes (Packages)\n",
        "\n",
        "Um *package* é um diretório de scripts Python, também chamados de modules, com um objetivo em comum. Isso significa que cada script é um módulo que define funções, métodos e tipos. E esse módulos estão organizados em *packages*.\n",
        "\n",
        "Quando você inicializa o Jupyter, apenas o package built-in é carregado. Para usar qualquer função, método ou objeto definido em outro módulo, você deve, primeiramente, importá-lo.\n",
        "\n",
        "Vamos tentar fazer isso com o NumPy, um pacote que lida eficientemente com arrays e matrizes, que você certamente utilizará bastante em sua vida com o Python."
      ]
    },
    {
      "cell_type": "markdown",
      "metadata": {
        "id": "AiwPf3vgLX4C"
      },
      "source": [
        "### 3.1 NumPy\n",
        "\n",
        "NumPy é a abreviação de ‘Numerical Python’ ou ‘Numeric Python’. Ela é uma biblioteca *open-source* (ou seja, é um software cujo código original é disponibilizado livremente e pode ser distribuido e modificado) que oferece suporte à arrays e matrizes multidimensionais, provendo diversas funções matemáticas úteis em computação científica.\n",
        "\n",
        "Mas por que você deveria utilizar o NumPy? É simples! As listas do Python funcionam como as arrays, no entanto, são lentas para utilização com grandes volumes de dados. No ramo de Ciência de Dados, velocidade e recursos durante o processamento são bem importantes! Dessa forma, o NumPy nos possibilita utilizar os objetos arrays, que são bem mais rápidos que as listas tradicionais do Python.\n",
        "\n",
        "O **ndarray** é o objeto fundamental do NumPy. Este objeto é uma matriz N-dimensional, vamos entender melhor como este objeto funciona nas células abaixo."
      ]
    },
    {
      "cell_type": "markdown",
      "metadata": {
        "id": "ilqHg5KDLX4C"
      },
      "source": [
        "#### 3.1.1 Importando o NumPy"
      ]
    },
    {
      "cell_type": "code",
      "metadata": {
        "id": "4inMWXA_LX4C",
        "scrolled": false,
        "outputId": "0252b0c6-8f1b-4464-afb4-f1054caff9f4"
      },
      "source": [
        "# Primeiramente, o que você acha que aconteceria se tentássemos utilizar algumas coisa de um pacote que ainda não foi carregado?\n",
        "# Nós podemos testar isso com a função array, do módulo numpy, que retorna um array para uma lista dada\n",
        "array([1, 2, 3])"
      ],
      "execution_count": null,
      "outputs": [
        {
          "output_type": "error",
          "ename": "NameError",
          "evalue": "name 'array' is not defined",
          "traceback": [
            "\u001b[1;31m---------------------------------------------------------------------------\u001b[0m",
            "\u001b[1;31mNameError\u001b[0m                                 Traceback (most recent call last)",
            "\u001b[1;32m<ipython-input-2-c17dde29d94f>\u001b[0m in \u001b[0;36m<module>\u001b[1;34m\u001b[0m\n\u001b[0;32m      1\u001b[0m \u001b[1;31m# Primeiramente, o que você acha que aconteceria se tentássemos utilizar algumas coisa de um pacote que ainda não foi carregado?\u001b[0m\u001b[1;33m\u001b[0m\u001b[1;33m\u001b[0m\u001b[1;33m\u001b[0m\u001b[0m\n\u001b[0;32m      2\u001b[0m \u001b[1;31m# Nós podemos testar isso com a função array, do módulo numpy, que retorna um array para uma lista dada\u001b[0m\u001b[1;33m\u001b[0m\u001b[1;33m\u001b[0m\u001b[1;33m\u001b[0m\u001b[0m\n\u001b[1;32m----> 3\u001b[1;33m \u001b[0marray\u001b[0m\u001b[1;33m(\u001b[0m\u001b[1;33m[\u001b[0m\u001b[1;36m1\u001b[0m\u001b[1;33m,\u001b[0m \u001b[1;36m2\u001b[0m\u001b[1;33m,\u001b[0m \u001b[1;36m3\u001b[0m\u001b[1;33m]\u001b[0m\u001b[1;33m)\u001b[0m\u001b[1;33m\u001b[0m\u001b[1;33m\u001b[0m\u001b[0m\n\u001b[0m",
            "\u001b[1;31mNameError\u001b[0m: name 'array' is not defined"
          ]
        }
      ]
    },
    {
      "cell_type": "markdown",
      "metadata": {
        "id": "Usa9K5p5LX4F"
      },
      "source": [
        "Como esperado, tivemos um erro. Nós deveríamos carregar o pacote, então.\n",
        "Para fazer isso, utilizamos a keyword 'import' seguida do nome do package."
      ]
    },
    {
      "cell_type": "code",
      "metadata": {
        "id": "W7zLCQlALX4F",
        "outputId": "2f9ac3f3-e363-4fdc-98b1-016d265e7ed5"
      },
      "source": [
        "import numpy\n",
        "numpy.array([1, 2, 3])"
      ],
      "execution_count": null,
      "outputs": [
        {
          "output_type": "execute_result",
          "data": {
            "text/plain": [
              "array([1, 2, 3])"
            ]
          },
          "metadata": {
            "tags": []
          },
          "execution_count": 3
        }
      ]
    },
    {
      "cell_type": "markdown",
      "metadata": {
        "id": "DX-RDCwMLX4I"
      },
      "source": [
        "Repare como precisamos especificar qual é o pacote ao qual a função ```array``` pertence. Poderia ficar muito chato se você tivesse que digitar os nomes dos pacotes todas as vezes que quisesse utilizar alguma coisa deles.\n",
        "\n",
        "Para te ajudar com isso, o Python permite que você utilize um alias para o nome do pacote, através da keyword 'as', tornando seu uso um pouco mais prático, como mostrado a seguir."
      ]
    },
    {
      "cell_type": "code",
      "metadata": {
        "id": "fdd2GYECLX4I",
        "outputId": "5a819119-5454-4bd0-98c5-7517757070b3"
      },
      "source": [
        "import numpy as np\n",
        "np.array([1, 2, 3])"
      ],
      "execution_count": null,
      "outputs": [
        {
          "output_type": "execute_result",
          "data": {
            "text/plain": [
              "array([1, 2, 3])"
            ]
          },
          "metadata": {
            "tags": []
          },
          "execution_count": 4
        }
      ]
    },
    {
      "cell_type": "markdown",
      "metadata": {
        "id": "aK8vwBX3LX4L"
      },
      "source": [
        "Por último, é possível carregar apenas uma parte de um pacote com a expressão  ```from ... import ...```. Fazendo isso, você estará permitido a utilizar apenas a parte que você carregou do pacote, sem a necessidade de especificar o nome do pacote posteriormente. Veja."
      ]
    },
    {
      "cell_type": "code",
      "metadata": {
        "id": "IbWcRDo5LX4L",
        "outputId": "d49e9340-d4c4-4dcd-dcc2-d69b7b8e5140"
      },
      "source": [
        "from numpy import array\n",
        "array([1, 2, 3])"
      ],
      "execution_count": null,
      "outputs": [
        {
          "output_type": "execute_result",
          "data": {
            "text/plain": [
              "array([1, 2, 3])"
            ]
          },
          "metadata": {
            "tags": []
          },
          "execution_count": 5
        }
      ]
    },
    {
      "cell_type": "markdown",
      "metadata": {
        "id": "LLRyfgAuLX4O"
      },
      "source": [
        "Ótimo, você já sabe importar os pacotes que precisar!\n",
        "\n",
        "Vamos observar o porquê o NumPy é tão poderoso e preferível às listas do Python.\n",
        "\n",
        "Imagine que você tenha duas listas de dados de indivíduos, com alturas e pesos, e queira calcular o IMC (Índice de Massa Corporal) de cada um deles, como mostrado abaixo:"
      ]
    },
    {
      "cell_type": "code",
      "metadata": {
        "id": "8BEEuu9kLX4O",
        "outputId": "59151f3c-fe1a-4d62-e9af-9ed5cc363141"
      },
      "source": [
        "altura = [1.81, 1.77, 1.69, 1.91]\n",
        "peso = [89.0, 77.3, 55.9, 99.4]\n",
        "\n",
        "# Calculando o IMC\n",
        "imc = peso / altura ** 2"
      ],
      "execution_count": null,
      "outputs": [
        {
          "output_type": "error",
          "ename": "TypeError",
          "evalue": "unsupported operand type(s) for ** or pow(): 'list' and 'int'",
          "traceback": [
            "\u001b[1;31m---------------------------------------------------------------------------\u001b[0m",
            "\u001b[1;31mTypeError\u001b[0m                                 Traceback (most recent call last)",
            "\u001b[1;32m<ipython-input-6-6d1374b18ff3>\u001b[0m in \u001b[0;36m<module>\u001b[1;34m\u001b[0m\n\u001b[0;32m      3\u001b[0m \u001b[1;33m\u001b[0m\u001b[0m\n\u001b[0;32m      4\u001b[0m \u001b[1;31m# Calculando o IMC\u001b[0m\u001b[1;33m\u001b[0m\u001b[1;33m\u001b[0m\u001b[1;33m\u001b[0m\u001b[0m\n\u001b[1;32m----> 5\u001b[1;33m \u001b[0mimc\u001b[0m \u001b[1;33m=\u001b[0m \u001b[0mpeso\u001b[0m \u001b[1;33m/\u001b[0m \u001b[0maltura\u001b[0m \u001b[1;33m**\u001b[0m \u001b[1;36m2\u001b[0m\u001b[1;33m\u001b[0m\u001b[1;33m\u001b[0m\u001b[0m\n\u001b[0m",
            "\u001b[1;31mTypeError\u001b[0m: unsupported operand type(s) for ** or pow(): 'list' and 'int'"
          ]
        }
      ]
    },
    {
      "cell_type": "markdown",
      "metadata": {
        "id": "PAFd0O31LX4R"
      },
      "source": [
        "Observe que o Python nos retornou um erro porque não é possivel realizar cálculos com listas, para isso vamos utilizar o NumPy!"
      ]
    },
    {
      "cell_type": "code",
      "metadata": {
        "id": "dtuBJPuKLX4R",
        "outputId": "1b6cd171-a242-4354-e490-65a059355883"
      },
      "source": [
        "# Criando os arrays com o NumPy\n",
        "\n",
        "np_altura = np.array(altura)\n",
        "np_peso = np.array(peso)\n",
        "\n",
        "# Calculando o IMC\n",
        "imc = np_peso / np_altura ** 2\n",
        "imc"
      ],
      "execution_count": null,
      "outputs": [
        {
          "output_type": "execute_result",
          "data": {
            "text/plain": [
              "array([27.16644791, 24.67362508, 19.57214383, 27.24706011])"
            ]
          },
          "metadata": {
            "tags": []
          },
          "execution_count": 7
        }
      ]
    },
    {
      "cell_type": "markdown",
      "metadata": {
        "id": "xIB6QI98LX4T"
      },
      "source": [
        "O Numpy consegue realizar perfeitamente as operações elemento a elemento!\n",
        "\n",
        "Mas preste bem atenção, pois algumas operações podem funcionar de forma diferente do que você imagina. Veja o exemplo abaixo:"
      ]
    },
    {
      "cell_type": "code",
      "metadata": {
        "id": "5rPOP7UaLX4U",
        "outputId": "5965f057-6a14-4e44-aa20-91b7f4591ca7"
      },
      "source": [
        "# Lista do Python\n",
        "altura * 2"
      ],
      "execution_count": null,
      "outputs": [
        {
          "output_type": "execute_result",
          "data": {
            "text/plain": [
              "[1.81, 1.77, 1.69, 1.91, 1.81, 1.77, 1.69, 1.91]"
            ]
          },
          "metadata": {
            "tags": []
          },
          "execution_count": 8
        }
      ]
    },
    {
      "cell_type": "code",
      "metadata": {
        "id": "H9qCMdWsLX4W",
        "outputId": "2aac81bc-dfad-4c3d-8d48-c8417ce3b2aa"
      },
      "source": [
        "# NumPy array\n",
        "np_altura * 2"
      ],
      "execution_count": null,
      "outputs": [
        {
          "output_type": "execute_result",
          "data": {
            "text/plain": [
              "array([3.62, 3.54, 3.38, 3.82])"
            ]
          },
          "metadata": {
            "tags": []
          },
          "execution_count": 9
        }
      ]
    },
    {
      "cell_type": "markdown",
      "metadata": {
        "id": "zRGHFRRILX4Y"
      },
      "source": [
        "#### 3.1.2 Selecionando subconjuntos de NumPy Arrays\n",
        "A seleção de subconjuntos de NumPy arrays funciona de foram similar à listas de Python."
      ]
    },
    {
      "cell_type": "code",
      "metadata": {
        "id": "vINbm_bKLX4Y",
        "outputId": "f808d408-ec1a-47e5-d42d-4fccd702aaf0"
      },
      "source": [
        "# retornando o terceiro elemento da array\n",
        "imc[2]"
      ],
      "execution_count": null,
      "outputs": [
        {
          "output_type": "execute_result",
          "data": {
            "text/plain": [
              "19.572143832498863"
            ]
          },
          "metadata": {
            "tags": []
          },
          "execution_count": 10
        }
      ]
    },
    {
      "cell_type": "markdown",
      "metadata": {
        "id": "P7x7PJa3LX4a"
      },
      "source": [
        "Você também pode selecionar subconjuntos baseados em condições, de forma que apenas os valores que satisfazem as condições serão retornados."
      ]
    },
    {
      "cell_type": "code",
      "metadata": {
        "id": "O7wwSq9qLX4b",
        "outputId": "01b3fb6e-70cf-4fcc-ab20-0ee8d66e581d"
      },
      "source": [
        "imc[imc > 25]"
      ],
      "execution_count": null,
      "outputs": [
        {
          "output_type": "execute_result",
          "data": {
            "text/plain": [
              "array([27.16644791, 27.24706011])"
            ]
          },
          "metadata": {
            "tags": []
          },
          "execution_count": 11
        }
      ]
    },
    {
      "cell_type": "markdown",
      "metadata": {
        "id": "SwHBFNVyLX4d"
      },
      "source": [
        "Vamos fazer um exercício para fixação."
      ]
    },
    {
      "cell_type": "markdown",
      "metadata": {
        "id": "80d7CXQwLX4e"
      },
      "source": [
        "#### Exercício 3.1 (9 pontos)\n",
        "*Correção Binária: O aluno recebe todos os pontos caso cumpra todos os objetivos do exercicio (independente da lógica ou estilo da programação), caso contrário, recebe zero.*"
      ]
    },
    {
      "cell_type": "code",
      "metadata": {
        "id": "bScOznoCLX4f",
        "outputId": "413fed43-1646-40c9-8f48-8a2bbacd1d91"
      },
      "source": [
        "# lista de pesos de castanhas\n",
        "c_peso = [0.946, 0.918, 0.906, 0.904, 0.858, 0.774, 0.652, 0.516, 0.478, 0.404, 0.396, 0.364, 0.342, 0.304, \n",
        "            0.262, 0.208, 0.134, 0.974, 0.792, 0.792, 0.628, 0.552, 0.506, 0.478, 0.462, 0.436, 0.408, 0.378, \n",
        "            0.3, 0.298, 0.268, 0.252, 0.16, 0.114, 0.092, 0.936, 0.894, 0.744, 0.706, 0.694, 0.69, 0.652, 0.518, \n",
        "            0.508, 0.502, 0.5, 0.47, 0.44, 0.39, 0.384]\n",
        "\n",
        "# Importe o numpy como np\n",
        "import numpy as np\n",
        "\n",
        "# Crie um numpy array a partir de c_peso: np_c_peso\n",
        "np_c_peso=np.array(c_peso)\n",
        "\n",
        "# Imprima o tipo de np_c_peso\n",
        "print(type(np_c_peso))"
      ],
      "execution_count": null,
      "outputs": [
        {
          "output_type": "stream",
          "text": [
            "<class 'numpy.ndarray'>\n"
          ],
          "name": "stdout"
        }
      ]
    },
    {
      "cell_type": "code",
      "metadata": {
        "id": "u9tEdjxSLX4i",
        "outputId": "95884c0a-d7b6-4e23-e393-2e181babd191"
      },
      "source": [
        "c_kg_preco = 45.00\n",
        "\n",
        "# Crie a partir do array de c_peso com a quantia gasta em cada compra: np_c_despesa\n",
        "np_c_despesa=np_c_peso*c_kg_preco\n",
        "np_c_despesa"
      ],
      "execution_count": null,
      "outputs": [
        {
          "output_type": "execute_result",
          "data": {
            "text/plain": [
              "array([42.57, 41.31, 40.77, 40.68, 38.61, 34.83, 29.34, 23.22, 21.51,\n",
              "       18.18, 17.82, 16.38, 15.39, 13.68, 11.79,  9.36,  6.03, 43.83,\n",
              "       35.64, 35.64, 28.26, 24.84, 22.77, 21.51, 20.79, 19.62, 18.36,\n",
              "       17.01, 13.5 , 13.41, 12.06, 11.34,  7.2 ,  5.13,  4.14, 42.12,\n",
              "       40.23, 33.48, 31.77, 31.23, 31.05, 29.34, 23.31, 22.86, 22.59,\n",
              "       22.5 , 21.15, 19.8 , 17.55, 17.28])"
            ]
          },
          "metadata": {
            "tags": []
          },
          "execution_count": 13
        }
      ]
    },
    {
      "cell_type": "code",
      "metadata": {
        "id": "0zsNWshuLX4l",
        "outputId": "5b6a2dd9-3ddd-4fde-925d-12d70ab53f8e"
      },
      "source": [
        "# Imprima o peso no indíce 20\n",
        "print(np_c_peso[20])"
      ],
      "execution_count": null,
      "outputs": [
        {
          "output_type": "stream",
          "text": [
            "0.628\n"
          ],
          "name": "stdout"
        }
      ]
    },
    {
      "cell_type": "markdown",
      "metadata": {
        "id": "GMCddp7mLX4n"
      },
      "source": [
        "#### 3.1.3  Array N-dimensional\n",
        "Vamos verificar o tipo dos arrays criados acima!"
      ]
    },
    {
      "cell_type": "code",
      "metadata": {
        "id": "078e0y9TLX4o",
        "outputId": "4c97e0d9-4f01-41a5-8ff0-2c60dc8334dd"
      },
      "source": [
        "print(type(np_peso))"
      ],
      "execution_count": null,
      "outputs": [
        {
          "output_type": "stream",
          "text": [
            "<class 'numpy.ndarray'>\n"
          ],
          "name": "stdout"
        }
      ]
    },
    {
      "cell_type": "markdown",
      "metadata": {
        "id": "45iflQczLX4q"
      },
      "source": [
        "**ndarrays** significam arrays N-dimensionais, vamos criar um numpy array multi-dimensional a partir de listas tradicionais do Python."
      ]
    },
    {
      "cell_type": "code",
      "metadata": {
        "id": "CO7bwnE2LX4r",
        "outputId": "5994c946-40f9-4c98-b14f-1ea421cfd07a"
      },
      "source": [
        "np_2d = np.array([[1.81, 1.77, 1.69, 1.91],\n",
        "                  [89.0, 77.3, 55.9, 99.4]])\n",
        "np_2d"
      ],
      "execution_count": null,
      "outputs": [
        {
          "output_type": "execute_result",
          "data": {
            "text/plain": [
              "array([[ 1.81,  1.77,  1.69,  1.91],\n",
              "       [89.  , 77.3 , 55.9 , 99.4 ]])"
            ]
          },
          "metadata": {
            "tags": []
          },
          "execution_count": 16
        }
      ]
    },
    {
      "cell_type": "markdown",
      "metadata": {
        "id": "s0tPotkrLX4t"
      },
      "source": [
        "Cada sublista da lista corresponde à uma linha da array bi-dimensional criada.\n",
        "Nós podemos verificar o tamanho da array usando o atributo \"shape\"."
      ]
    },
    {
      "cell_type": "code",
      "metadata": {
        "id": "7v_V-g0yLX4u",
        "outputId": "72744f50-96ad-482c-e6f3-3dad25cd114e"
      },
      "source": [
        "np_2d.shape"
      ],
      "execution_count": null,
      "outputs": [
        {
          "output_type": "execute_result",
          "data": {
            "text/plain": [
              "(2, 4)"
            ]
          },
          "metadata": {
            "tags": []
          },
          "execution_count": 17
        }
      ]
    },
    {
      "cell_type": "markdown",
      "metadata": {
        "id": "3pfs_xCoLX4w"
      },
      "source": [
        "Podemos ver que o np_2d tem 2 linhas e 4 colunas."
      ]
    },
    {
      "cell_type": "markdown",
      "metadata": {
        "id": "ghAD0-sELX4w"
      },
      "source": [
        "Assim como a array unidimensional, também podemos selecionar um subconjunto de uma array multi-dimensional, usando o índice da linha e coluna como abaixo.\n",
        "![Subsetting](https://imgur.com/08EIOjy.png)\n",
        "Veja alguns exemplos abaixo."
      ]
    },
    {
      "cell_type": "code",
      "metadata": {
        "id": "VeJyxXFfLX4x",
        "outputId": "9a8f7f72-f009-4172-9deb-230513be36ad"
      },
      "source": [
        "np_2d[0]"
      ],
      "execution_count": null,
      "outputs": [
        {
          "output_type": "execute_result",
          "data": {
            "text/plain": [
              "array([1.81, 1.77, 1.69, 1.91])"
            ]
          },
          "metadata": {
            "tags": []
          },
          "execution_count": 18
        }
      ]
    },
    {
      "cell_type": "code",
      "metadata": {
        "id": "iwaMLcUBLX4z",
        "outputId": "c1d485d6-41f2-45d3-97b5-2e02ab959701"
      },
      "source": [
        "# Selecionando a altura (primeira linha) do terceiro elemento\n",
        "np_2d[0][2]"
      ],
      "execution_count": null,
      "outputs": [
        {
          "output_type": "execute_result",
          "data": {
            "text/plain": [
              "1.69"
            ]
          },
          "metadata": {
            "tags": []
          },
          "execution_count": 19
        }
      ]
    },
    {
      "cell_type": "markdown",
      "metadata": {
        "id": "wy8URCdaLX42"
      },
      "source": [
        "Basicamente nós selecionamos a linha, e a partir daquela linha fazemos outra seleção.\n",
        "\n",
        "Também é possível selecionar utilizando vírgulas dentro de colchetes: array[linha, coluna]"
      ]
    },
    {
      "cell_type": "code",
      "metadata": {
        "id": "fhRP_6mSLX42",
        "outputId": "c90df063-bb7a-4fba-9360-f1e4a83b3c58"
      },
      "source": [
        "# Primeira linha e terceira colna\n",
        "np_2d[0, 2]"
      ],
      "execution_count": null,
      "outputs": [
        {
          "output_type": "execute_result",
          "data": {
            "text/plain": [
              "1.69"
            ]
          },
          "metadata": {
            "tags": []
          },
          "execution_count": 20
        }
      ]
    },
    {
      "cell_type": "code",
      "metadata": {
        "id": "BO8RY7OeLX44",
        "outputId": "f295347d-8cdb-4035-9c31-eef6ab7411e5"
      },
      "source": [
        "# Todas as linhas e segunda e terceira colunas\n",
        "np_2d[:, 1:3] "
      ],
      "execution_count": null,
      "outputs": [
        {
          "output_type": "execute_result",
          "data": {
            "text/plain": [
              "array([[ 1.77,  1.69],\n",
              "       [77.3 , 55.9 ]])"
            ]
          },
          "metadata": {
            "tags": []
          },
          "execution_count": 21
        }
      ]
    },
    {
      "cell_type": "markdown",
      "metadata": {
        "id": "0zIYCqVKLX47"
      },
      "source": [
        "#### Exercício 3.2 (9 Pontos)\n",
        "*Correção Binária: O aluno recebe todos os pontos caso cumpra todos os objetivos do exercicio (independente da lógica ou estilo da programação), caso contrário, recebe zero.*\n",
        "\n",
        "Abaixo temos uma lista de listas contendo informações de vendas de castanhas de uma loja. Cada lista representa uma venda que foi realizada. O primeiro elemento de cada lista é o dia que  venda foi feita, o segundo elemento representa o peso das castanhas compradas. Por fim, o terceiro elemento é a quantia paga pelas castanhas.\n",
        "\n",
        "Com isso em mente, faça os seguintes exercícios:"
      ]
    },
    {
      "cell_type": "code",
      "metadata": {
        "id": "Cx_0Ij7rLX47",
        "outputId": "f40c3e03-7b67-4a66-b19a-d2fdfc1de494"
      },
      "source": [
        "castanha = [[2, 0.946, 66.1], \n",
        "          [2, 0.918, 32.96], \n",
        "          [2, 0.906, 58.76],\n",
        "          [2, 0.904, 29.14], \n",
        "          [2, 0.858, 59.96],\n",
        "          [2, 0.774, 27.77],\n",
        "          [2, 0.652, 42.3],\n",
        "          [2, 0.516, 18.51], \n",
        "          [2, 0.478, 17.15],\n",
        "          [2, 0.404, 28.22], \n",
        "          [2, 0.396, 7.88], \n",
        "          [2, 0.364, 7.24],\n",
        "          [2, 0.342, 22.18], \n",
        "          [2, 0.304, 10.91], \n",
        "          [2, 0.262, 9.41], \n",
        "          [2, 0.208, 4.13],\n",
        "          [2, 0.134, 9.36],\n",
        "          [4, 0.974, 34.95],\n",
        "          [4, 0.792, 51.38],\n",
        "          [4, 0.792, 51.38], \n",
        "          [4, 0.628, 12.48], \n",
        "          [4, 0.552, 19.81], \n",
        "          [4, 0.506, 25], \n",
        "          [4, 0.478, 31], \n",
        "          [4, 0.462, 32.24],\n",
        "          [4, 0.436, 28.28],\n",
        "          [4, 0.408, 14.64],\n",
        "          [4, 0.378, 13.56],\n",
        "          [4, 0.3, 19.46],\n",
        "          [4, 0.298, 10.69],\n",
        "          [4, 0.268, 9.62],\n",
        "          [4, 0.252, 16.34],\n",
        "          [4, 0.16, 3.18],\n",
        "          [4, 0.114, 4.09],\n",
        "          [4, 0.092, 5.97],\n",
        "          [5, 0.936, 65.33],\n",
        "          [5, 0.894, 32.07],\n",
        "          [5, 0.744, 48.28], \n",
        "          [5, 0.706, 25.34],\n",
        "          [5, 0.694, 24.91], \n",
        "          [5, 0.69, 13.72], \n",
        "          [5, 0.652, 42.32], \n",
        "          [5, 0.518, 33.6], \n",
        "          [5, 0.508, 18.23],\n",
        "          [5, 0.502, 35.09],\n",
        "          [5, 0.5, 27.45], \n",
        "          [5, 0.47, 9.35], \n",
        "          [5, 0.44, 28.54],\n",
        "          [5, 0.39, 7.76], \n",
        "          [5, 0.384, 21.08]]\n",
        "\n",
        "# Crie um numpy array 2d a partir de castanha: np_castanha\n",
        "np_castanha=np.array(castanha)\n",
        "\n",
        "# Imprima o tipo de np_castanha\n",
        "print(type(np_castanha))\n",
        "\n",
        "# Imprima a forma de np_castanha\n",
        "print(np_castanha.shape)"
      ],
      "execution_count": null,
      "outputs": [
        {
          "output_type": "stream",
          "text": [
            "<class 'numpy.ndarray'>\n",
            "(50, 3)\n"
          ],
          "name": "stdout"
        }
      ]
    },
    {
      "cell_type": "code",
      "metadata": {
        "id": "OlVBrmmKLX4-",
        "outputId": "c57b1131-bce8-4b59-9f27-796610ec9adf"
      },
      "source": [
        "# Selecione toda a segunda coluna de np_castanha: np_c_peso\n",
        "np_c_peso=np_castanha[:,1]\n",
        "\n",
        "# Imprima o preço da 14 venda\n",
        "print(np_castanha[13,2])\n",
        "\n",
        "# Imprima todas as vendas feitas após o dia 2\n",
        "flag=-1\n",
        "for counter in np_castanha[:,0]:\n",
        "    flag=flag+1\n",
        "    if counter != 2:\n",
        "            print(np_castanha[flag,:])"
      ],
      "execution_count": null,
      "outputs": [
        {
          "output_type": "stream",
          "text": [
            "10.91\n",
            "[ 4.     0.974 34.95 ]\n",
            "[ 4.     0.792 51.38 ]\n",
            "[ 4.     0.792 51.38 ]\n",
            "[ 4.     0.628 12.48 ]\n",
            "[ 4.     0.552 19.81 ]\n",
            "[ 4.     0.506 25.   ]\n",
            "[ 4.     0.478 31.   ]\n",
            "[ 4.     0.462 32.24 ]\n",
            "[ 4.     0.436 28.28 ]\n",
            "[ 4.     0.408 14.64 ]\n",
            "[ 4.     0.378 13.56 ]\n",
            "[ 4.    0.3  19.46]\n",
            "[ 4.     0.298 10.69 ]\n",
            "[4.    0.268 9.62 ]\n",
            "[ 4.     0.252 16.34 ]\n",
            "[4.   0.16 3.18]\n",
            "[4.    0.114 4.09 ]\n",
            "[4.    0.092 5.97 ]\n",
            "[ 5.     0.936 65.33 ]\n",
            "[ 5.     0.894 32.07 ]\n",
            "[ 5.     0.744 48.28 ]\n",
            "[ 5.     0.706 25.34 ]\n",
            "[ 5.     0.694 24.91 ]\n",
            "[ 5.    0.69 13.72]\n",
            "[ 5.     0.652 42.32 ]\n",
            "[ 5.     0.518 33.6  ]\n",
            "[ 5.     0.508 18.23 ]\n",
            "[ 5.     0.502 35.09 ]\n",
            "[ 5.    0.5  27.45]\n",
            "[5.   0.47 9.35]\n",
            "[ 5.    0.44 28.54]\n",
            "[5.   0.39 7.76]\n",
            "[ 5.     0.384 21.08 ]\n"
          ],
          "name": "stdout"
        }
      ]
    },
    {
      "cell_type": "markdown",
      "metadata": {
        "id": "PZiADtwcLX5A"
      },
      "source": [
        "#### 3.1.4 Estatística básica com NumPy\n",
        "Costumeiramente o primeiro passo para analisar nossos dados é conhecê-los através de estatística descritiva. O NumPy pode ser usado para obter essa visão inicial dos dados mesmo com grande quantidade de observações.\n",
        "\n",
        "Vamos usar alguns atributos do NumPy para começar a analisar nossos dados."
      ]
    },
    {
      "cell_type": "code",
      "metadata": {
        "id": "Fk0X8tT2LX5B",
        "outputId": "b21c9358-b675-4eb7-f8ca-1f6b36df2c3d"
      },
      "source": [
        "np_a_p = np.array([[1.81, 89.0],\n",
        "                  [1.77, 77.3],\n",
        "                  [1.69, 55.9],\n",
        "                  [1.91, 99.4]])\n",
        "\n",
        "# Calculando a media dos pesos\n",
        "np.mean(np_a_p[:, 1])"
      ],
      "execution_count": null,
      "outputs": [
        {
          "output_type": "execute_result",
          "data": {
            "text/plain": [
              "80.4"
            ]
          },
          "metadata": {
            "tags": []
          },
          "execution_count": 24
        }
      ]
    },
    {
      "cell_type": "code",
      "metadata": {
        "id": "0Iw2sCiMLX5D",
        "outputId": "1f28f586-543a-483d-8f1a-8b5deee66652"
      },
      "source": [
        "# calculando a mediana dos pesos\n",
        "np.median(np_a_p[:, 1])"
      ],
      "execution_count": null,
      "outputs": [
        {
          "output_type": "execute_result",
          "data": {
            "text/plain": [
              "83.15"
            ]
          },
          "metadata": {
            "tags": []
          },
          "execution_count": 25
        }
      ]
    },
    {
      "cell_type": "code",
      "metadata": {
        "id": "JrazR9OMLX5E",
        "outputId": "98eda629-1caf-48ee-e9ec-598a32860c21"
      },
      "source": [
        "# calculando os coeficientes de correlação entre pesos e alturas\n",
        "np.corrcoef(np_a_p[:, 0], np_a_p[:, 1])"
      ],
      "execution_count": null,
      "outputs": [
        {
          "output_type": "execute_result",
          "data": {
            "text/plain": [
              "array([[1.        , 0.96933562],\n",
              "       [0.96933562, 1.        ]])"
            ]
          },
          "metadata": {
            "tags": []
          },
          "execution_count": 26
        }
      ]
    },
    {
      "cell_type": "code",
      "metadata": {
        "id": "AGAs6WKHLX5H",
        "outputId": "3b22dc0c-f839-4f88-f700-5aa6b899c046"
      },
      "source": [
        "# calculando o desvio padrão dos pesos\n",
        "np.std(np_a_p[:, 1])"
      ],
      "execution_count": null,
      "outputs": [
        {
          "output_type": "execute_result",
          "data": {
            "text/plain": [
              "16.16183776678878"
            ]
          },
          "metadata": {
            "tags": []
          },
          "execution_count": 27
        }
      ]
    },
    {
      "cell_type": "code",
      "metadata": {
        "id": "92o3-U7tLX5J",
        "outputId": "a8ff935a-d75a-4d2d-e9db-dc1c1ec6f4d6"
      },
      "source": [
        "# calculando a soma dos pesos\n",
        "np.sum(np_a_p[:, 1])"
      ],
      "execution_count": null,
      "outputs": [
        {
          "output_type": "execute_result",
          "data": {
            "text/plain": [
              "321.6"
            ]
          },
          "metadata": {
            "tags": []
          },
          "execution_count": 28
        }
      ]
    },
    {
      "cell_type": "markdown",
      "metadata": {
        "id": "pG0OBjX2LX5L"
      },
      "source": [
        "Alguns desses atributos já estão disponíveis no Python, no entanto, a principal diferença entre eles é a performance. Os atributos do NumPy são mais rápidos na execução do que os básicos do Python."
      ]
    },
    {
      "cell_type": "markdown",
      "metadata": {
        "id": "lqamqrD4LX5L"
      },
      "source": [
        "Lembrando que sempre que tiver dificuldade para entender algum atributo, você pode consultar a documentação do [Numpy](https://numpy.org/doc/)."
      ]
    },
    {
      "cell_type": "markdown",
      "metadata": {
        "id": "yzaO8VLkLX5M"
      },
      "source": [
        "Agora que aprendemos como o NumPy funciona, vamos aprender sobre uma das bibliotecas mais utilizadas para manipulação de dados em Python, o **Pandas**!"
      ]
    },
    {
      "cell_type": "markdown",
      "metadata": {
        "id": "iTqr25BaLX5M"
      },
      "source": [
        "### 3.2 O que é o Pandas?\n",
        "\n",
        "Pandas é uma biblioteca *open source*, que proporciona estruturas de dados e ferramentas de análise de dados de alta performance e fáceis de usar para Python. Vamos entender melhor o que alguns termos significam:\n",
        " - *open source*: assim como o NumPy, seu código original é disponibilizado livremente e pode ser distribuido e modificado. Isso significa que qualquer um pode contribuir para a evolução do Pandas!\n",
        " - alta performance: Pandas é escrito em Python, Cython e C. Isso permite que os cientistas de dados consigam o utilizar para lidar com conjuntos de dados muito grandes (daqueles que o excel não conseguiria nem abrir) e fazer operações sobre esses dados com facilidade. Dessa forma, Pandas torna nosso trabalho melhor e mais fácil provendo ótima performânce.\n",
        " - estruturas de dados e análises de dados: o motivo pelo qual Pandas existe. Muitas vezes precisamos obter algo com significado de dados crus como documentos de textos, tabelas e etc. Pandas é capaz de lidar com esses tipos de dados para que possamos analisá-los.\n",
        "Em resumo, **Pandas fornece estrutura de dados especializadas e ferramentas para manipulação de dados**. Sua ótima performânce, facilidade de uso e comunidade dedicada são as principais razões de sua vasta adoção entre cientistas de dados. Vamos utilizá-lo!\n",
        "Se você está utilizando o Anaconda, já deve ter ele instalado. Senão, é possível achar os passos de instalação [neste link](https://pandas.pydata.org/). <br>\n",
        "\n",
        "\n",
        "### 3.3 Começando com Pandas\n",
        "\n",
        "#### 3.3.1 Como importá-lo?\n",
        "\n",
        "Por algum motivo, todo mundo importa o Pandas da mesma forma, como mostramos abaixo. Aproveitamos também para importar o Numpy, biblioteca que já apresentamos anteriormente."
      ]
    },
    {
      "cell_type": "code",
      "metadata": {
        "id": "7VlVmvOiLX5M"
      },
      "source": [
        "import pandas as pd\n",
        "import numpy as np"
      ],
      "execution_count": null,
      "outputs": []
    },
    {
      "cell_type": "markdown",
      "metadata": {
        "id": "p64Wlw-wLX5O"
      },
      "source": [
        "#### 3.3.2 Objetos do Pandas\n",
        "\n",
        "Existem 2 principais tipos de objetos no Pandas: as [*Series*](https://pandas.pydata.org/pandas-docs/stable/reference/api/pandas.Series.html#pandas.Series) e os *DataFrames*. As *Series* são sequências de uma dimensão  de elementos (pra ser mais específicos *ndarray*), todos do mesmo tipo de dados, com rótulos/índices (*labels*). São o objeto primário do Pandas, tudo vai funcionar baseado nelas. Pra criar um objeto do tipo *Series*, podemos fazer o seguinte:"
      ]
    },
    {
      "cell_type": "code",
      "metadata": {
        "id": "H7UXeqVnLX5P",
        "outputId": "67cc96ea-b395-4467-b18a-2b6d05bfe131"
      },
      "source": [
        "s = pd.Series([1, 3, 5, np.nan, 6, 8])\n",
        "s"
      ],
      "execution_count": null,
      "outputs": [
        {
          "output_type": "execute_result",
          "data": {
            "text/plain": [
              "0    1.0\n",
              "1    3.0\n",
              "2    5.0\n",
              "3    NaN\n",
              "4    6.0\n",
              "5    8.0\n",
              "dtype: float64"
            ]
          },
          "metadata": {
            "tags": []
          },
          "execution_count": 30
        }
      ]
    },
    {
      "cell_type": "markdown",
      "metadata": {
        "id": "wVKpsC7JLX5R"
      },
      "source": [
        "Podemos ver acima que cada elemento da *Series* tem um rótulo relacionado. Esses rótulos podem ser tanto numéricos quanto de texto! Ao final do objeto temos a informação sobre o tipo de dados da *Series*: nesse caso, números *float64*. <br>\n",
        "O outro objeto principal do Pandas é o [*DataFrame*](https://pandas.pydata.org/pandas-docs/stable/reference/api/pandas.DataFrame.html#pandas.DataFrame), que é basicamente uma coleção de *Series* com rótulos em comum. O *DataFrame* é bem parecido com uma tabela de Excel, com seus índices e colunas. Tanto suas linhas quanto suas colunas tem rótulos, nos permitindo acessar qualquer célula pela sua coordenada. Há diversas formas de criar um *DataFrame*, vamos começar com o mais simples:"
      ]
    },
    {
      "cell_type": "code",
      "metadata": {
        "id": "ynCHdNzwLX5S",
        "outputId": "1564c2ef-9b46-4ce2-d872-351c64b71eec"
      },
      "source": [
        "dates = pd.date_range('20130101', periods=6) #estamos criando uma lista de datas entre 01/01/2013 e 06/01/2013. Note que estamos usando uma função do Pandas\n",
        "df = pd.DataFrame(\n",
        "    np.random.randn(6, 4), #apenas números aleatórios nas células\n",
        "    index=dates,  #especificando quais são os índices. Eles aceitam até datas como índice! Isso é muito bom para lidar com dados seriados no tempo\n",
        "    columns=list('ABCD')) #especificando como quero que sejam os nomes das colunas passando uma lista de letras\n",
        "df"
      ],
      "execution_count": null,
      "outputs": [
        {
          "output_type": "execute_result",
          "data": {
            "text/html": [
              "<div>\n",
              "<style scoped>\n",
              "    .dataframe tbody tr th:only-of-type {\n",
              "        vertical-align: middle;\n",
              "    }\n",
              "\n",
              "    .dataframe tbody tr th {\n",
              "        vertical-align: top;\n",
              "    }\n",
              "\n",
              "    .dataframe thead th {\n",
              "        text-align: right;\n",
              "    }\n",
              "</style>\n",
              "<table border=\"1\" class=\"dataframe\">\n",
              "  <thead>\n",
              "    <tr style=\"text-align: right;\">\n",
              "      <th></th>\n",
              "      <th>A</th>\n",
              "      <th>B</th>\n",
              "      <th>C</th>\n",
              "      <th>D</th>\n",
              "    </tr>\n",
              "  </thead>\n",
              "  <tbody>\n",
              "    <tr>\n",
              "      <td>2013-01-01</td>\n",
              "      <td>-0.455710</td>\n",
              "      <td>0.624624</td>\n",
              "      <td>1.892776</td>\n",
              "      <td>0.509263</td>\n",
              "    </tr>\n",
              "    <tr>\n",
              "      <td>2013-01-02</td>\n",
              "      <td>-0.992732</td>\n",
              "      <td>-1.268325</td>\n",
              "      <td>0.925892</td>\n",
              "      <td>1.107513</td>\n",
              "    </tr>\n",
              "    <tr>\n",
              "      <td>2013-01-03</td>\n",
              "      <td>-0.167113</td>\n",
              "      <td>1.325625</td>\n",
              "      <td>-1.873007</td>\n",
              "      <td>-0.931289</td>\n",
              "    </tr>\n",
              "    <tr>\n",
              "      <td>2013-01-04</td>\n",
              "      <td>-0.335453</td>\n",
              "      <td>1.422685</td>\n",
              "      <td>0.215810</td>\n",
              "      <td>-0.292181</td>\n",
              "    </tr>\n",
              "    <tr>\n",
              "      <td>2013-01-05</td>\n",
              "      <td>-1.364211</td>\n",
              "      <td>0.018419</td>\n",
              "      <td>-1.518015</td>\n",
              "      <td>0.567646</td>\n",
              "    </tr>\n",
              "    <tr>\n",
              "      <td>2013-01-06</td>\n",
              "      <td>0.902999</td>\n",
              "      <td>-0.879717</td>\n",
              "      <td>-1.276829</td>\n",
              "      <td>-0.175295</td>\n",
              "    </tr>\n",
              "  </tbody>\n",
              "</table>\n",
              "</div>"
            ],
            "text/plain": [
              "                   A         B         C         D\n",
              "2013-01-01 -0.455710  0.624624  1.892776  0.509263\n",
              "2013-01-02 -0.992732 -1.268325  0.925892  1.107513\n",
              "2013-01-03 -0.167113  1.325625 -1.873007 -0.931289\n",
              "2013-01-04 -0.335453  1.422685  0.215810 -0.292181\n",
              "2013-01-05 -1.364211  0.018419 -1.518015  0.567646\n",
              "2013-01-06  0.902999 -0.879717 -1.276829 -0.175295"
            ]
          },
          "metadata": {
            "tags": []
          },
          "execution_count": 31
        }
      ]
    },
    {
      "cell_type": "markdown",
      "metadata": {
        "id": "XvHdOWdQLX5W"
      },
      "source": [
        "Isso é um *DataFrame*! Uma coisa boa do Pandas com o Jupyter Notebook é que eles mostram o *DataFrame* de uma forma bastante amigável. Agora que sabemos sobre as duas principais estruturas de dados do Pandas, podemos aprender sobre os principais métodos e funcionalidades dessa biblioteca, e para isso vamos utilizar dados reais sobre um das marcas mais conhecidas dos desenhos e videogames :)\n",
        "\n",
        "Observação: um *DataFrame* pode ser visto como um dicionário de listas.\n",
        "\n",
        "#### 3.3.3 Carregando o conjunto de dados\n",
        "\n",
        "Um dos tipos de dados mais comuns para se guardar arquivos são os CSVs. O Pandas tem diversas funções para transformar os mais variados tipos de arquivos em *DataFrames*, como csv, excel, json e etc. Nesse exemplo, vamos usar o [leitor de csv](https://pandas.pydata.org/pandas-docs/stable/reference/api/pandas.read_csv.html)."
      ]
    },
    {
      "cell_type": "code",
      "metadata": {
        "id": "w7oS3_6pLX5W"
      },
      "source": [
        "pkmn = pd.read_csv(\n",
        "    './dados/aula_1_pokemon.csv', #o caminho para o arquivo que se quer ler\n",
        "    sep=',') #o caracter utilizado para separar os valores"
      ],
      "execution_count": null,
      "outputs": []
    },
    {
      "cell_type": "markdown",
      "metadata": {
        "id": "nUyt6IukLX5Y"
      },
      "source": [
        "#### 3.3.4 Visualizações iniciais\n",
        "Ótimo! Acabamos de criar um *DataFrame* a partir de um arquivo csv. Mas como gostamos de verificar as coisas, seria interessante saber algumas coisas como o que os dados contêm, como é, se tem valores nulos e etc. O Pandas tem 4 métodos principais para isso:"
      ]
    },
    {
      "cell_type": "code",
      "metadata": {
        "id": "CoZhEaBjLX5Z",
        "outputId": "62d704ff-5280-43ef-ccd2-401ee830d08c"
      },
      "source": [
        "pkmn.info()"
      ],
      "execution_count": null,
      "outputs": [
        {
          "output_type": "stream",
          "text": [
            "<class 'pandas.core.frame.DataFrame'>\n",
            "RangeIndex: 800 entries, 0 to 799\n",
            "Data columns (total 13 columns):\n",
            "#             800 non-null int64\n",
            "Name          800 non-null object\n",
            "Type 1        800 non-null object\n",
            "Type 2        414 non-null object\n",
            "Total         800 non-null int64\n",
            "HP            800 non-null int64\n",
            "Attack        800 non-null int64\n",
            "Defense       800 non-null int64\n",
            "Sp. Atk       800 non-null int64\n",
            "Sp. Def       800 non-null int64\n",
            "Speed         800 non-null int64\n",
            "Generation    800 non-null int64\n",
            "Legendary     800 non-null bool\n",
            "dtypes: bool(1), int64(9), object(3)\n",
            "memory usage: 75.9+ KB\n"
          ],
          "name": "stdout"
        }
      ]
    },
    {
      "cell_type": "markdown",
      "metadata": {
        "id": "Dg1fKBHNLX5b"
      },
      "source": [
        "A primeira coisa que gosto de fazer após ler um conjunto de dados em um *DataFrame* é utilizar o método *info()*. Ele mostra informações como:\n",
        " - a classe do objeto criado\n",
        " - o intervalo do índice e quantas linhas de dados se tem\n",
        " - as colunas, seus nomes e tipos de dado\n",
        " - quais os tipos de dados presentes no *DataFrame* e quantas colunas de cada\n",
        " - a quantidade de memória utilizada pelo computador para guardar esses dados\n",
        "\n",
        "Podemos ver que temos uma base sobre Pokémon, com 800 linhas com índices númericos de 0 a 799, 13 colunas de três tipos de dados diferentes, usando cerca de ~76kB de memória RAM. As informações presentes sobre os Pokémons são o número, o nome, o tipo (alguns tem subtipo, mas não todos, por isso dos dados faltantes na coluna *Type 2*), estatísticas de ataque, defesa e velocidade, a geração e a indicação se ele é lendário (como uma espécie mística). <br> Todas essas informações a gente conseguiu descobrir com apenas uma linha de código! Vamos então ver como o *DataFrame* realmente é. Temos dois métodos para isso:"
      ]
    },
    {
      "cell_type": "code",
      "metadata": {
        "id": "2mLnl48oLX5b",
        "outputId": "dcd50c31-20a6-4e9c-88ef-e3c72906f650"
      },
      "source": [
        "pkmn.head()"
      ],
      "execution_count": null,
      "outputs": [
        {
          "output_type": "execute_result",
          "data": {
            "text/html": [
              "<div>\n",
              "<style scoped>\n",
              "    .dataframe tbody tr th:only-of-type {\n",
              "        vertical-align: middle;\n",
              "    }\n",
              "\n",
              "    .dataframe tbody tr th {\n",
              "        vertical-align: top;\n",
              "    }\n",
              "\n",
              "    .dataframe thead th {\n",
              "        text-align: right;\n",
              "    }\n",
              "</style>\n",
              "<table border=\"1\" class=\"dataframe\">\n",
              "  <thead>\n",
              "    <tr style=\"text-align: right;\">\n",
              "      <th></th>\n",
              "      <th>#</th>\n",
              "      <th>Name</th>\n",
              "      <th>Type 1</th>\n",
              "      <th>Type 2</th>\n",
              "      <th>Total</th>\n",
              "      <th>HP</th>\n",
              "      <th>Attack</th>\n",
              "      <th>Defense</th>\n",
              "      <th>Sp. Atk</th>\n",
              "      <th>Sp. Def</th>\n",
              "      <th>Speed</th>\n",
              "      <th>Generation</th>\n",
              "      <th>Legendary</th>\n",
              "    </tr>\n",
              "  </thead>\n",
              "  <tbody>\n",
              "    <tr>\n",
              "      <td>0</td>\n",
              "      <td>1</td>\n",
              "      <td>Bulbasaur</td>\n",
              "      <td>Grass</td>\n",
              "      <td>Poison</td>\n",
              "      <td>318</td>\n",
              "      <td>45</td>\n",
              "      <td>49</td>\n",
              "      <td>49</td>\n",
              "      <td>65</td>\n",
              "      <td>65</td>\n",
              "      <td>45</td>\n",
              "      <td>1</td>\n",
              "      <td>False</td>\n",
              "    </tr>\n",
              "    <tr>\n",
              "      <td>1</td>\n",
              "      <td>2</td>\n",
              "      <td>Ivysaur</td>\n",
              "      <td>Grass</td>\n",
              "      <td>Poison</td>\n",
              "      <td>405</td>\n",
              "      <td>60</td>\n",
              "      <td>62</td>\n",
              "      <td>63</td>\n",
              "      <td>80</td>\n",
              "      <td>80</td>\n",
              "      <td>60</td>\n",
              "      <td>1</td>\n",
              "      <td>False</td>\n",
              "    </tr>\n",
              "    <tr>\n",
              "      <td>2</td>\n",
              "      <td>3</td>\n",
              "      <td>Venusaur</td>\n",
              "      <td>Grass</td>\n",
              "      <td>Poison</td>\n",
              "      <td>525</td>\n",
              "      <td>80</td>\n",
              "      <td>82</td>\n",
              "      <td>83</td>\n",
              "      <td>100</td>\n",
              "      <td>100</td>\n",
              "      <td>80</td>\n",
              "      <td>1</td>\n",
              "      <td>False</td>\n",
              "    </tr>\n",
              "    <tr>\n",
              "      <td>3</td>\n",
              "      <td>3</td>\n",
              "      <td>VenusaurMega Venusaur</td>\n",
              "      <td>Grass</td>\n",
              "      <td>Poison</td>\n",
              "      <td>625</td>\n",
              "      <td>80</td>\n",
              "      <td>100</td>\n",
              "      <td>123</td>\n",
              "      <td>122</td>\n",
              "      <td>120</td>\n",
              "      <td>80</td>\n",
              "      <td>1</td>\n",
              "      <td>False</td>\n",
              "    </tr>\n",
              "    <tr>\n",
              "      <td>4</td>\n",
              "      <td>4</td>\n",
              "      <td>Charmander</td>\n",
              "      <td>Fire</td>\n",
              "      <td>NaN</td>\n",
              "      <td>309</td>\n",
              "      <td>39</td>\n",
              "      <td>52</td>\n",
              "      <td>43</td>\n",
              "      <td>60</td>\n",
              "      <td>50</td>\n",
              "      <td>65</td>\n",
              "      <td>1</td>\n",
              "      <td>False</td>\n",
              "    </tr>\n",
              "  </tbody>\n",
              "</table>\n",
              "</div>"
            ],
            "text/plain": [
              "   #                   Name Type 1  Type 2  Total  HP  Attack  Defense  \\\n",
              "0  1              Bulbasaur  Grass  Poison    318  45      49       49   \n",
              "1  2                Ivysaur  Grass  Poison    405  60      62       63   \n",
              "2  3               Venusaur  Grass  Poison    525  80      82       83   \n",
              "3  3  VenusaurMega Venusaur  Grass  Poison    625  80     100      123   \n",
              "4  4             Charmander   Fire     NaN    309  39      52       43   \n",
              "\n",
              "   Sp. Atk  Sp. Def  Speed  Generation  Legendary  \n",
              "0       65       65     45           1      False  \n",
              "1       80       80     60           1      False  \n",
              "2      100      100     80           1      False  \n",
              "3      122      120     80           1      False  \n",
              "4       60       50     65           1      False  "
            ]
          },
          "metadata": {
            "tags": []
          },
          "execution_count": 34
        }
      ]
    },
    {
      "cell_type": "code",
      "metadata": {
        "id": "EDYrzrqWLX5e",
        "outputId": "18f3c525-74e0-4ec2-bf9c-d0c5c306aa59"
      },
      "source": [
        "pkmn.tail()"
      ],
      "execution_count": null,
      "outputs": [
        {
          "output_type": "execute_result",
          "data": {
            "text/html": [
              "<div>\n",
              "<style scoped>\n",
              "    .dataframe tbody tr th:only-of-type {\n",
              "        vertical-align: middle;\n",
              "    }\n",
              "\n",
              "    .dataframe tbody tr th {\n",
              "        vertical-align: top;\n",
              "    }\n",
              "\n",
              "    .dataframe thead th {\n",
              "        text-align: right;\n",
              "    }\n",
              "</style>\n",
              "<table border=\"1\" class=\"dataframe\">\n",
              "  <thead>\n",
              "    <tr style=\"text-align: right;\">\n",
              "      <th></th>\n",
              "      <th>#</th>\n",
              "      <th>Name</th>\n",
              "      <th>Type 1</th>\n",
              "      <th>Type 2</th>\n",
              "      <th>Total</th>\n",
              "      <th>HP</th>\n",
              "      <th>Attack</th>\n",
              "      <th>Defense</th>\n",
              "      <th>Sp. Atk</th>\n",
              "      <th>Sp. Def</th>\n",
              "      <th>Speed</th>\n",
              "      <th>Generation</th>\n",
              "      <th>Legendary</th>\n",
              "    </tr>\n",
              "  </thead>\n",
              "  <tbody>\n",
              "    <tr>\n",
              "      <td>795</td>\n",
              "      <td>719</td>\n",
              "      <td>Diancie</td>\n",
              "      <td>Rock</td>\n",
              "      <td>Fairy</td>\n",
              "      <td>600</td>\n",
              "      <td>50</td>\n",
              "      <td>100</td>\n",
              "      <td>150</td>\n",
              "      <td>100</td>\n",
              "      <td>150</td>\n",
              "      <td>50</td>\n",
              "      <td>6</td>\n",
              "      <td>True</td>\n",
              "    </tr>\n",
              "    <tr>\n",
              "      <td>796</td>\n",
              "      <td>719</td>\n",
              "      <td>DiancieMega Diancie</td>\n",
              "      <td>Rock</td>\n",
              "      <td>Fairy</td>\n",
              "      <td>700</td>\n",
              "      <td>50</td>\n",
              "      <td>160</td>\n",
              "      <td>110</td>\n",
              "      <td>160</td>\n",
              "      <td>110</td>\n",
              "      <td>110</td>\n",
              "      <td>6</td>\n",
              "      <td>True</td>\n",
              "    </tr>\n",
              "    <tr>\n",
              "      <td>797</td>\n",
              "      <td>720</td>\n",
              "      <td>HoopaHoopa Confined</td>\n",
              "      <td>Psychic</td>\n",
              "      <td>Ghost</td>\n",
              "      <td>600</td>\n",
              "      <td>80</td>\n",
              "      <td>110</td>\n",
              "      <td>60</td>\n",
              "      <td>150</td>\n",
              "      <td>130</td>\n",
              "      <td>70</td>\n",
              "      <td>6</td>\n",
              "      <td>True</td>\n",
              "    </tr>\n",
              "    <tr>\n",
              "      <td>798</td>\n",
              "      <td>720</td>\n",
              "      <td>HoopaHoopa Unbound</td>\n",
              "      <td>Psychic</td>\n",
              "      <td>Dark</td>\n",
              "      <td>680</td>\n",
              "      <td>80</td>\n",
              "      <td>160</td>\n",
              "      <td>60</td>\n",
              "      <td>170</td>\n",
              "      <td>130</td>\n",
              "      <td>80</td>\n",
              "      <td>6</td>\n",
              "      <td>True</td>\n",
              "    </tr>\n",
              "    <tr>\n",
              "      <td>799</td>\n",
              "      <td>721</td>\n",
              "      <td>Volcanion</td>\n",
              "      <td>Fire</td>\n",
              "      <td>Water</td>\n",
              "      <td>600</td>\n",
              "      <td>80</td>\n",
              "      <td>110</td>\n",
              "      <td>120</td>\n",
              "      <td>130</td>\n",
              "      <td>90</td>\n",
              "      <td>70</td>\n",
              "      <td>6</td>\n",
              "      <td>True</td>\n",
              "    </tr>\n",
              "  </tbody>\n",
              "</table>\n",
              "</div>"
            ],
            "text/plain": [
              "       #                 Name   Type 1 Type 2  Total  HP  Attack  Defense  \\\n",
              "795  719              Diancie     Rock  Fairy    600  50     100      150   \n",
              "796  719  DiancieMega Diancie     Rock  Fairy    700  50     160      110   \n",
              "797  720  HoopaHoopa Confined  Psychic  Ghost    600  80     110       60   \n",
              "798  720   HoopaHoopa Unbound  Psychic   Dark    680  80     160       60   \n",
              "799  721            Volcanion     Fire  Water    600  80     110      120   \n",
              "\n",
              "     Sp. Atk  Sp. Def  Speed  Generation  Legendary  \n",
              "795      100      150     50           6       True  \n",
              "796      160      110    110           6       True  \n",
              "797      150      130     70           6       True  \n",
              "798      170      130     80           6       True  \n",
              "799      130       90     70           6       True  "
            ]
          },
          "metadata": {
            "tags": []
          },
          "execution_count": 35
        }
      ]
    },
    {
      "cell_type": "markdown",
      "metadata": {
        "id": "VHNswkw9LX5g"
      },
      "source": [
        "O método *.head()* e *.tail()* mostram, respectivamente, as primeiras e últimas n linhas do *DataFrame* (por padrão, n=5, mas você pode passar qualquer número como parâmetro) mostrando os índices e os nomes das colunas como numa tabela."
      ]
    },
    {
      "cell_type": "code",
      "metadata": {
        "id": "Tla9Y9WmLX5h",
        "outputId": "ecce3acb-8096-4b8a-df1c-ae1c205b59cf"
      },
      "source": [
        "pkmn.describe()"
      ],
      "execution_count": null,
      "outputs": [
        {
          "output_type": "execute_result",
          "data": {
            "text/html": [
              "<div>\n",
              "<style scoped>\n",
              "    .dataframe tbody tr th:only-of-type {\n",
              "        vertical-align: middle;\n",
              "    }\n",
              "\n",
              "    .dataframe tbody tr th {\n",
              "        vertical-align: top;\n",
              "    }\n",
              "\n",
              "    .dataframe thead th {\n",
              "        text-align: right;\n",
              "    }\n",
              "</style>\n",
              "<table border=\"1\" class=\"dataframe\">\n",
              "  <thead>\n",
              "    <tr style=\"text-align: right;\">\n",
              "      <th></th>\n",
              "      <th>#</th>\n",
              "      <th>Total</th>\n",
              "      <th>HP</th>\n",
              "      <th>Attack</th>\n",
              "      <th>Defense</th>\n",
              "      <th>Sp. Atk</th>\n",
              "      <th>Sp. Def</th>\n",
              "      <th>Speed</th>\n",
              "      <th>Generation</th>\n",
              "    </tr>\n",
              "  </thead>\n",
              "  <tbody>\n",
              "    <tr>\n",
              "      <td>count</td>\n",
              "      <td>800.000000</td>\n",
              "      <td>800.00000</td>\n",
              "      <td>800.000000</td>\n",
              "      <td>800.000000</td>\n",
              "      <td>800.000000</td>\n",
              "      <td>800.000000</td>\n",
              "      <td>800.000000</td>\n",
              "      <td>800.000000</td>\n",
              "      <td>800.00000</td>\n",
              "    </tr>\n",
              "    <tr>\n",
              "      <td>mean</td>\n",
              "      <td>362.813750</td>\n",
              "      <td>435.10250</td>\n",
              "      <td>69.258750</td>\n",
              "      <td>79.001250</td>\n",
              "      <td>73.842500</td>\n",
              "      <td>72.820000</td>\n",
              "      <td>71.902500</td>\n",
              "      <td>68.277500</td>\n",
              "      <td>3.32375</td>\n",
              "    </tr>\n",
              "    <tr>\n",
              "      <td>std</td>\n",
              "      <td>208.343798</td>\n",
              "      <td>119.96304</td>\n",
              "      <td>25.534669</td>\n",
              "      <td>32.457366</td>\n",
              "      <td>31.183501</td>\n",
              "      <td>32.722294</td>\n",
              "      <td>27.828916</td>\n",
              "      <td>29.060474</td>\n",
              "      <td>1.66129</td>\n",
              "    </tr>\n",
              "    <tr>\n",
              "      <td>min</td>\n",
              "      <td>1.000000</td>\n",
              "      <td>180.00000</td>\n",
              "      <td>1.000000</td>\n",
              "      <td>5.000000</td>\n",
              "      <td>5.000000</td>\n",
              "      <td>10.000000</td>\n",
              "      <td>20.000000</td>\n",
              "      <td>5.000000</td>\n",
              "      <td>1.00000</td>\n",
              "    </tr>\n",
              "    <tr>\n",
              "      <td>25%</td>\n",
              "      <td>184.750000</td>\n",
              "      <td>330.00000</td>\n",
              "      <td>50.000000</td>\n",
              "      <td>55.000000</td>\n",
              "      <td>50.000000</td>\n",
              "      <td>49.750000</td>\n",
              "      <td>50.000000</td>\n",
              "      <td>45.000000</td>\n",
              "      <td>2.00000</td>\n",
              "    </tr>\n",
              "    <tr>\n",
              "      <td>50%</td>\n",
              "      <td>364.500000</td>\n",
              "      <td>450.00000</td>\n",
              "      <td>65.000000</td>\n",
              "      <td>75.000000</td>\n",
              "      <td>70.000000</td>\n",
              "      <td>65.000000</td>\n",
              "      <td>70.000000</td>\n",
              "      <td>65.000000</td>\n",
              "      <td>3.00000</td>\n",
              "    </tr>\n",
              "    <tr>\n",
              "      <td>75%</td>\n",
              "      <td>539.250000</td>\n",
              "      <td>515.00000</td>\n",
              "      <td>80.000000</td>\n",
              "      <td>100.000000</td>\n",
              "      <td>90.000000</td>\n",
              "      <td>95.000000</td>\n",
              "      <td>90.000000</td>\n",
              "      <td>90.000000</td>\n",
              "      <td>5.00000</td>\n",
              "    </tr>\n",
              "    <tr>\n",
              "      <td>max</td>\n",
              "      <td>721.000000</td>\n",
              "      <td>780.00000</td>\n",
              "      <td>255.000000</td>\n",
              "      <td>190.000000</td>\n",
              "      <td>230.000000</td>\n",
              "      <td>194.000000</td>\n",
              "      <td>230.000000</td>\n",
              "      <td>180.000000</td>\n",
              "      <td>6.00000</td>\n",
              "    </tr>\n",
              "  </tbody>\n",
              "</table>\n",
              "</div>"
            ],
            "text/plain": [
              "                #      Total          HP      Attack     Defense     Sp. Atk  \\\n",
              "count  800.000000  800.00000  800.000000  800.000000  800.000000  800.000000   \n",
              "mean   362.813750  435.10250   69.258750   79.001250   73.842500   72.820000   \n",
              "std    208.343798  119.96304   25.534669   32.457366   31.183501   32.722294   \n",
              "min      1.000000  180.00000    1.000000    5.000000    5.000000   10.000000   \n",
              "25%    184.750000  330.00000   50.000000   55.000000   50.000000   49.750000   \n",
              "50%    364.500000  450.00000   65.000000   75.000000   70.000000   65.000000   \n",
              "75%    539.250000  515.00000   80.000000  100.000000   90.000000   95.000000   \n",
              "max    721.000000  780.00000  255.000000  190.000000  230.000000  194.000000   \n",
              "\n",
              "          Sp. Def       Speed  Generation  \n",
              "count  800.000000  800.000000   800.00000  \n",
              "mean    71.902500   68.277500     3.32375  \n",
              "std     27.828916   29.060474     1.66129  \n",
              "min     20.000000    5.000000     1.00000  \n",
              "25%     50.000000   45.000000     2.00000  \n",
              "50%     70.000000   65.000000     3.00000  \n",
              "75%     90.000000   90.000000     5.00000  \n",
              "max    230.000000  180.000000     6.00000  "
            ]
          },
          "metadata": {
            "tags": []
          },
          "execution_count": 36
        }
      ]
    },
    {
      "cell_type": "markdown",
      "metadata": {
        "id": "dSsHro8ILX5j"
      },
      "source": [
        "Por fim, o método *.describe()* mostra um resumo estatístico de todas as colunas numéricas. É um método bom para ter uma ideia inicial sobre o que ocorre nas colunas de uma perspectiva estatística.\n",
        "\n",
        "#### Exercício 3.3 (9 Pontos)\n",
        "*Correção Binária: O aluno recebe todos os pontos caso cumpra todos os objetivos do exercicio (independente da lógica ou estilo da programação), caso contrário, recebe zero.*\n",
        "\n",
        "Use o arquivo de jogadores do FIFA Ultimate Team para os exercícios de Pandas. Caso você não conheça, o Ultimate Team (FUT) é um modo de jogo do FIFA onde você monta seu próprio time comprando jogadores do jogo. <br>\n",
        "Substitua os \\____ abaixo para ler o arquivo e siga as instruções para ter as visualizações iniciais."
      ]
    },
    {
      "cell_type": "code",
      "metadata": {
        "id": "orwU3ndxLX5l",
        "outputId": "1e5a6900-73e5-4681-e311-f97620b5b350"
      },
      "source": [
        "# leia o arquivo (tente abrir num editor de texto antes para verificar o separador)\n",
        "fut_players = pd.read_csv('./dados/aula_1_fut_players.csv', sep=',')\n",
        "\n",
        "# mostre as primeiras 10 linhas de dados\n",
        "fut_players.head(10)"
      ],
      "execution_count": null,
      "outputs": [
        {
          "output_type": "execute_result",
          "data": {
            "text/html": [
              "<div>\n",
              "<style scoped>\n",
              "    .dataframe tbody tr th:only-of-type {\n",
              "        vertical-align: middle;\n",
              "    }\n",
              "\n",
              "    .dataframe tbody tr th {\n",
              "        vertical-align: top;\n",
              "    }\n",
              "\n",
              "    .dataframe thead th {\n",
              "        text-align: right;\n",
              "    }\n",
              "</style>\n",
              "<table border=\"1\" class=\"dataframe\">\n",
              "  <thead>\n",
              "    <tr style=\"text-align: right;\">\n",
              "      <th></th>\n",
              "      <th>player_id</th>\n",
              "      <th>player_name</th>\n",
              "      <th>player_extended_name</th>\n",
              "      <th>quality</th>\n",
              "      <th>revision</th>\n",
              "      <th>origin</th>\n",
              "      <th>overall</th>\n",
              "      <th>club</th>\n",
              "      <th>league</th>\n",
              "      <th>nationality</th>\n",
              "      <th>...</th>\n",
              "      <th>cam</th>\n",
              "      <th>cf</th>\n",
              "      <th>rf</th>\n",
              "      <th>lf</th>\n",
              "      <th>rw</th>\n",
              "      <th>lw</th>\n",
              "      <th>st</th>\n",
              "      <th>traits</th>\n",
              "      <th>specialities</th>\n",
              "      <th>base_id</th>\n",
              "    </tr>\n",
              "  </thead>\n",
              "  <tbody>\n",
              "    <tr>\n",
              "      <td>0</td>\n",
              "      <td>1</td>\n",
              "      <td>Pelé</td>\n",
              "      <td>Arantes Nascimento Edson</td>\n",
              "      <td>Gold - Rare</td>\n",
              "      <td>Icon</td>\n",
              "      <td>Prime</td>\n",
              "      <td>98</td>\n",
              "      <td>Icons</td>\n",
              "      <td>Icons</td>\n",
              "      <td>Brazil</td>\n",
              "      <td>...</td>\n",
              "      <td>96.0</td>\n",
              "      <td>96.0</td>\n",
              "      <td>96.0</td>\n",
              "      <td>96.0</td>\n",
              "      <td>96.0</td>\n",
              "      <td>96.0</td>\n",
              "      <td>95.0</td>\n",
              "      <td>Finesse Shot</td>\n",
              "      <td>Speedster, Aerial Threat, Dribbler, Play Maker...</td>\n",
              "      <td>237067</td>\n",
              "    </tr>\n",
              "    <tr>\n",
              "      <td>1</td>\n",
              "      <td>2</td>\n",
              "      <td>Maradona</td>\n",
              "      <td>Diego Maradona</td>\n",
              "      <td>Gold - Rare</td>\n",
              "      <td>Icon</td>\n",
              "      <td>Prime</td>\n",
              "      <td>97</td>\n",
              "      <td>Icons</td>\n",
              "      <td>Icons</td>\n",
              "      <td>Argentina</td>\n",
              "      <td>...</td>\n",
              "      <td>95.0</td>\n",
              "      <td>94.0</td>\n",
              "      <td>94.0</td>\n",
              "      <td>94.0</td>\n",
              "      <td>94.0</td>\n",
              "      <td>94.0</td>\n",
              "      <td>90.0</td>\n",
              "      <td>Avoids Using Weaker Foot, Finesse Shot, Flair,...</td>\n",
              "      <td>Speedster, Dribbler, Play Maker, Distance Shoo...</td>\n",
              "      <td>190042</td>\n",
              "    </tr>\n",
              "    <tr>\n",
              "      <td>2</td>\n",
              "      <td>3</td>\n",
              "      <td>Ronaldo</td>\n",
              "      <td>Nazário de Lima Ronaldo Luís</td>\n",
              "      <td>Gold - Rare</td>\n",
              "      <td>Icon</td>\n",
              "      <td>Prime</td>\n",
              "      <td>96</td>\n",
              "      <td>Icons</td>\n",
              "      <td>Icons</td>\n",
              "      <td>Brazil</td>\n",
              "      <td>...</td>\n",
              "      <td>91.0</td>\n",
              "      <td>94.0</td>\n",
              "      <td>94.0</td>\n",
              "      <td>94.0</td>\n",
              "      <td>92.0</td>\n",
              "      <td>92.0</td>\n",
              "      <td>94.0</td>\n",
              "      <td>Tries To Beat Defensive Line, Finesse Shot</td>\n",
              "      <td>Speedster, Dribbler, Distance Shooter, FK Spec...</td>\n",
              "      <td>37576</td>\n",
              "    </tr>\n",
              "    <tr>\n",
              "      <td>3</td>\n",
              "      <td>4</td>\n",
              "      <td>Pelé</td>\n",
              "      <td>Arantes Nascimento Edson</td>\n",
              "      <td>Gold - Rare</td>\n",
              "      <td>Icon</td>\n",
              "      <td>Medium</td>\n",
              "      <td>95</td>\n",
              "      <td>Icons</td>\n",
              "      <td>Icons</td>\n",
              "      <td>Brazil</td>\n",
              "      <td>...</td>\n",
              "      <td>93.0</td>\n",
              "      <td>94.0</td>\n",
              "      <td>94.0</td>\n",
              "      <td>94.0</td>\n",
              "      <td>94.0</td>\n",
              "      <td>94.0</td>\n",
              "      <td>92.0</td>\n",
              "      <td>Finesse Shot</td>\n",
              "      <td>Speedster, Dribbler, Distance Shooter, Crosser...</td>\n",
              "      <td>237068</td>\n",
              "    </tr>\n",
              "    <tr>\n",
              "      <td>4</td>\n",
              "      <td>5</td>\n",
              "      <td>Maradona</td>\n",
              "      <td>Diego Maradona</td>\n",
              "      <td>Gold - Rare</td>\n",
              "      <td>Icon</td>\n",
              "      <td>Medium</td>\n",
              "      <td>95</td>\n",
              "      <td>Icons</td>\n",
              "      <td>Icons</td>\n",
              "      <td>Argentina</td>\n",
              "      <td>...</td>\n",
              "      <td>93.0</td>\n",
              "      <td>92.0</td>\n",
              "      <td>92.0</td>\n",
              "      <td>92.0</td>\n",
              "      <td>92.0</td>\n",
              "      <td>92.0</td>\n",
              "      <td>88.0</td>\n",
              "      <td>Avoids Using Weaker Foot, Finesse Shot, Flair,...</td>\n",
              "      <td>Dribbler, Play Maker, Distance Shooter, Crosse...</td>\n",
              "      <td>237074</td>\n",
              "    </tr>\n",
              "    <tr>\n",
              "      <td>5</td>\n",
              "      <td>6</td>\n",
              "      <td>Maldini</td>\n",
              "      <td>Paolo Maldini</td>\n",
              "      <td>Gold - Rare</td>\n",
              "      <td>Icon</td>\n",
              "      <td>Prime</td>\n",
              "      <td>94</td>\n",
              "      <td>Icons</td>\n",
              "      <td>Icons</td>\n",
              "      <td>Italy</td>\n",
              "      <td>...</td>\n",
              "      <td>70.0</td>\n",
              "      <td>68.0</td>\n",
              "      <td>68.0</td>\n",
              "      <td>68.0</td>\n",
              "      <td>69.0</td>\n",
              "      <td>69.0</td>\n",
              "      <td>70.0</td>\n",
              "      <td>Team Player</td>\n",
              "      <td>Aerial Threat, Tackler, Tactician, Complete De...</td>\n",
              "      <td>238439</td>\n",
              "    </tr>\n",
              "    <tr>\n",
              "      <td>6</td>\n",
              "      <td>7</td>\n",
              "      <td>Ronaldo</td>\n",
              "      <td>Nazário de Lima Ronaldo Luís</td>\n",
              "      <td>Gold - Rare</td>\n",
              "      <td>Icon</td>\n",
              "      <td>Medium</td>\n",
              "      <td>94</td>\n",
              "      <td>Icons</td>\n",
              "      <td>Icons</td>\n",
              "      <td>Brazil</td>\n",
              "      <td>...</td>\n",
              "      <td>90.0</td>\n",
              "      <td>92.0</td>\n",
              "      <td>92.0</td>\n",
              "      <td>92.0</td>\n",
              "      <td>91.0</td>\n",
              "      <td>91.0</td>\n",
              "      <td>92.0</td>\n",
              "      <td>Finesse Shot</td>\n",
              "      <td>Speedster, Dribbler, Distance Shooter, FK Spec...</td>\n",
              "      <td>237064</td>\n",
              "    </tr>\n",
              "    <tr>\n",
              "      <td>7</td>\n",
              "      <td>8</td>\n",
              "      <td>Yashin</td>\n",
              "      <td>Lev Yashin</td>\n",
              "      <td>Gold - Rare</td>\n",
              "      <td>Icon</td>\n",
              "      <td>Prime</td>\n",
              "      <td>94</td>\n",
              "      <td>Icons</td>\n",
              "      <td>Icons</td>\n",
              "      <td>Russia</td>\n",
              "      <td>...</td>\n",
              "      <td>NaN</td>\n",
              "      <td>NaN</td>\n",
              "      <td>NaN</td>\n",
              "      <td>NaN</td>\n",
              "      <td>NaN</td>\n",
              "      <td>NaN</td>\n",
              "      <td>NaN</td>\n",
              "      <td>Puncher, Team Player</td>\n",
              "      <td>NaN</td>\n",
              "      <td>238380</td>\n",
              "    </tr>\n",
              "    <tr>\n",
              "      <td>8</td>\n",
              "      <td>9</td>\n",
              "      <td>Ronaldinho</td>\n",
              "      <td>de Assis Moreira Ronaldo</td>\n",
              "      <td>Gold - Rare</td>\n",
              "      <td>Icon</td>\n",
              "      <td>Prime</td>\n",
              "      <td>94</td>\n",
              "      <td>Icons</td>\n",
              "      <td>Icons</td>\n",
              "      <td>Brazil</td>\n",
              "      <td>...</td>\n",
              "      <td>93.0</td>\n",
              "      <td>92.0</td>\n",
              "      <td>92.0</td>\n",
              "      <td>92.0</td>\n",
              "      <td>93.0</td>\n",
              "      <td>93.0</td>\n",
              "      <td>88.0</td>\n",
              "      <td>Finesse Shot, Flair</td>\n",
              "      <td>Speedster, Dribbler, Distance Shooter, Crosser...</td>\n",
              "      <td>28130</td>\n",
              "    </tr>\n",
              "    <tr>\n",
              "      <td>9</td>\n",
              "      <td>10</td>\n",
              "      <td>Van Basten</td>\n",
              "      <td>Marco van Basten</td>\n",
              "      <td>Gold - Rare</td>\n",
              "      <td>Icon</td>\n",
              "      <td>Prime</td>\n",
              "      <td>93</td>\n",
              "      <td>Icons</td>\n",
              "      <td>Icons</td>\n",
              "      <td>Holland</td>\n",
              "      <td>...</td>\n",
              "      <td>86.0</td>\n",
              "      <td>90.0</td>\n",
              "      <td>90.0</td>\n",
              "      <td>90.0</td>\n",
              "      <td>87.0</td>\n",
              "      <td>87.0</td>\n",
              "      <td>92.0</td>\n",
              "      <td>Finesse Shot, Team Player</td>\n",
              "      <td>Aerial Threat, Distance Shooter, Acrobat, Clin...</td>\n",
              "      <td>192181</td>\n",
              "    </tr>\n",
              "  </tbody>\n",
              "</table>\n",
              "<p>10 rows × 82 columns</p>\n",
              "</div>"
            ],
            "text/plain": [
              "   player_id player_name          player_extended_name      quality revision  \\\n",
              "0          1        Pelé      Arantes Nascimento Edson  Gold - Rare     Icon   \n",
              "1          2    Maradona                Diego Maradona  Gold - Rare     Icon   \n",
              "2          3     Ronaldo  Nazário de Lima Ronaldo Luís  Gold - Rare     Icon   \n",
              "3          4        Pelé      Arantes Nascimento Edson  Gold - Rare     Icon   \n",
              "4          5    Maradona                Diego Maradona  Gold - Rare     Icon   \n",
              "5          6     Maldini                 Paolo Maldini  Gold - Rare     Icon   \n",
              "6          7     Ronaldo  Nazário de Lima Ronaldo Luís  Gold - Rare     Icon   \n",
              "7          8      Yashin                    Lev Yashin  Gold - Rare     Icon   \n",
              "8          9  Ronaldinho      de Assis Moreira Ronaldo  Gold - Rare     Icon   \n",
              "9         10  Van Basten              Marco van Basten  Gold - Rare     Icon   \n",
              "\n",
              "   origin  overall   club league nationality  ...   cam    cf    rf    lf  \\\n",
              "0   Prime       98  Icons  Icons      Brazil  ...  96.0  96.0  96.0  96.0   \n",
              "1   Prime       97  Icons  Icons   Argentina  ...  95.0  94.0  94.0  94.0   \n",
              "2   Prime       96  Icons  Icons      Brazil  ...  91.0  94.0  94.0  94.0   \n",
              "3  Medium       95  Icons  Icons      Brazil  ...  93.0  94.0  94.0  94.0   \n",
              "4  Medium       95  Icons  Icons   Argentina  ...  93.0  92.0  92.0  92.0   \n",
              "5   Prime       94  Icons  Icons       Italy  ...  70.0  68.0  68.0  68.0   \n",
              "6  Medium       94  Icons  Icons      Brazil  ...  90.0  92.0  92.0  92.0   \n",
              "7   Prime       94  Icons  Icons      Russia  ...   NaN   NaN   NaN   NaN   \n",
              "8   Prime       94  Icons  Icons      Brazil  ...  93.0  92.0  92.0  92.0   \n",
              "9   Prime       93  Icons  Icons     Holland  ...  86.0  90.0  90.0  90.0   \n",
              "\n",
              "     rw    lw    st                                             traits  \\\n",
              "0  96.0  96.0  95.0                                       Finesse Shot   \n",
              "1  94.0  94.0  90.0  Avoids Using Weaker Foot, Finesse Shot, Flair,...   \n",
              "2  92.0  92.0  94.0         Tries To Beat Defensive Line, Finesse Shot   \n",
              "3  94.0  94.0  92.0                                       Finesse Shot   \n",
              "4  92.0  92.0  88.0  Avoids Using Weaker Foot, Finesse Shot, Flair,...   \n",
              "5  69.0  69.0  70.0                                        Team Player   \n",
              "6  91.0  91.0  92.0                                       Finesse Shot   \n",
              "7   NaN   NaN   NaN                               Puncher, Team Player   \n",
              "8  93.0  93.0  88.0                                Finesse Shot, Flair   \n",
              "9  87.0  87.0  92.0                          Finesse Shot, Team Player   \n",
              "\n",
              "                                        specialities  base_id  \n",
              "0  Speedster, Aerial Threat, Dribbler, Play Maker...   237067  \n",
              "1  Speedster, Dribbler, Play Maker, Distance Shoo...   190042  \n",
              "2  Speedster, Dribbler, Distance Shooter, FK Spec...    37576  \n",
              "3  Speedster, Dribbler, Distance Shooter, Crosser...   237068  \n",
              "4  Dribbler, Play Maker, Distance Shooter, Crosse...   237074  \n",
              "5  Aerial Threat, Tackler, Tactician, Complete De...   238439  \n",
              "6  Speedster, Dribbler, Distance Shooter, FK Spec...   237064  \n",
              "7                                                NaN   238380  \n",
              "8  Speedster, Dribbler, Distance Shooter, Crosser...    28130  \n",
              "9  Aerial Threat, Distance Shooter, Acrobat, Clin...   192181  \n",
              "\n",
              "[10 rows x 82 columns]"
            ]
          },
          "metadata": {
            "tags": []
          },
          "execution_count": 37
        }
      ]
    },
    {
      "cell_type": "code",
      "metadata": {
        "id": "rshJxhYGLX5n",
        "outputId": "c48a0fab-7380-4772-f6f7-5ca601ef681c"
      },
      "source": [
        "# mostre as últimas 10 linhas de dados\n",
        "fut_players.tail(10)"
      ],
      "execution_count": null,
      "outputs": [
        {
          "output_type": "execute_result",
          "data": {
            "text/html": [
              "<div>\n",
              "<style scoped>\n",
              "    .dataframe tbody tr th:only-of-type {\n",
              "        vertical-align: middle;\n",
              "    }\n",
              "\n",
              "    .dataframe tbody tr th {\n",
              "        vertical-align: top;\n",
              "    }\n",
              "\n",
              "    .dataframe thead th {\n",
              "        text-align: right;\n",
              "    }\n",
              "</style>\n",
              "<table border=\"1\" class=\"dataframe\">\n",
              "  <thead>\n",
              "    <tr style=\"text-align: right;\">\n",
              "      <th></th>\n",
              "      <th>player_id</th>\n",
              "      <th>player_name</th>\n",
              "      <th>player_extended_name</th>\n",
              "      <th>quality</th>\n",
              "      <th>revision</th>\n",
              "      <th>origin</th>\n",
              "      <th>overall</th>\n",
              "      <th>club</th>\n",
              "      <th>league</th>\n",
              "      <th>nationality</th>\n",
              "      <th>...</th>\n",
              "      <th>cam</th>\n",
              "      <th>cf</th>\n",
              "      <th>rf</th>\n",
              "      <th>lf</th>\n",
              "      <th>rw</th>\n",
              "      <th>lw</th>\n",
              "      <th>st</th>\n",
              "      <th>traits</th>\n",
              "      <th>specialities</th>\n",
              "      <th>base_id</th>\n",
              "    </tr>\n",
              "  </thead>\n",
              "  <tbody>\n",
              "    <tr>\n",
              "      <td>18821</td>\n",
              "      <td>19298</td>\n",
              "      <td>Angol</td>\n",
              "      <td>Lee Angol</td>\n",
              "      <td>Bronze - Rare</td>\n",
              "      <td>Normal</td>\n",
              "      <td>Transfers</td>\n",
              "      <td>63</td>\n",
              "      <td>Lincoln City</td>\n",
              "      <td>EFL League Two</td>\n",
              "      <td>England</td>\n",
              "      <td>...</td>\n",
              "      <td>60.0</td>\n",
              "      <td>61.0</td>\n",
              "      <td>61.0</td>\n",
              "      <td>61.0</td>\n",
              "      <td>61.0</td>\n",
              "      <td>61.0</td>\n",
              "      <td>62.0</td>\n",
              "      <td>Finesse Shot, Flair</td>\n",
              "      <td>NaN</td>\n",
              "      <td>210244</td>\n",
              "    </tr>\n",
              "    <tr>\n",
              "      <td>18822</td>\n",
              "      <td>19299</td>\n",
              "      <td>Mendoza Hansen</td>\n",
              "      <td>Kevin Ray Mendoza Hansen</td>\n",
              "      <td>Bronze</td>\n",
              "      <td>Normal</td>\n",
              "      <td>NaN</td>\n",
              "      <td>55</td>\n",
              "      <td>AC Horsens</td>\n",
              "      <td>Superliga</td>\n",
              "      <td>Philippines</td>\n",
              "      <td>...</td>\n",
              "      <td>NaN</td>\n",
              "      <td>NaN</td>\n",
              "      <td>NaN</td>\n",
              "      <td>NaN</td>\n",
              "      <td>NaN</td>\n",
              "      <td>NaN</td>\n",
              "      <td>NaN</td>\n",
              "      <td>NaN</td>\n",
              "      <td>NaN</td>\n",
              "      <td>215656</td>\n",
              "    </tr>\n",
              "    <tr>\n",
              "      <td>18823</td>\n",
              "      <td>19300</td>\n",
              "      <td>Piossek</td>\n",
              "      <td>Marcus Piossek</td>\n",
              "      <td>Silver</td>\n",
              "      <td>Normal</td>\n",
              "      <td>Transfers</td>\n",
              "      <td>66</td>\n",
              "      <td>SV Meppen</td>\n",
              "      <td>3. Liga</td>\n",
              "      <td>Poland</td>\n",
              "      <td>...</td>\n",
              "      <td>65.0</td>\n",
              "      <td>65.0</td>\n",
              "      <td>65.0</td>\n",
              "      <td>65.0</td>\n",
              "      <td>65.0</td>\n",
              "      <td>65.0</td>\n",
              "      <td>64.0</td>\n",
              "      <td>NaN</td>\n",
              "      <td>NaN</td>\n",
              "      <td>197148</td>\n",
              "    </tr>\n",
              "    <tr>\n",
              "      <td>18824</td>\n",
              "      <td>19301</td>\n",
              "      <td>Bingham</td>\n",
              "      <td>Rakish Bingham</td>\n",
              "      <td>Bronze</td>\n",
              "      <td>Normal</td>\n",
              "      <td>Transfers</td>\n",
              "      <td>62</td>\n",
              "      <td>Cheltenham Town</td>\n",
              "      <td>EFL League Two</td>\n",
              "      <td>England</td>\n",
              "      <td>...</td>\n",
              "      <td>58.0</td>\n",
              "      <td>60.0</td>\n",
              "      <td>60.0</td>\n",
              "      <td>60.0</td>\n",
              "      <td>60.0</td>\n",
              "      <td>60.0</td>\n",
              "      <td>61.0</td>\n",
              "      <td>NaN</td>\n",
              "      <td>NaN</td>\n",
              "      <td>209462</td>\n",
              "    </tr>\n",
              "    <tr>\n",
              "      <td>18825</td>\n",
              "      <td>19302</td>\n",
              "      <td>Gibson</td>\n",
              "      <td>Jordan Gibson</td>\n",
              "      <td>Bronze</td>\n",
              "      <td>Normal</td>\n",
              "      <td>Transfers</td>\n",
              "      <td>51</td>\n",
              "      <td>Stevenage</td>\n",
              "      <td>EFL League Two</td>\n",
              "      <td>England</td>\n",
              "      <td>...</td>\n",
              "      <td>48.0</td>\n",
              "      <td>50.0</td>\n",
              "      <td>50.0</td>\n",
              "      <td>50.0</td>\n",
              "      <td>51.0</td>\n",
              "      <td>51.0</td>\n",
              "      <td>50.0</td>\n",
              "      <td>NaN</td>\n",
              "      <td>NaN</td>\n",
              "      <td>240813</td>\n",
              "    </tr>\n",
              "    <tr>\n",
              "      <td>18826</td>\n",
              "      <td>19303</td>\n",
              "      <td>Shala</td>\n",
              "      <td>Herolind Shala</td>\n",
              "      <td>Silver</td>\n",
              "      <td>Normal</td>\n",
              "      <td>NaN</td>\n",
              "      <td>65</td>\n",
              "      <td>IK Start</td>\n",
              "      <td>Eliteserien</td>\n",
              "      <td>Norway</td>\n",
              "      <td>...</td>\n",
              "      <td>67.0</td>\n",
              "      <td>66.0</td>\n",
              "      <td>66.0</td>\n",
              "      <td>66.0</td>\n",
              "      <td>67.0</td>\n",
              "      <td>67.0</td>\n",
              "      <td>63.0</td>\n",
              "      <td>Speed Dribbler (CPU AI Only)</td>\n",
              "      <td>NaN</td>\n",
              "      <td>205423</td>\n",
              "    </tr>\n",
              "    <tr>\n",
              "      <td>18827</td>\n",
              "      <td>19304</td>\n",
              "      <td>Boyer</td>\n",
              "      <td>Fabien Boyer</td>\n",
              "      <td>Silver</td>\n",
              "      <td>Normal</td>\n",
              "      <td>NaN</td>\n",
              "      <td>65</td>\n",
              "      <td>Grenoble Foot 38</td>\n",
              "      <td>Domino’s Ligue 2</td>\n",
              "      <td>Madagascar</td>\n",
              "      <td>...</td>\n",
              "      <td>46.0</td>\n",
              "      <td>46.0</td>\n",
              "      <td>46.0</td>\n",
              "      <td>46.0</td>\n",
              "      <td>48.0</td>\n",
              "      <td>48.0</td>\n",
              "      <td>48.0</td>\n",
              "      <td>Injury Prone</td>\n",
              "      <td>NaN</td>\n",
              "      <td>208832</td>\n",
              "    </tr>\n",
              "    <tr>\n",
              "      <td>18828</td>\n",
              "      <td>19305</td>\n",
              "      <td>Arias</td>\n",
              "      <td>Jafar Arias</td>\n",
              "      <td>Silver</td>\n",
              "      <td>Normal</td>\n",
              "      <td>NaN</td>\n",
              "      <td>65</td>\n",
              "      <td>FC Emmen</td>\n",
              "      <td>Eredivisie</td>\n",
              "      <td>Curaçao</td>\n",
              "      <td>...</td>\n",
              "      <td>57.0</td>\n",
              "      <td>60.0</td>\n",
              "      <td>60.0</td>\n",
              "      <td>60.0</td>\n",
              "      <td>57.0</td>\n",
              "      <td>57.0</td>\n",
              "      <td>64.0</td>\n",
              "      <td>NaN</td>\n",
              "      <td>NaN</td>\n",
              "      <td>226122</td>\n",
              "    </tr>\n",
              "    <tr>\n",
              "      <td>18829</td>\n",
              "      <td>19306</td>\n",
              "      <td>Moses Ekpai</td>\n",
              "      <td>Ubong Moses Ekpai</td>\n",
              "      <td>Bronze</td>\n",
              "      <td>Normal</td>\n",
              "      <td>NaN</td>\n",
              "      <td>62</td>\n",
              "      <td>Viktoria Plzeň</td>\n",
              "      <td>Česká Liga</td>\n",
              "      <td>Nigeria</td>\n",
              "      <td>...</td>\n",
              "      <td>60.0</td>\n",
              "      <td>63.0</td>\n",
              "      <td>63.0</td>\n",
              "      <td>63.0</td>\n",
              "      <td>62.0</td>\n",
              "      <td>62.0</td>\n",
              "      <td>62.0</td>\n",
              "      <td>NaN</td>\n",
              "      <td>NaN</td>\n",
              "      <td>244790</td>\n",
              "    </tr>\n",
              "    <tr>\n",
              "      <td>18830</td>\n",
              "      <td>19307</td>\n",
              "      <td>Diallo</td>\n",
              "      <td>Amadou Tidiane Diallo</td>\n",
              "      <td>Bronze</td>\n",
              "      <td>Normal</td>\n",
              "      <td>NaN</td>\n",
              "      <td>60</td>\n",
              "      <td>Red Star FC</td>\n",
              "      <td>Domino’s Ligue 2</td>\n",
              "      <td>Guinea</td>\n",
              "      <td>...</td>\n",
              "      <td>58.0</td>\n",
              "      <td>58.0</td>\n",
              "      <td>58.0</td>\n",
              "      <td>58.0</td>\n",
              "      <td>59.0</td>\n",
              "      <td>59.0</td>\n",
              "      <td>57.0</td>\n",
              "      <td>NaN</td>\n",
              "      <td>NaN</td>\n",
              "      <td>233902</td>\n",
              "    </tr>\n",
              "  </tbody>\n",
              "</table>\n",
              "<p>10 rows × 82 columns</p>\n",
              "</div>"
            ],
            "text/plain": [
              "       player_id     player_name      player_extended_name        quality  \\\n",
              "18821      19298           Angol                 Lee Angol  Bronze - Rare   \n",
              "18822      19299  Mendoza Hansen  Kevin Ray Mendoza Hansen         Bronze   \n",
              "18823      19300         Piossek            Marcus Piossek         Silver   \n",
              "18824      19301         Bingham            Rakish Bingham         Bronze   \n",
              "18825      19302          Gibson             Jordan Gibson         Bronze   \n",
              "18826      19303           Shala            Herolind Shala         Silver   \n",
              "18827      19304           Boyer              Fabien Boyer         Silver   \n",
              "18828      19305           Arias               Jafar Arias         Silver   \n",
              "18829      19306     Moses Ekpai         Ubong Moses Ekpai         Bronze   \n",
              "18830      19307          Diallo     Amadou Tidiane Diallo         Bronze   \n",
              "\n",
              "      revision     origin  overall              club            league  \\\n",
              "18821   Normal  Transfers       63      Lincoln City    EFL League Two   \n",
              "18822   Normal        NaN       55        AC Horsens         Superliga   \n",
              "18823   Normal  Transfers       66         SV Meppen           3. Liga   \n",
              "18824   Normal  Transfers       62   Cheltenham Town    EFL League Two   \n",
              "18825   Normal  Transfers       51         Stevenage    EFL League Two   \n",
              "18826   Normal        NaN       65          IK Start       Eliteserien   \n",
              "18827   Normal        NaN       65  Grenoble Foot 38  Domino’s Ligue 2   \n",
              "18828   Normal        NaN       65          FC Emmen        Eredivisie   \n",
              "18829   Normal        NaN       62    Viktoria Plzeň        Česká Liga   \n",
              "18830   Normal        NaN       60       Red Star FC  Domino’s Ligue 2   \n",
              "\n",
              "       nationality  ...   cam    cf    rf    lf    rw    lw    st  \\\n",
              "18821      England  ...  60.0  61.0  61.0  61.0  61.0  61.0  62.0   \n",
              "18822  Philippines  ...   NaN   NaN   NaN   NaN   NaN   NaN   NaN   \n",
              "18823       Poland  ...  65.0  65.0  65.0  65.0  65.0  65.0  64.0   \n",
              "18824      England  ...  58.0  60.0  60.0  60.0  60.0  60.0  61.0   \n",
              "18825      England  ...  48.0  50.0  50.0  50.0  51.0  51.0  50.0   \n",
              "18826       Norway  ...  67.0  66.0  66.0  66.0  67.0  67.0  63.0   \n",
              "18827   Madagascar  ...  46.0  46.0  46.0  46.0  48.0  48.0  48.0   \n",
              "18828      Curaçao  ...  57.0  60.0  60.0  60.0  57.0  57.0  64.0   \n",
              "18829      Nigeria  ...  60.0  63.0  63.0  63.0  62.0  62.0  62.0   \n",
              "18830       Guinea  ...  58.0  58.0  58.0  58.0  59.0  59.0  57.0   \n",
              "\n",
              "                             traits  specialities  base_id  \n",
              "18821           Finesse Shot, Flair           NaN   210244  \n",
              "18822                           NaN           NaN   215656  \n",
              "18823                           NaN           NaN   197148  \n",
              "18824                           NaN           NaN   209462  \n",
              "18825                           NaN           NaN   240813  \n",
              "18826  Speed Dribbler (CPU AI Only)           NaN   205423  \n",
              "18827                  Injury Prone           NaN   208832  \n",
              "18828                           NaN           NaN   226122  \n",
              "18829                           NaN           NaN   244790  \n",
              "18830                           NaN           NaN   233902  \n",
              "\n",
              "[10 rows x 82 columns]"
            ]
          },
          "metadata": {
            "tags": []
          },
          "execution_count": 38
        }
      ]
    },
    {
      "cell_type": "code",
      "metadata": {
        "id": "Yi3krgrILX5p",
        "outputId": "a11e1fed-abfd-4821-b462-bb17fce5daaf"
      },
      "source": [
        "# use o método .info() no DataFrame\n",
        "fut_players.info()"
      ],
      "execution_count": null,
      "outputs": [
        {
          "output_type": "stream",
          "text": [
            "<class 'pandas.core.frame.DataFrame'>\n",
            "RangeIndex: 18831 entries, 0 to 18830\n",
            "Data columns (total 82 columns):\n",
            "player_id               18831 non-null int64\n",
            "player_name             18831 non-null object\n",
            "player_extended_name    18831 non-null object\n",
            "quality                 18831 non-null object\n",
            "revision                18826 non-null object\n",
            "origin                  2478 non-null object\n",
            "overall                 18831 non-null int64\n",
            "club                    18831 non-null object\n",
            "league                  18831 non-null object\n",
            "nationality             18831 non-null object\n",
            "position                18831 non-null object\n",
            "age                     18831 non-null int64\n",
            "date_of_birth           18831 non-null object\n",
            "height                  18831 non-null int64\n",
            "weight                  18831 non-null int64\n",
            "intl_rep                18831 non-null int64\n",
            "added_date              18831 non-null object\n",
            "pace                    16882 non-null float64\n",
            "pace_acceleration       18831 non-null int64\n",
            "pace_sprint_speed       18831 non-null int64\n",
            "dribbling               16882 non-null float64\n",
            "drib_agility            18831 non-null int64\n",
            "drib_balance            18831 non-null int64\n",
            "drib_reactions          18831 non-null int64\n",
            "drib_ball_control       18831 non-null int64\n",
            "drib_dribbling          18831 non-null int64\n",
            "drib_composure          18831 non-null int64\n",
            "shooting                16882 non-null float64\n",
            "shoot_positioning       18831 non-null int64\n",
            "shoot_finishing         18831 non-null int64\n",
            "shoot_shot_power        18831 non-null int64\n",
            "shoot_long_shots        18831 non-null int64\n",
            "shoot_volleys           18831 non-null int64\n",
            "shoot_penalties         18831 non-null int64\n",
            "passing                 16882 non-null float64\n",
            "pass_vision             18831 non-null int64\n",
            "pass_crossing           18831 non-null int64\n",
            "pass_free_kick          18831 non-null int64\n",
            "pass_short              18831 non-null int64\n",
            "pass_long               18831 non-null int64\n",
            "pass_curve              18831 non-null int64\n",
            "defending               16882 non-null float64\n",
            "def_interceptions       18831 non-null int64\n",
            "def_heading             18831 non-null int64\n",
            "def_marking             18831 non-null int64\n",
            "def_stand_tackle        18831 non-null int64\n",
            "def_slid_tackle         18831 non-null int64\n",
            "physicality             16882 non-null float64\n",
            "phys_jumping            18831 non-null int64\n",
            "phys_stamina            18831 non-null int64\n",
            "phys_strength           18831 non-null int64\n",
            "phys_aggression         18831 non-null int64\n",
            "gk_diving               1949 non-null float64\n",
            "gk_reflexes             1949 non-null float64\n",
            "gk_handling             1949 non-null float64\n",
            "gk_speed                1949 non-null float64\n",
            "gk_kicking              1949 non-null float64\n",
            "gk_positoning           1949 non-null float64\n",
            "pref_foot               18831 non-null object\n",
            "att_workrate            18831 non-null object\n",
            "def_workrate            18831 non-null object\n",
            "weak_foot               18831 non-null int64\n",
            "skill_moves             18831 non-null int64\n",
            "cb                      16882 non-null float64\n",
            "rb                      16882 non-null float64\n",
            "lb                      16882 non-null float64\n",
            "rwb                     16882 non-null float64\n",
            "lwb                     16882 non-null float64\n",
            "cdm                     16882 non-null float64\n",
            "cm                      16882 non-null float64\n",
            "rm                      16882 non-null float64\n",
            "lm                      16882 non-null float64\n",
            "cam                     16882 non-null float64\n",
            "cf                      16882 non-null float64\n",
            "rf                      16882 non-null float64\n",
            "lf                      16882 non-null float64\n",
            "rw                      16882 non-null float64\n",
            "lw                      16882 non-null float64\n",
            "st                      16882 non-null float64\n",
            "traits                  7151 non-null object\n",
            "specialities            2380 non-null object\n",
            "base_id                 18831 non-null int64\n",
            "dtypes: float64(28), int64(38), object(16)\n",
            "memory usage: 11.8+ MB\n"
          ],
          "name": "stdout"
        }
      ]
    },
    {
      "cell_type": "code",
      "metadata": {
        "id": "r3vTbXi9LX5r",
        "outputId": "6d7fe5d5-aad0-4f20-d055-4348ba7959ab"
      },
      "source": [
        "# mostre o resumo estatístico das colunas numericas\n",
        "fut_players.describe()"
      ],
      "execution_count": null,
      "outputs": [
        {
          "output_type": "execute_result",
          "data": {
            "text/html": [
              "<div>\n",
              "<style scoped>\n",
              "    .dataframe tbody tr th:only-of-type {\n",
              "        vertical-align: middle;\n",
              "    }\n",
              "\n",
              "    .dataframe tbody tr th {\n",
              "        vertical-align: top;\n",
              "    }\n",
              "\n",
              "    .dataframe thead th {\n",
              "        text-align: right;\n",
              "    }\n",
              "</style>\n",
              "<table border=\"1\" class=\"dataframe\">\n",
              "  <thead>\n",
              "    <tr style=\"text-align: right;\">\n",
              "      <th></th>\n",
              "      <th>player_id</th>\n",
              "      <th>overall</th>\n",
              "      <th>age</th>\n",
              "      <th>height</th>\n",
              "      <th>weight</th>\n",
              "      <th>intl_rep</th>\n",
              "      <th>pace</th>\n",
              "      <th>pace_acceleration</th>\n",
              "      <th>pace_sprint_speed</th>\n",
              "      <th>dribbling</th>\n",
              "      <th>...</th>\n",
              "      <th>rm</th>\n",
              "      <th>lm</th>\n",
              "      <th>cam</th>\n",
              "      <th>cf</th>\n",
              "      <th>rf</th>\n",
              "      <th>lf</th>\n",
              "      <th>rw</th>\n",
              "      <th>lw</th>\n",
              "      <th>st</th>\n",
              "      <th>base_id</th>\n",
              "    </tr>\n",
              "  </thead>\n",
              "  <tbody>\n",
              "    <tr>\n",
              "      <td>count</td>\n",
              "      <td>18831.000000</td>\n",
              "      <td>18831.000000</td>\n",
              "      <td>18831.000000</td>\n",
              "      <td>18831.000000</td>\n",
              "      <td>18831.000000</td>\n",
              "      <td>18831.000000</td>\n",
              "      <td>16882.000000</td>\n",
              "      <td>18831.000000</td>\n",
              "      <td>18831.000000</td>\n",
              "      <td>16882.000000</td>\n",
              "      <td>...</td>\n",
              "      <td>16882.000000</td>\n",
              "      <td>16882.000000</td>\n",
              "      <td>16882.000000</td>\n",
              "      <td>16882.000000</td>\n",
              "      <td>16882.000000</td>\n",
              "      <td>16882.000000</td>\n",
              "      <td>16882.000000</td>\n",
              "      <td>16882.000000</td>\n",
              "      <td>16882.000000</td>\n",
              "      <td>18831.000000</td>\n",
              "    </tr>\n",
              "    <tr>\n",
              "      <td>mean</td>\n",
              "      <td>9724.997663</td>\n",
              "      <td>68.200839</td>\n",
              "      <td>26.364027</td>\n",
              "      <td>181.413202</td>\n",
              "      <td>75.565929</td>\n",
              "      <td>1.172269</td>\n",
              "      <td>69.072859</td>\n",
              "      <td>65.947427</td>\n",
              "      <td>66.106580</td>\n",
              "      <td>64.323540</td>\n",
              "      <td>...</td>\n",
              "      <td>62.166746</td>\n",
              "      <td>62.166746</td>\n",
              "      <td>61.509774</td>\n",
              "      <td>61.252517</td>\n",
              "      <td>61.252517</td>\n",
              "      <td>61.252517</td>\n",
              "      <td>61.511314</td>\n",
              "      <td>61.511314</td>\n",
              "      <td>60.297832</td>\n",
              "      <td>209831.137114</td>\n",
              "    </tr>\n",
              "    <tr>\n",
              "      <td>std</td>\n",
              "      <td>5592.051018</td>\n",
              "      <td>8.143145</td>\n",
              "      <td>5.223632</td>\n",
              "      <td>6.778249</td>\n",
              "      <td>7.096437</td>\n",
              "      <td>0.587855</td>\n",
              "      <td>11.909037</td>\n",
              "      <td>15.120939</td>\n",
              "      <td>14.851889</td>\n",
              "      <td>10.906452</td>\n",
              "      <td>...</td>\n",
              "      <td>10.206237</td>\n",
              "      <td>10.206237</td>\n",
              "      <td>10.760257</td>\n",
              "      <td>10.901557</td>\n",
              "      <td>10.901557</td>\n",
              "      <td>10.901557</td>\n",
              "      <td>10.866396</td>\n",
              "      <td>10.866396</td>\n",
              "      <td>10.213289</td>\n",
              "      <td>31943.691550</td>\n",
              "    </tr>\n",
              "    <tr>\n",
              "      <td>min</td>\n",
              "      <td>1.000000</td>\n",
              "      <td>47.000000</td>\n",
              "      <td>17.000000</td>\n",
              "      <td>155.000000</td>\n",
              "      <td>50.000000</td>\n",
              "      <td>0.000000</td>\n",
              "      <td>24.000000</td>\n",
              "      <td>13.000000</td>\n",
              "      <td>12.000000</td>\n",
              "      <td>24.000000</td>\n",
              "      <td>...</td>\n",
              "      <td>28.000000</td>\n",
              "      <td>28.000000</td>\n",
              "      <td>27.000000</td>\n",
              "      <td>27.000000</td>\n",
              "      <td>27.000000</td>\n",
              "      <td>27.000000</td>\n",
              "      <td>26.000000</td>\n",
              "      <td>26.000000</td>\n",
              "      <td>31.000000</td>\n",
              "      <td>16.000000</td>\n",
              "    </tr>\n",
              "    <tr>\n",
              "      <td>25%</td>\n",
              "      <td>4846.500000</td>\n",
              "      <td>63.000000</td>\n",
              "      <td>23.000000</td>\n",
              "      <td>177.000000</td>\n",
              "      <td>70.000000</td>\n",
              "      <td>1.000000</td>\n",
              "      <td>62.000000</td>\n",
              "      <td>58.000000</td>\n",
              "      <td>58.000000</td>\n",
              "      <td>58.000000</td>\n",
              "      <td>...</td>\n",
              "      <td>56.000000</td>\n",
              "      <td>56.000000</td>\n",
              "      <td>55.000000</td>\n",
              "      <td>54.000000</td>\n",
              "      <td>54.000000</td>\n",
              "      <td>54.000000</td>\n",
              "      <td>55.000000</td>\n",
              "      <td>55.000000</td>\n",
              "      <td>53.000000</td>\n",
              "      <td>194928.500000</td>\n",
              "    </tr>\n",
              "    <tr>\n",
              "      <td>50%</td>\n",
              "      <td>9805.000000</td>\n",
              "      <td>67.000000</td>\n",
              "      <td>26.000000</td>\n",
              "      <td>182.000000</td>\n",
              "      <td>75.000000</td>\n",
              "      <td>1.000000</td>\n",
              "      <td>70.000000</td>\n",
              "      <td>68.000000</td>\n",
              "      <td>68.000000</td>\n",
              "      <td>65.000000</td>\n",
              "      <td>...</td>\n",
              "      <td>63.000000</td>\n",
              "      <td>63.000000</td>\n",
              "      <td>62.000000</td>\n",
              "      <td>62.000000</td>\n",
              "      <td>62.000000</td>\n",
              "      <td>62.000000</td>\n",
              "      <td>62.000000</td>\n",
              "      <td>62.000000</td>\n",
              "      <td>60.000000</td>\n",
              "      <td>214860.000000</td>\n",
              "    </tr>\n",
              "    <tr>\n",
              "      <td>75%</td>\n",
              "      <td>14581.500000</td>\n",
              "      <td>73.000000</td>\n",
              "      <td>29.000000</td>\n",
              "      <td>186.000000</td>\n",
              "      <td>80.000000</td>\n",
              "      <td>1.000000</td>\n",
              "      <td>77.000000</td>\n",
              "      <td>76.000000</td>\n",
              "      <td>76.000000</td>\n",
              "      <td>71.000000</td>\n",
              "      <td>...</td>\n",
              "      <td>68.000000</td>\n",
              "      <td>68.000000</td>\n",
              "      <td>68.000000</td>\n",
              "      <td>68.000000</td>\n",
              "      <td>68.000000</td>\n",
              "      <td>68.000000</td>\n",
              "      <td>68.000000</td>\n",
              "      <td>68.000000</td>\n",
              "      <td>67.000000</td>\n",
              "      <td>232590.500000</td>\n",
              "    </tr>\n",
              "    <tr>\n",
              "      <td>max</td>\n",
              "      <td>19307.000000</td>\n",
              "      <td>99.000000</td>\n",
              "      <td>89.000000</td>\n",
              "      <td>205.000000</td>\n",
              "      <td>110.000000</td>\n",
              "      <td>5.000000</td>\n",
              "      <td>99.000000</td>\n",
              "      <td>99.000000</td>\n",
              "      <td>99.000000</td>\n",
              "      <td>99.000000</td>\n",
              "      <td>...</td>\n",
              "      <td>97.000000</td>\n",
              "      <td>97.000000</td>\n",
              "      <td>98.000000</td>\n",
              "      <td>98.000000</td>\n",
              "      <td>98.000000</td>\n",
              "      <td>98.000000</td>\n",
              "      <td>97.000000</td>\n",
              "      <td>97.000000</td>\n",
              "      <td>98.000000</td>\n",
              "      <td>245714.000000</td>\n",
              "    </tr>\n",
              "  </tbody>\n",
              "</table>\n",
              "<p>8 rows × 66 columns</p>\n",
              "</div>"
            ],
            "text/plain": [
              "          player_id       overall           age        height        weight  \\\n",
              "count  18831.000000  18831.000000  18831.000000  18831.000000  18831.000000   \n",
              "mean    9724.997663     68.200839     26.364027    181.413202     75.565929   \n",
              "std     5592.051018      8.143145      5.223632      6.778249      7.096437   \n",
              "min        1.000000     47.000000     17.000000    155.000000     50.000000   \n",
              "25%     4846.500000     63.000000     23.000000    177.000000     70.000000   \n",
              "50%     9805.000000     67.000000     26.000000    182.000000     75.000000   \n",
              "75%    14581.500000     73.000000     29.000000    186.000000     80.000000   \n",
              "max    19307.000000     99.000000     89.000000    205.000000    110.000000   \n",
              "\n",
              "           intl_rep          pace  pace_acceleration  pace_sprint_speed  \\\n",
              "count  18831.000000  16882.000000       18831.000000       18831.000000   \n",
              "mean       1.172269     69.072859          65.947427          66.106580   \n",
              "std        0.587855     11.909037          15.120939          14.851889   \n",
              "min        0.000000     24.000000          13.000000          12.000000   \n",
              "25%        1.000000     62.000000          58.000000          58.000000   \n",
              "50%        1.000000     70.000000          68.000000          68.000000   \n",
              "75%        1.000000     77.000000          76.000000          76.000000   \n",
              "max        5.000000     99.000000          99.000000          99.000000   \n",
              "\n",
              "          dribbling  ...            rm            lm           cam  \\\n",
              "count  16882.000000  ...  16882.000000  16882.000000  16882.000000   \n",
              "mean      64.323540  ...     62.166746     62.166746     61.509774   \n",
              "std       10.906452  ...     10.206237     10.206237     10.760257   \n",
              "min       24.000000  ...     28.000000     28.000000     27.000000   \n",
              "25%       58.000000  ...     56.000000     56.000000     55.000000   \n",
              "50%       65.000000  ...     63.000000     63.000000     62.000000   \n",
              "75%       71.000000  ...     68.000000     68.000000     68.000000   \n",
              "max       99.000000  ...     97.000000     97.000000     98.000000   \n",
              "\n",
              "                 cf            rf            lf            rw            lw  \\\n",
              "count  16882.000000  16882.000000  16882.000000  16882.000000  16882.000000   \n",
              "mean      61.252517     61.252517     61.252517     61.511314     61.511314   \n",
              "std       10.901557     10.901557     10.901557     10.866396     10.866396   \n",
              "min       27.000000     27.000000     27.000000     26.000000     26.000000   \n",
              "25%       54.000000     54.000000     54.000000     55.000000     55.000000   \n",
              "50%       62.000000     62.000000     62.000000     62.000000     62.000000   \n",
              "75%       68.000000     68.000000     68.000000     68.000000     68.000000   \n",
              "max       98.000000     98.000000     98.000000     97.000000     97.000000   \n",
              "\n",
              "                 st        base_id  \n",
              "count  16882.000000   18831.000000  \n",
              "mean      60.297832  209831.137114  \n",
              "std       10.213289   31943.691550  \n",
              "min       31.000000      16.000000  \n",
              "25%       53.000000  194928.500000  \n",
              "50%       60.000000  214860.000000  \n",
              "75%       67.000000  232590.500000  \n",
              "max       98.000000  245714.000000  \n",
              "\n",
              "[8 rows x 66 columns]"
            ]
          },
          "metadata": {
            "tags": []
          },
          "execution_count": 40
        }
      ]
    },
    {
      "cell_type": "markdown",
      "metadata": {
        "id": "T-06j1AXLX5t"
      },
      "source": [
        "### 3.4 Filtrando (*Filtering*) e fatiando (*slicing*) os dados\n",
        "\n",
        "*Filtering* e *slicing* são técnicas utilizadas para isolar partes específicas do *DataFrame*, sejam linhas, colunas ou células. Isso é muito útil pois diversas vezes queremos analisar alguns dados ao invés da base inteira. O Pandas tem ferramentas próprias para isso. <br>\n",
        "\n",
        "#### 3.4.1 *Slicing*\n",
        "\n",
        "No Pandas existem duas principais formas de fatiar os dados, isto é, selecionar apenas uma parte de acordo com as linhas e colunas do *DataFrame*: utilizando o nome das partes ou com os métodos *.loc()* e *.iloc()*. Vamos começar pelo primeiro. Para fazer isso, imagine que queremos apenas os nomes e o poder de ataque dos Pokémons e veja o exemplo:"
      ]
    },
    {
      "cell_type": "code",
      "metadata": {
        "id": "hxnNcAqnLX5t",
        "outputId": "a8c11ac8-63a4-4b48-a58c-644522e17d6b"
      },
      "source": [
        "pkmn[['Name','Attack']].head(7)"
      ],
      "execution_count": null,
      "outputs": [
        {
          "output_type": "execute_result",
          "data": {
            "text/html": [
              "<div>\n",
              "<style scoped>\n",
              "    .dataframe tbody tr th:only-of-type {\n",
              "        vertical-align: middle;\n",
              "    }\n",
              "\n",
              "    .dataframe tbody tr th {\n",
              "        vertical-align: top;\n",
              "    }\n",
              "\n",
              "    .dataframe thead th {\n",
              "        text-align: right;\n",
              "    }\n",
              "</style>\n",
              "<table border=\"1\" class=\"dataframe\">\n",
              "  <thead>\n",
              "    <tr style=\"text-align: right;\">\n",
              "      <th></th>\n",
              "      <th>Name</th>\n",
              "      <th>Attack</th>\n",
              "    </tr>\n",
              "  </thead>\n",
              "  <tbody>\n",
              "    <tr>\n",
              "      <td>0</td>\n",
              "      <td>Bulbasaur</td>\n",
              "      <td>49</td>\n",
              "    </tr>\n",
              "    <tr>\n",
              "      <td>1</td>\n",
              "      <td>Ivysaur</td>\n",
              "      <td>62</td>\n",
              "    </tr>\n",
              "    <tr>\n",
              "      <td>2</td>\n",
              "      <td>Venusaur</td>\n",
              "      <td>82</td>\n",
              "    </tr>\n",
              "    <tr>\n",
              "      <td>3</td>\n",
              "      <td>VenusaurMega Venusaur</td>\n",
              "      <td>100</td>\n",
              "    </tr>\n",
              "    <tr>\n",
              "      <td>4</td>\n",
              "      <td>Charmander</td>\n",
              "      <td>52</td>\n",
              "    </tr>\n",
              "    <tr>\n",
              "      <td>5</td>\n",
              "      <td>Charmeleon</td>\n",
              "      <td>64</td>\n",
              "    </tr>\n",
              "    <tr>\n",
              "      <td>6</td>\n",
              "      <td>Charizard</td>\n",
              "      <td>84</td>\n",
              "    </tr>\n",
              "  </tbody>\n",
              "</table>\n",
              "</div>"
            ],
            "text/plain": [
              "                    Name  Attack\n",
              "0              Bulbasaur      49\n",
              "1                Ivysaur      62\n",
              "2               Venusaur      82\n",
              "3  VenusaurMega Venusaur     100\n",
              "4             Charmander      52\n",
              "5             Charmeleon      64\n",
              "6              Charizard      84"
            ]
          },
          "metadata": {
            "tags": []
          },
          "execution_count": 41
        }
      ]
    },
    {
      "cell_type": "markdown",
      "metadata": {
        "id": "lBcaUhxxLX5v"
      },
      "source": [
        "Duas coisas importantes aqui:\n",
        " - Juntamos o *slicing* com o método *.head()* na mesma linha, para que fosse possível ver o resultado do fatiamento. Ao usar o Pandas é possível e comum fazer esse tipo de agrupamento de operações.\n",
        " - Foram utilizadas chaves duplas [[]] no fatiamento. Ao fazer isso, estou explicitando que quero um objeto do tipo *DataFrame*. Se eu quisesse objetos do tipo *Series* usaria chaves simples. Podemos ver um exemplo disso abaixo:"
      ]
    },
    {
      "cell_type": "code",
      "metadata": {
        "id": "r21c2qUuLX5w",
        "outputId": "a60e4b3b-ca5f-4b85-fb21-58cf5ecccce3"
      },
      "source": [
        "type(pkmn[['Name']])"
      ],
      "execution_count": null,
      "outputs": [
        {
          "output_type": "execute_result",
          "data": {
            "text/plain": [
              "pandas.core.frame.DataFrame"
            ]
          },
          "metadata": {
            "tags": []
          },
          "execution_count": 42
        }
      ]
    },
    {
      "cell_type": "code",
      "metadata": {
        "id": "tsyNEa_eLX5y",
        "outputId": "eb412f32-bce7-406a-d410-ed28ca14b6cc"
      },
      "source": [
        "type(pkmn['Name'])"
      ],
      "execution_count": null,
      "outputs": [
        {
          "output_type": "execute_result",
          "data": {
            "text/plain": [
              "pandas.core.series.Series"
            ]
          },
          "metadata": {
            "tags": []
          },
          "execution_count": 43
        }
      ]
    },
    {
      "cell_type": "markdown",
      "metadata": {
        "id": "UqwDQndoLX50"
      },
      "source": [
        "Outra forma de se obter um objeto do tipo *Series* é passando a coluna como se fosse um atributo do *DataFrame*:"
      ]
    },
    {
      "cell_type": "code",
      "metadata": {
        "id": "kPVE7CTaLX50",
        "outputId": "9a5730ab-eb22-4bc5-a86c-272890bc8c9b"
      },
      "source": [
        "pkmn.Name"
      ],
      "execution_count": null,
      "outputs": [
        {
          "output_type": "execute_result",
          "data": {
            "text/plain": [
              "0                  Bulbasaur\n",
              "1                    Ivysaur\n",
              "2                   Venusaur\n",
              "3      VenusaurMega Venusaur\n",
              "4                 Charmander\n",
              "               ...          \n",
              "795                  Diancie\n",
              "796      DiancieMega Diancie\n",
              "797      HoopaHoopa Confined\n",
              "798       HoopaHoopa Unbound\n",
              "799                Volcanion\n",
              "Name: Name, Length: 800, dtype: object"
            ]
          },
          "metadata": {
            "tags": []
          },
          "execution_count": 44
        }
      ]
    },
    {
      "cell_type": "markdown",
      "metadata": {
        "id": "SxLtb0ChLX52"
      },
      "source": [
        "O único problema desse formato é que colunas cujo nome contém espaços não funcionarão, como é o caso das colunas *Type 1*, *Type 2*, *Sp. Atk* e *Sp. Def*. Para resolver isso, vamos renomeá-las com o método *.rename()*."
      ]
    },
    {
      "cell_type": "code",
      "metadata": {
        "id": "4463Ya7oLX53"
      },
      "source": [
        "pkmn.rename(\n",
        "    columns={'Type 1':'Type_1', 'Type 2':'Type_2', 'Sp. Atk':'Sp_Atk','Sp. Def':'Sp_Def'}, #passando o nome antigo e novo como um dicionário\n",
        "    inplace = True #algumas operações com Pandas criam uma cópia do DataFrame e não alteram o objeto em si, alteramos isso mudando o parâmetro inplace para verdadeiro\n",
        ")"
      ],
      "execution_count": null,
      "outputs": []
    },
    {
      "cell_type": "code",
      "metadata": {
        "id": "wnCIRWHSLX55",
        "outputId": "aaa65208-692a-434e-d3d3-2ccad7c61165"
      },
      "source": [
        "pkmn.info()"
      ],
      "execution_count": null,
      "outputs": [
        {
          "output_type": "stream",
          "text": [
            "<class 'pandas.core.frame.DataFrame'>\n",
            "RangeIndex: 800 entries, 0 to 799\n",
            "Data columns (total 13 columns):\n",
            "#             800 non-null int64\n",
            "Name          800 non-null object\n",
            "Type_1        800 non-null object\n",
            "Type_2        414 non-null object\n",
            "Total         800 non-null int64\n",
            "HP            800 non-null int64\n",
            "Attack        800 non-null int64\n",
            "Defense       800 non-null int64\n",
            "Sp_Atk        800 non-null int64\n",
            "Sp_Def        800 non-null int64\n",
            "Speed         800 non-null int64\n",
            "Generation    800 non-null int64\n",
            "Legendary     800 non-null bool\n",
            "dtypes: bool(1), int64(9), object(3)\n",
            "memory usage: 75.9+ KB\n"
          ],
          "name": "stdout"
        }
      ]
    },
    {
      "cell_type": "markdown",
      "metadata": {
        "id": "HBmbjeUvLX59"
      },
      "source": [
        "Agora que os nomes foram trocados, podemos obter um objeto *Series* do tipo do Pokémon como a seguir:"
      ]
    },
    {
      "cell_type": "code",
      "metadata": {
        "id": "1wX4iLE5LX59",
        "outputId": "5f01d717-17ac-478d-ea71-b7be7402f771"
      },
      "source": [
        "pkmn.Type_1"
      ],
      "execution_count": null,
      "outputs": [
        {
          "output_type": "execute_result",
          "data": {
            "text/plain": [
              "0        Grass\n",
              "1        Grass\n",
              "2        Grass\n",
              "3        Grass\n",
              "4         Fire\n",
              "        ...   \n",
              "795       Rock\n",
              "796       Rock\n",
              "797    Psychic\n",
              "798    Psychic\n",
              "799       Fire\n",
              "Name: Type_1, Length: 800, dtype: object"
            ]
          },
          "metadata": {
            "tags": []
          },
          "execution_count": 47
        }
      ]
    },
    {
      "cell_type": "markdown",
      "metadata": {
        "id": "WdpAKzvsLX5_"
      },
      "source": [
        "Outra forma de selecionar partes dos dados é usando os métodos *.loc()* e *.iloc()*.<br>\n",
        "Para usar a localização númerica utilizamos o *iloc*. Como você pode imaginar, a linhas e colunas são ordenadas por números inteiros sequenciais, começando do 0, como nas listas. Dessa forma, se você sabe o número da linha e da coluna, você pode usar o *iloc*. Por exemplo, se quisermos a coluna HP, que é a 6ª, poderíamos fazer o seguinte:"
      ]
    },
    {
      "cell_type": "code",
      "metadata": {
        "id": "5cx8fTgMLX5_",
        "outputId": "31064b37-5716-4bc9-8a14-d643793ecbc3"
      },
      "source": [
        "pkmn.iloc[:,5].head()"
      ],
      "execution_count": null,
      "outputs": [
        {
          "output_type": "execute_result",
          "data": {
            "text/plain": [
              "0    45\n",
              "1    60\n",
              "2    80\n",
              "3    80\n",
              "4    39\n",
              "Name: HP, dtype: int64"
            ]
          },
          "metadata": {
            "tags": []
          },
          "execution_count": 48
        }
      ]
    },
    {
      "cell_type": "markdown",
      "metadata": {
        "id": "qU7yukE3LX6B"
      },
      "source": [
        "A sintaxe do *iloc* é como [x,y], que significa que queremos a (x+1)ª linha e (y+1)ª coluna. Se utilizarmos ':' no lugar de x ou y significa que queremos a coluna ou linha completa, respectivamente. Vamos pegar o HP do Bulbasaur, o primeiro Pokémon do nosso *DataFrame*:"
      ]
    },
    {
      "cell_type": "code",
      "metadata": {
        "id": "kUkOL-leLX6B",
        "outputId": "067f23be-9975-4876-bef6-45fbf844e1a7"
      },
      "source": [
        "print(\"O HP do Bulbasaur é \"+str(pkmn.iloc[0,5]))"
      ],
      "execution_count": null,
      "outputs": [
        {
          "output_type": "stream",
          "text": [
            "O HP do Bulbasaur é 45\n"
          ],
          "name": "stdout"
        }
      ]
    },
    {
      "cell_type": "markdown",
      "metadata": {
        "id": "iwOLKBVNLX6D"
      },
      "source": [
        "O método *.loc()* usa o rótulo para acessar os valores. Dessa forma, ao invés de passarmos as coordenadas numéricas, passamos o nome da linha e da coluna, como a seguir:"
      ]
    },
    {
      "cell_type": "code",
      "metadata": {
        "id": "dojkg9GkLX6D",
        "outputId": "2d4d1bb4-5563-4f71-869a-f621c05f2d5c"
      },
      "source": [
        "pkmn.loc[0, :]"
      ],
      "execution_count": null,
      "outputs": [
        {
          "output_type": "execute_result",
          "data": {
            "text/plain": [
              "#                     1\n",
              "Name          Bulbasaur\n",
              "Type_1            Grass\n",
              "Type_2           Poison\n",
              "Total               318\n",
              "HP                   45\n",
              "Attack               49\n",
              "Defense              49\n",
              "Sp_Atk               65\n",
              "Sp_Def               65\n",
              "Speed                45\n",
              "Generation            1\n",
              "Legendary         False\n",
              "Name: 0, dtype: object"
            ]
          },
          "metadata": {
            "tags": []
          },
          "execution_count": 50
        }
      ]
    },
    {
      "cell_type": "markdown",
      "metadata": {
        "id": "HC2RwZdfLX6F"
      },
      "source": [
        "No caso, os rótulos das linhas são iguais às suas coordenadas, por isso ficou parecido com o *iloc*. Vamos fazer o teste com as colunas também para ver a diferença. Abaixo pegaremos novamente o HP do Bulbasaur:"
      ]
    },
    {
      "cell_type": "code",
      "metadata": {
        "id": "fx5QIbnQLX6F",
        "outputId": "81ee20af-76f1-4887-a421-c03468f4f961"
      },
      "source": [
        "print(\"O HP do Bulbasaur é \"+str(pkmn.loc[0,'HP']))"
      ],
      "execution_count": null,
      "outputs": [
        {
          "output_type": "stream",
          "text": [
            "O HP do Bulbasaur é 45\n"
          ],
          "name": "stdout"
        }
      ]
    },
    {
      "cell_type": "markdown",
      "metadata": {
        "id": "8oybVxI2LX6H"
      },
      "source": [
        "#### 3.4.2 Filtros (*Filtering*)\n",
        "\n",
        "Uma vez sabendo isolar partes do *DataFrame* de acordo com a localização dos dados, podemos partir para isolar de acordo com condições, ou seja, filtrar os dados.\n",
        "Para conseguir fazer isso no Pandas, fazemos o seguinte: passamos uma expressão condicional e o Pandas retorna apenas as partes que teriam a condição como verdade. Para testar isso, vamos ver a defesa média de todas os Pokémons e depois ver se os tipos 'Rock' e 'Steel' tem defesas maiores:"
      ]
    },
    {
      "cell_type": "code",
      "metadata": {
        "id": "eJ06UtQmLX6I",
        "outputId": "15705b90-e73c-4bd9-9a85-a22fe6f3d1b0"
      },
      "source": [
        "pkmn.Defense.mean() #note que operações comuns como média (mean), mediana (median) e soma (sum) são métodos do Pandas"
      ],
      "execution_count": null,
      "outputs": [
        {
          "output_type": "execute_result",
          "data": {
            "text/plain": [
              "73.8425"
            ]
          },
          "metadata": {
            "tags": []
          },
          "execution_count": 52
        }
      ]
    },
    {
      "cell_type": "code",
      "metadata": {
        "id": "4G0vNLVZLX6J",
        "outputId": "2297b378-83b1-4fdd-8771-32ac00c97f9a"
      },
      "source": [
        "pkmn.loc[pkmn.Type_1=='Rock'].Defense.mean()"
      ],
      "execution_count": null,
      "outputs": [
        {
          "output_type": "execute_result",
          "data": {
            "text/plain": [
              "100.79545454545455"
            ]
          },
          "metadata": {
            "tags": []
          },
          "execution_count": 53
        }
      ]
    },
    {
      "cell_type": "code",
      "metadata": {
        "id": "KP38Gf4_LX6M",
        "outputId": "2e2992eb-6159-4c17-816a-f9225c6d1d98"
      },
      "source": [
        "pkmn[pkmn.Type_1=='Steel'].Defense.mean()"
      ],
      "execution_count": null,
      "outputs": [
        {
          "output_type": "execute_result",
          "data": {
            "text/plain": [
              "126.37037037037037"
            ]
          },
          "metadata": {
            "tags": []
          },
          "execution_count": 54
        }
      ]
    },
    {
      "cell_type": "markdown",
      "metadata": {
        "id": "1cqOeisiLX6O"
      },
      "source": [
        "De fato, parece que os tipos selecionados tem média acima dos demais Pokémons. Para verificar isso, passamos a condição pkmn.Type_1=='Steel' entre chaves, o que retorna apenas as linhas de tal tipo. Com isso, selecionamos apenas a coluna de defesa e calculamos a média. <br>\n",
        "Vamos ver agora os Pokémons com defesa maior que 150, cujo tipo principal não é 'Rock' nem 'Steel':"
      ]
    },
    {
      "cell_type": "code",
      "metadata": {
        "id": "xuxOqcOiLX6P",
        "outputId": "de0f908e-b5a5-4ce5-b79b-11ffe2cbff40"
      },
      "source": [
        "pkmn[(pkmn.Defense > 150)&(pkmn.Type_1!='Rock')&(pkmn.Type_1!='Steel')]"
      ],
      "execution_count": null,
      "outputs": [
        {
          "output_type": "execute_result",
          "data": {
            "text/html": [
              "<div>\n",
              "<style scoped>\n",
              "    .dataframe tbody tr th:only-of-type {\n",
              "        vertical-align: middle;\n",
              "    }\n",
              "\n",
              "    .dataframe tbody tr th {\n",
              "        vertical-align: top;\n",
              "    }\n",
              "\n",
              "    .dataframe thead th {\n",
              "        text-align: right;\n",
              "    }\n",
              "</style>\n",
              "<table border=\"1\" class=\"dataframe\">\n",
              "  <thead>\n",
              "    <tr style=\"text-align: right;\">\n",
              "      <th></th>\n",
              "      <th>#</th>\n",
              "      <th>Name</th>\n",
              "      <th>Type_1</th>\n",
              "      <th>Type_2</th>\n",
              "      <th>Total</th>\n",
              "      <th>HP</th>\n",
              "      <th>Attack</th>\n",
              "      <th>Defense</th>\n",
              "      <th>Sp_Atk</th>\n",
              "      <th>Sp_Def</th>\n",
              "      <th>Speed</th>\n",
              "      <th>Generation</th>\n",
              "      <th>Legendary</th>\n",
              "    </tr>\n",
              "  </thead>\n",
              "  <tbody>\n",
              "    <tr>\n",
              "      <td>87</td>\n",
              "      <td>80</td>\n",
              "      <td>SlowbroMega Slowbro</td>\n",
              "      <td>Water</td>\n",
              "      <td>Psychic</td>\n",
              "      <td>590</td>\n",
              "      <td>95</td>\n",
              "      <td>75</td>\n",
              "      <td>180</td>\n",
              "      <td>130</td>\n",
              "      <td>80</td>\n",
              "      <td>30</td>\n",
              "      <td>1</td>\n",
              "      <td>False</td>\n",
              "    </tr>\n",
              "    <tr>\n",
              "      <td>98</td>\n",
              "      <td>91</td>\n",
              "      <td>Cloyster</td>\n",
              "      <td>Water</td>\n",
              "      <td>Ice</td>\n",
              "      <td>525</td>\n",
              "      <td>50</td>\n",
              "      <td>95</td>\n",
              "      <td>180</td>\n",
              "      <td>85</td>\n",
              "      <td>45</td>\n",
              "      <td>70</td>\n",
              "      <td>1</td>\n",
              "      <td>False</td>\n",
              "    </tr>\n",
              "    <tr>\n",
              "      <td>230</td>\n",
              "      <td>213</td>\n",
              "      <td>Shuckle</td>\n",
              "      <td>Bug</td>\n",
              "      <td>Rock</td>\n",
              "      <td>505</td>\n",
              "      <td>20</td>\n",
              "      <td>10</td>\n",
              "      <td>230</td>\n",
              "      <td>10</td>\n",
              "      <td>230</td>\n",
              "      <td>5</td>\n",
              "      <td>2</td>\n",
              "      <td>False</td>\n",
              "    </tr>\n",
              "    <tr>\n",
              "      <td>424</td>\n",
              "      <td>383</td>\n",
              "      <td>GroudonPrimal Groudon</td>\n",
              "      <td>Ground</td>\n",
              "      <td>Fire</td>\n",
              "      <td>770</td>\n",
              "      <td>100</td>\n",
              "      <td>180</td>\n",
              "      <td>160</td>\n",
              "      <td>150</td>\n",
              "      <td>90</td>\n",
              "      <td>90</td>\n",
              "      <td>3</td>\n",
              "      <td>True</td>\n",
              "    </tr>\n",
              "    <tr>\n",
              "      <td>430</td>\n",
              "      <td>386</td>\n",
              "      <td>DeoxysDefense Forme</td>\n",
              "      <td>Psychic</td>\n",
              "      <td>NaN</td>\n",
              "      <td>600</td>\n",
              "      <td>50</td>\n",
              "      <td>70</td>\n",
              "      <td>160</td>\n",
              "      <td>70</td>\n",
              "      <td>160</td>\n",
              "      <td>90</td>\n",
              "      <td>3</td>\n",
              "      <td>True</td>\n",
              "    </tr>\n",
              "    <tr>\n",
              "      <td>789</td>\n",
              "      <td>713</td>\n",
              "      <td>Avalugg</td>\n",
              "      <td>Ice</td>\n",
              "      <td>NaN</td>\n",
              "      <td>514</td>\n",
              "      <td>95</td>\n",
              "      <td>117</td>\n",
              "      <td>184</td>\n",
              "      <td>44</td>\n",
              "      <td>46</td>\n",
              "      <td>28</td>\n",
              "      <td>6</td>\n",
              "      <td>False</td>\n",
              "    </tr>\n",
              "  </tbody>\n",
              "</table>\n",
              "</div>"
            ],
            "text/plain": [
              "       #                   Name   Type_1   Type_2  Total   HP  Attack  \\\n",
              "87    80    SlowbroMega Slowbro    Water  Psychic    590   95      75   \n",
              "98    91               Cloyster    Water      Ice    525   50      95   \n",
              "230  213                Shuckle      Bug     Rock    505   20      10   \n",
              "424  383  GroudonPrimal Groudon   Ground     Fire    770  100     180   \n",
              "430  386    DeoxysDefense Forme  Psychic      NaN    600   50      70   \n",
              "789  713                Avalugg      Ice      NaN    514   95     117   \n",
              "\n",
              "     Defense  Sp_Atk  Sp_Def  Speed  Generation  Legendary  \n",
              "87       180     130      80     30           1      False  \n",
              "98       180      85      45     70           1      False  \n",
              "230      230      10     230      5           2      False  \n",
              "424      160     150      90     90           3       True  \n",
              "430      160      70     160     90           3       True  \n",
              "789      184      44      46     28           6      False  "
            ]
          },
          "metadata": {
            "tags": []
          },
          "execution_count": 55
        }
      ]
    },
    {
      "cell_type": "markdown",
      "metadata": {
        "id": "YHT6wd9vLX6R"
      },
      "source": [
        "Podemos ver acima que é possível juntar condições com os operadores E (&) e OU (|), como vimos no inicio da aula.<br>\n",
        "Vamos dizer agora que você quer apenas alguns Pokémons em específico, por exemplo Venusaur, Charizard e Blastoise. Criar uma condição para cada e uní-las com o operador & pode ser difícil, ainda mais se for uma quantidade grande de opções. Podemos facilitar isso passando uma tupla ao método *.isin()*, como abaixo:"
      ]
    },
    {
      "cell_type": "code",
      "metadata": {
        "id": "su4cENUCLX6R",
        "outputId": "e2276e62-6ea6-4580-f242-768ef43c9af4"
      },
      "source": [
        "aux = ('Venusaur', 'Charizard', 'Blastoise')\n",
        "pkmn[pkmn.Name.isin(aux)]"
      ],
      "execution_count": null,
      "outputs": [
        {
          "output_type": "execute_result",
          "data": {
            "text/html": [
              "<div>\n",
              "<style scoped>\n",
              "    .dataframe tbody tr th:only-of-type {\n",
              "        vertical-align: middle;\n",
              "    }\n",
              "\n",
              "    .dataframe tbody tr th {\n",
              "        vertical-align: top;\n",
              "    }\n",
              "\n",
              "    .dataframe thead th {\n",
              "        text-align: right;\n",
              "    }\n",
              "</style>\n",
              "<table border=\"1\" class=\"dataframe\">\n",
              "  <thead>\n",
              "    <tr style=\"text-align: right;\">\n",
              "      <th></th>\n",
              "      <th>#</th>\n",
              "      <th>Name</th>\n",
              "      <th>Type_1</th>\n",
              "      <th>Type_2</th>\n",
              "      <th>Total</th>\n",
              "      <th>HP</th>\n",
              "      <th>Attack</th>\n",
              "      <th>Defense</th>\n",
              "      <th>Sp_Atk</th>\n",
              "      <th>Sp_Def</th>\n",
              "      <th>Speed</th>\n",
              "      <th>Generation</th>\n",
              "      <th>Legendary</th>\n",
              "    </tr>\n",
              "  </thead>\n",
              "  <tbody>\n",
              "    <tr>\n",
              "      <td>2</td>\n",
              "      <td>3</td>\n",
              "      <td>Venusaur</td>\n",
              "      <td>Grass</td>\n",
              "      <td>Poison</td>\n",
              "      <td>525</td>\n",
              "      <td>80</td>\n",
              "      <td>82</td>\n",
              "      <td>83</td>\n",
              "      <td>100</td>\n",
              "      <td>100</td>\n",
              "      <td>80</td>\n",
              "      <td>1</td>\n",
              "      <td>False</td>\n",
              "    </tr>\n",
              "    <tr>\n",
              "      <td>6</td>\n",
              "      <td>6</td>\n",
              "      <td>Charizard</td>\n",
              "      <td>Fire</td>\n",
              "      <td>Flying</td>\n",
              "      <td>534</td>\n",
              "      <td>78</td>\n",
              "      <td>84</td>\n",
              "      <td>78</td>\n",
              "      <td>109</td>\n",
              "      <td>85</td>\n",
              "      <td>100</td>\n",
              "      <td>1</td>\n",
              "      <td>False</td>\n",
              "    </tr>\n",
              "    <tr>\n",
              "      <td>11</td>\n",
              "      <td>9</td>\n",
              "      <td>Blastoise</td>\n",
              "      <td>Water</td>\n",
              "      <td>NaN</td>\n",
              "      <td>530</td>\n",
              "      <td>79</td>\n",
              "      <td>83</td>\n",
              "      <td>100</td>\n",
              "      <td>85</td>\n",
              "      <td>105</td>\n",
              "      <td>78</td>\n",
              "      <td>1</td>\n",
              "      <td>False</td>\n",
              "    </tr>\n",
              "  </tbody>\n",
              "</table>\n",
              "</div>"
            ],
            "text/plain": [
              "    #       Name Type_1  Type_2  Total  HP  Attack  Defense  Sp_Atk  Sp_Def  \\\n",
              "2   3   Venusaur  Grass  Poison    525  80      82       83     100     100   \n",
              "6   6  Charizard   Fire  Flying    534  78      84       78     109      85   \n",
              "11  9  Blastoise  Water     NaN    530  79      83      100      85     105   \n",
              "\n",
              "    Speed  Generation  Legendary  \n",
              "2      80           1      False  \n",
              "6     100           1      False  \n",
              "11     78           1      False  "
            ]
          },
          "metadata": {
            "tags": []
          },
          "execution_count": 56
        }
      ]
    },
    {
      "cell_type": "markdown",
      "metadata": {
        "id": "x1PUzFBVLX6S"
      },
      "source": [
        "Finalmente, podemos criar novos *DataFrames* de um já existente selecionando apenas algumas linhas ou colunas dele:"
      ]
    },
    {
      "cell_type": "code",
      "metadata": {
        "id": "ZFcNXvA1LX6T"
      },
      "source": [
        "offensive_stats = pkmn[['#','Name','Attack','Sp_Atk','Speed']] #selecionando apenas estatísticas ofensivas\n",
        "defensive_stats = pkmn[['#','Name', 'HP','Defense','Sp_Def']] #selecionando apenas estatísticas defensivas"
      ],
      "execution_count": null,
      "outputs": []
    },
    {
      "cell_type": "code",
      "metadata": {
        "id": "gi_yr5WJLX6U",
        "outputId": "3cc06ebb-5b98-4664-81c2-899c020fc15e"
      },
      "source": [
        "offensive_stats.head()"
      ],
      "execution_count": null,
      "outputs": [
        {
          "output_type": "execute_result",
          "data": {
            "text/html": [
              "<div>\n",
              "<style scoped>\n",
              "    .dataframe tbody tr th:only-of-type {\n",
              "        vertical-align: middle;\n",
              "    }\n",
              "\n",
              "    .dataframe tbody tr th {\n",
              "        vertical-align: top;\n",
              "    }\n",
              "\n",
              "    .dataframe thead th {\n",
              "        text-align: right;\n",
              "    }\n",
              "</style>\n",
              "<table border=\"1\" class=\"dataframe\">\n",
              "  <thead>\n",
              "    <tr style=\"text-align: right;\">\n",
              "      <th></th>\n",
              "      <th>#</th>\n",
              "      <th>Name</th>\n",
              "      <th>Attack</th>\n",
              "      <th>Sp_Atk</th>\n",
              "      <th>Speed</th>\n",
              "    </tr>\n",
              "  </thead>\n",
              "  <tbody>\n",
              "    <tr>\n",
              "      <td>0</td>\n",
              "      <td>1</td>\n",
              "      <td>Bulbasaur</td>\n",
              "      <td>49</td>\n",
              "      <td>65</td>\n",
              "      <td>45</td>\n",
              "    </tr>\n",
              "    <tr>\n",
              "      <td>1</td>\n",
              "      <td>2</td>\n",
              "      <td>Ivysaur</td>\n",
              "      <td>62</td>\n",
              "      <td>80</td>\n",
              "      <td>60</td>\n",
              "    </tr>\n",
              "    <tr>\n",
              "      <td>2</td>\n",
              "      <td>3</td>\n",
              "      <td>Venusaur</td>\n",
              "      <td>82</td>\n",
              "      <td>100</td>\n",
              "      <td>80</td>\n",
              "    </tr>\n",
              "    <tr>\n",
              "      <td>3</td>\n",
              "      <td>3</td>\n",
              "      <td>VenusaurMega Venusaur</td>\n",
              "      <td>100</td>\n",
              "      <td>122</td>\n",
              "      <td>80</td>\n",
              "    </tr>\n",
              "    <tr>\n",
              "      <td>4</td>\n",
              "      <td>4</td>\n",
              "      <td>Charmander</td>\n",
              "      <td>52</td>\n",
              "      <td>60</td>\n",
              "      <td>65</td>\n",
              "    </tr>\n",
              "  </tbody>\n",
              "</table>\n",
              "</div>"
            ],
            "text/plain": [
              "   #                   Name  Attack  Sp_Atk  Speed\n",
              "0  1              Bulbasaur      49      65     45\n",
              "1  2                Ivysaur      62      80     60\n",
              "2  3               Venusaur      82     100     80\n",
              "3  3  VenusaurMega Venusaur     100     122     80\n",
              "4  4             Charmander      52      60     65"
            ]
          },
          "metadata": {
            "tags": []
          },
          "execution_count": 58
        }
      ]
    },
    {
      "cell_type": "code",
      "metadata": {
        "id": "TKHCSWANLX6V",
        "outputId": "deba573a-e202-44a6-9978-1ead7be26f1e"
      },
      "source": [
        "defensive_stats.head()"
      ],
      "execution_count": null,
      "outputs": [
        {
          "output_type": "execute_result",
          "data": {
            "text/html": [
              "<div>\n",
              "<style scoped>\n",
              "    .dataframe tbody tr th:only-of-type {\n",
              "        vertical-align: middle;\n",
              "    }\n",
              "\n",
              "    .dataframe tbody tr th {\n",
              "        vertical-align: top;\n",
              "    }\n",
              "\n",
              "    .dataframe thead th {\n",
              "        text-align: right;\n",
              "    }\n",
              "</style>\n",
              "<table border=\"1\" class=\"dataframe\">\n",
              "  <thead>\n",
              "    <tr style=\"text-align: right;\">\n",
              "      <th></th>\n",
              "      <th>#</th>\n",
              "      <th>Name</th>\n",
              "      <th>HP</th>\n",
              "      <th>Defense</th>\n",
              "      <th>Sp_Def</th>\n",
              "    </tr>\n",
              "  </thead>\n",
              "  <tbody>\n",
              "    <tr>\n",
              "      <td>0</td>\n",
              "      <td>1</td>\n",
              "      <td>Bulbasaur</td>\n",
              "      <td>45</td>\n",
              "      <td>49</td>\n",
              "      <td>65</td>\n",
              "    </tr>\n",
              "    <tr>\n",
              "      <td>1</td>\n",
              "      <td>2</td>\n",
              "      <td>Ivysaur</td>\n",
              "      <td>60</td>\n",
              "      <td>63</td>\n",
              "      <td>80</td>\n",
              "    </tr>\n",
              "    <tr>\n",
              "      <td>2</td>\n",
              "      <td>3</td>\n",
              "      <td>Venusaur</td>\n",
              "      <td>80</td>\n",
              "      <td>83</td>\n",
              "      <td>100</td>\n",
              "    </tr>\n",
              "    <tr>\n",
              "      <td>3</td>\n",
              "      <td>3</td>\n",
              "      <td>VenusaurMega Venusaur</td>\n",
              "      <td>80</td>\n",
              "      <td>123</td>\n",
              "      <td>120</td>\n",
              "    </tr>\n",
              "    <tr>\n",
              "      <td>4</td>\n",
              "      <td>4</td>\n",
              "      <td>Charmander</td>\n",
              "      <td>39</td>\n",
              "      <td>43</td>\n",
              "      <td>50</td>\n",
              "    </tr>\n",
              "  </tbody>\n",
              "</table>\n",
              "</div>"
            ],
            "text/plain": [
              "   #                   Name  HP  Defense  Sp_Def\n",
              "0  1              Bulbasaur  45       49      65\n",
              "1  2                Ivysaur  60       63      80\n",
              "2  3               Venusaur  80       83     100\n",
              "3  3  VenusaurMega Venusaur  80      123     120\n",
              "4  4             Charmander  39       43      50"
            ]
          },
          "metadata": {
            "tags": []
          },
          "execution_count": 59
        }
      ]
    },
    {
      "cell_type": "code",
      "metadata": {
        "id": "kKdeEB6oLX6X",
        "outputId": "5cda687c-c87d-488e-9e6c-47a1f07faf8f"
      },
      "source": [
        "fire_pkmn = pkmn[(pkmn.Type_1=='Fire')|(pkmn.Type_2=='Fire')] #filtrando apenas linhas com algumas condições\n",
        "fire_pkmn.head()"
      ],
      "execution_count": null,
      "outputs": [
        {
          "output_type": "execute_result",
          "data": {
            "text/html": [
              "<div>\n",
              "<style scoped>\n",
              "    .dataframe tbody tr th:only-of-type {\n",
              "        vertical-align: middle;\n",
              "    }\n",
              "\n",
              "    .dataframe tbody tr th {\n",
              "        vertical-align: top;\n",
              "    }\n",
              "\n",
              "    .dataframe thead th {\n",
              "        text-align: right;\n",
              "    }\n",
              "</style>\n",
              "<table border=\"1\" class=\"dataframe\">\n",
              "  <thead>\n",
              "    <tr style=\"text-align: right;\">\n",
              "      <th></th>\n",
              "      <th>#</th>\n",
              "      <th>Name</th>\n",
              "      <th>Type_1</th>\n",
              "      <th>Type_2</th>\n",
              "      <th>Total</th>\n",
              "      <th>HP</th>\n",
              "      <th>Attack</th>\n",
              "      <th>Defense</th>\n",
              "      <th>Sp_Atk</th>\n",
              "      <th>Sp_Def</th>\n",
              "      <th>Speed</th>\n",
              "      <th>Generation</th>\n",
              "      <th>Legendary</th>\n",
              "    </tr>\n",
              "  </thead>\n",
              "  <tbody>\n",
              "    <tr>\n",
              "      <td>4</td>\n",
              "      <td>4</td>\n",
              "      <td>Charmander</td>\n",
              "      <td>Fire</td>\n",
              "      <td>NaN</td>\n",
              "      <td>309</td>\n",
              "      <td>39</td>\n",
              "      <td>52</td>\n",
              "      <td>43</td>\n",
              "      <td>60</td>\n",
              "      <td>50</td>\n",
              "      <td>65</td>\n",
              "      <td>1</td>\n",
              "      <td>False</td>\n",
              "    </tr>\n",
              "    <tr>\n",
              "      <td>5</td>\n",
              "      <td>5</td>\n",
              "      <td>Charmeleon</td>\n",
              "      <td>Fire</td>\n",
              "      <td>NaN</td>\n",
              "      <td>405</td>\n",
              "      <td>58</td>\n",
              "      <td>64</td>\n",
              "      <td>58</td>\n",
              "      <td>80</td>\n",
              "      <td>65</td>\n",
              "      <td>80</td>\n",
              "      <td>1</td>\n",
              "      <td>False</td>\n",
              "    </tr>\n",
              "    <tr>\n",
              "      <td>6</td>\n",
              "      <td>6</td>\n",
              "      <td>Charizard</td>\n",
              "      <td>Fire</td>\n",
              "      <td>Flying</td>\n",
              "      <td>534</td>\n",
              "      <td>78</td>\n",
              "      <td>84</td>\n",
              "      <td>78</td>\n",
              "      <td>109</td>\n",
              "      <td>85</td>\n",
              "      <td>100</td>\n",
              "      <td>1</td>\n",
              "      <td>False</td>\n",
              "    </tr>\n",
              "    <tr>\n",
              "      <td>7</td>\n",
              "      <td>6</td>\n",
              "      <td>CharizardMega Charizard X</td>\n",
              "      <td>Fire</td>\n",
              "      <td>Dragon</td>\n",
              "      <td>634</td>\n",
              "      <td>78</td>\n",
              "      <td>130</td>\n",
              "      <td>111</td>\n",
              "      <td>130</td>\n",
              "      <td>85</td>\n",
              "      <td>100</td>\n",
              "      <td>1</td>\n",
              "      <td>False</td>\n",
              "    </tr>\n",
              "    <tr>\n",
              "      <td>8</td>\n",
              "      <td>6</td>\n",
              "      <td>CharizardMega Charizard Y</td>\n",
              "      <td>Fire</td>\n",
              "      <td>Flying</td>\n",
              "      <td>634</td>\n",
              "      <td>78</td>\n",
              "      <td>104</td>\n",
              "      <td>78</td>\n",
              "      <td>159</td>\n",
              "      <td>115</td>\n",
              "      <td>100</td>\n",
              "      <td>1</td>\n",
              "      <td>False</td>\n",
              "    </tr>\n",
              "  </tbody>\n",
              "</table>\n",
              "</div>"
            ],
            "text/plain": [
              "   #                       Name Type_1  Type_2  Total  HP  Attack  Defense  \\\n",
              "4  4                 Charmander   Fire     NaN    309  39      52       43   \n",
              "5  5                 Charmeleon   Fire     NaN    405  58      64       58   \n",
              "6  6                  Charizard   Fire  Flying    534  78      84       78   \n",
              "7  6  CharizardMega Charizard X   Fire  Dragon    634  78     130      111   \n",
              "8  6  CharizardMega Charizard Y   Fire  Flying    634  78     104       78   \n",
              "\n",
              "   Sp_Atk  Sp_Def  Speed  Generation  Legendary  \n",
              "4      60      50     65           1      False  \n",
              "5      80      65     80           1      False  \n",
              "6     109      85    100           1      False  \n",
              "7     130      85    100           1      False  \n",
              "8     159     115    100           1      False  "
            ]
          },
          "metadata": {
            "tags": []
          },
          "execution_count": 60
        }
      ]
    },
    {
      "cell_type": "code",
      "metadata": {
        "id": "CDON_J7mLX6Y",
        "outputId": "213a4916-388a-43a1-846e-d17627c3090c"
      },
      "source": [
        "water_pkmn = pkmn[(pkmn.Type_1=='Water')|(pkmn.Type_2=='Water')] #filtrando apenas linhas com algumas condições\n",
        "water_pkmn.head()"
      ],
      "execution_count": null,
      "outputs": [
        {
          "output_type": "execute_result",
          "data": {
            "text/html": [
              "<div>\n",
              "<style scoped>\n",
              "    .dataframe tbody tr th:only-of-type {\n",
              "        vertical-align: middle;\n",
              "    }\n",
              "\n",
              "    .dataframe tbody tr th {\n",
              "        vertical-align: top;\n",
              "    }\n",
              "\n",
              "    .dataframe thead th {\n",
              "        text-align: right;\n",
              "    }\n",
              "</style>\n",
              "<table border=\"1\" class=\"dataframe\">\n",
              "  <thead>\n",
              "    <tr style=\"text-align: right;\">\n",
              "      <th></th>\n",
              "      <th>#</th>\n",
              "      <th>Name</th>\n",
              "      <th>Type_1</th>\n",
              "      <th>Type_2</th>\n",
              "      <th>Total</th>\n",
              "      <th>HP</th>\n",
              "      <th>Attack</th>\n",
              "      <th>Defense</th>\n",
              "      <th>Sp_Atk</th>\n",
              "      <th>Sp_Def</th>\n",
              "      <th>Speed</th>\n",
              "      <th>Generation</th>\n",
              "      <th>Legendary</th>\n",
              "    </tr>\n",
              "  </thead>\n",
              "  <tbody>\n",
              "    <tr>\n",
              "      <td>9</td>\n",
              "      <td>7</td>\n",
              "      <td>Squirtle</td>\n",
              "      <td>Water</td>\n",
              "      <td>NaN</td>\n",
              "      <td>314</td>\n",
              "      <td>44</td>\n",
              "      <td>48</td>\n",
              "      <td>65</td>\n",
              "      <td>50</td>\n",
              "      <td>64</td>\n",
              "      <td>43</td>\n",
              "      <td>1</td>\n",
              "      <td>False</td>\n",
              "    </tr>\n",
              "    <tr>\n",
              "      <td>10</td>\n",
              "      <td>8</td>\n",
              "      <td>Wartortle</td>\n",
              "      <td>Water</td>\n",
              "      <td>NaN</td>\n",
              "      <td>405</td>\n",
              "      <td>59</td>\n",
              "      <td>63</td>\n",
              "      <td>80</td>\n",
              "      <td>65</td>\n",
              "      <td>80</td>\n",
              "      <td>58</td>\n",
              "      <td>1</td>\n",
              "      <td>False</td>\n",
              "    </tr>\n",
              "    <tr>\n",
              "      <td>11</td>\n",
              "      <td>9</td>\n",
              "      <td>Blastoise</td>\n",
              "      <td>Water</td>\n",
              "      <td>NaN</td>\n",
              "      <td>530</td>\n",
              "      <td>79</td>\n",
              "      <td>83</td>\n",
              "      <td>100</td>\n",
              "      <td>85</td>\n",
              "      <td>105</td>\n",
              "      <td>78</td>\n",
              "      <td>1</td>\n",
              "      <td>False</td>\n",
              "    </tr>\n",
              "    <tr>\n",
              "      <td>12</td>\n",
              "      <td>9</td>\n",
              "      <td>BlastoiseMega Blastoise</td>\n",
              "      <td>Water</td>\n",
              "      <td>NaN</td>\n",
              "      <td>630</td>\n",
              "      <td>79</td>\n",
              "      <td>103</td>\n",
              "      <td>120</td>\n",
              "      <td>135</td>\n",
              "      <td>115</td>\n",
              "      <td>78</td>\n",
              "      <td>1</td>\n",
              "      <td>False</td>\n",
              "    </tr>\n",
              "    <tr>\n",
              "      <td>59</td>\n",
              "      <td>54</td>\n",
              "      <td>Psyduck</td>\n",
              "      <td>Water</td>\n",
              "      <td>NaN</td>\n",
              "      <td>320</td>\n",
              "      <td>50</td>\n",
              "      <td>52</td>\n",
              "      <td>48</td>\n",
              "      <td>65</td>\n",
              "      <td>50</td>\n",
              "      <td>55</td>\n",
              "      <td>1</td>\n",
              "      <td>False</td>\n",
              "    </tr>\n",
              "  </tbody>\n",
              "</table>\n",
              "</div>"
            ],
            "text/plain": [
              "     #                     Name Type_1 Type_2  Total  HP  Attack  Defense  \\\n",
              "9    7                 Squirtle  Water    NaN    314  44      48       65   \n",
              "10   8                Wartortle  Water    NaN    405  59      63       80   \n",
              "11   9                Blastoise  Water    NaN    530  79      83      100   \n",
              "12   9  BlastoiseMega Blastoise  Water    NaN    630  79     103      120   \n",
              "59  54                  Psyduck  Water    NaN    320  50      52       48   \n",
              "\n",
              "    Sp_Atk  Sp_Def  Speed  Generation  Legendary  \n",
              "9       50      64     43           1      False  \n",
              "10      65      80     58           1      False  \n",
              "11      85     105     78           1      False  \n",
              "12     135     115     78           1      False  \n",
              "59      65      50     55           1      False  "
            ]
          },
          "metadata": {
            "tags": []
          },
          "execution_count": 61
        }
      ]
    },
    {
      "cell_type": "markdown",
      "metadata": {
        "id": "_O9qtcbaLX6a"
      },
      "source": [
        "#### Exercício 3.4 (18 Pontos)\n",
        "*Correção Binária: O aluno recebe todos os pontos caso cumpra todos os objetivos do exercicio (independente da lógica ou estilo da programação), caso contrário, recebe zero.*\n",
        "\n",
        "Siga as instruções e substitua os \\____ para exercitar o que aprendemos."
      ]
    },
    {
      "cell_type": "code",
      "metadata": {
        "id": "qKk90MQ6LX6a",
        "scrolled": true,
        "outputId": "3066bc92-651c-4a43-e300-26fbac6257a2"
      },
      "source": [
        "# mostre as 5 primeiras linhas das colunas player_name, position and nationality\n",
        "fut_players[['player_name', 'position', 'nationality']].head()"
      ],
      "execution_count": null,
      "outputs": [
        {
          "output_type": "execute_result",
          "data": {
            "text/html": [
              "<div>\n",
              "<style scoped>\n",
              "    .dataframe tbody tr th:only-of-type {\n",
              "        vertical-align: middle;\n",
              "    }\n",
              "\n",
              "    .dataframe tbody tr th {\n",
              "        vertical-align: top;\n",
              "    }\n",
              "\n",
              "    .dataframe thead th {\n",
              "        text-align: right;\n",
              "    }\n",
              "</style>\n",
              "<table border=\"1\" class=\"dataframe\">\n",
              "  <thead>\n",
              "    <tr style=\"text-align: right;\">\n",
              "      <th></th>\n",
              "      <th>player_name</th>\n",
              "      <th>position</th>\n",
              "      <th>nationality</th>\n",
              "    </tr>\n",
              "  </thead>\n",
              "  <tbody>\n",
              "    <tr>\n",
              "      <td>0</td>\n",
              "      <td>Pelé</td>\n",
              "      <td>CAM</td>\n",
              "      <td>Brazil</td>\n",
              "    </tr>\n",
              "    <tr>\n",
              "      <td>1</td>\n",
              "      <td>Maradona</td>\n",
              "      <td>CAM</td>\n",
              "      <td>Argentina</td>\n",
              "    </tr>\n",
              "    <tr>\n",
              "      <td>2</td>\n",
              "      <td>Ronaldo</td>\n",
              "      <td>ST</td>\n",
              "      <td>Brazil</td>\n",
              "    </tr>\n",
              "    <tr>\n",
              "      <td>3</td>\n",
              "      <td>Pelé</td>\n",
              "      <td>CF</td>\n",
              "      <td>Brazil</td>\n",
              "    </tr>\n",
              "    <tr>\n",
              "      <td>4</td>\n",
              "      <td>Maradona</td>\n",
              "      <td>CAM</td>\n",
              "      <td>Argentina</td>\n",
              "    </tr>\n",
              "  </tbody>\n",
              "</table>\n",
              "</div>"
            ],
            "text/plain": [
              "  player_name position nationality\n",
              "0        Pelé      CAM      Brazil\n",
              "1    Maradona      CAM   Argentina\n",
              "2     Ronaldo       ST      Brazil\n",
              "3        Pelé       CF      Brazil\n",
              "4    Maradona      CAM   Argentina"
            ]
          },
          "metadata": {
            "tags": []
          },
          "execution_count": 62
        }
      ]
    },
    {
      "cell_type": "code",
      "metadata": {
        "id": "phfJQgDFLX6d",
        "outputId": "4780b3c5-2e61-4583-b9e0-8ce0392e5775"
      },
      "source": [
        "#renomeie as colunas player_id, player_name and player_extended_name para id, name and extended_name, respectivamente\n",
        "fut_players.rename(\n",
        "    columns={'player_id': 'id', 'player_name': 'name', 'player_extended_name': 'extended_name'},\n",
        "    inplace = True\n",
        ")\n",
        "\n",
        "fut_players.info()"
      ],
      "execution_count": null,
      "outputs": [
        {
          "output_type": "stream",
          "text": [
            "<class 'pandas.core.frame.DataFrame'>\n",
            "RangeIndex: 18831 entries, 0 to 18830\n",
            "Data columns (total 82 columns):\n",
            "id                   18831 non-null int64\n",
            "name                 18831 non-null object\n",
            "extended_name        18831 non-null object\n",
            "quality              18831 non-null object\n",
            "revision             18826 non-null object\n",
            "origin               2478 non-null object\n",
            "overall              18831 non-null int64\n",
            "club                 18831 non-null object\n",
            "league               18831 non-null object\n",
            "nationality          18831 non-null object\n",
            "position             18831 non-null object\n",
            "age                  18831 non-null int64\n",
            "date_of_birth        18831 non-null object\n",
            "height               18831 non-null int64\n",
            "weight               18831 non-null int64\n",
            "intl_rep             18831 non-null int64\n",
            "added_date           18831 non-null object\n",
            "pace                 16882 non-null float64\n",
            "pace_acceleration    18831 non-null int64\n",
            "pace_sprint_speed    18831 non-null int64\n",
            "dribbling            16882 non-null float64\n",
            "drib_agility         18831 non-null int64\n",
            "drib_balance         18831 non-null int64\n",
            "drib_reactions       18831 non-null int64\n",
            "drib_ball_control    18831 non-null int64\n",
            "drib_dribbling       18831 non-null int64\n",
            "drib_composure       18831 non-null int64\n",
            "shooting             16882 non-null float64\n",
            "shoot_positioning    18831 non-null int64\n",
            "shoot_finishing      18831 non-null int64\n",
            "shoot_shot_power     18831 non-null int64\n",
            "shoot_long_shots     18831 non-null int64\n",
            "shoot_volleys        18831 non-null int64\n",
            "shoot_penalties      18831 non-null int64\n",
            "passing              16882 non-null float64\n",
            "pass_vision          18831 non-null int64\n",
            "pass_crossing        18831 non-null int64\n",
            "pass_free_kick       18831 non-null int64\n",
            "pass_short           18831 non-null int64\n",
            "pass_long            18831 non-null int64\n",
            "pass_curve           18831 non-null int64\n",
            "defending            16882 non-null float64\n",
            "def_interceptions    18831 non-null int64\n",
            "def_heading          18831 non-null int64\n",
            "def_marking          18831 non-null int64\n",
            "def_stand_tackle     18831 non-null int64\n",
            "def_slid_tackle      18831 non-null int64\n",
            "physicality          16882 non-null float64\n",
            "phys_jumping         18831 non-null int64\n",
            "phys_stamina         18831 non-null int64\n",
            "phys_strength        18831 non-null int64\n",
            "phys_aggression      18831 non-null int64\n",
            "gk_diving            1949 non-null float64\n",
            "gk_reflexes          1949 non-null float64\n",
            "gk_handling          1949 non-null float64\n",
            "gk_speed             1949 non-null float64\n",
            "gk_kicking           1949 non-null float64\n",
            "gk_positoning        1949 non-null float64\n",
            "pref_foot            18831 non-null object\n",
            "att_workrate         18831 non-null object\n",
            "def_workrate         18831 non-null object\n",
            "weak_foot            18831 non-null int64\n",
            "skill_moves          18831 non-null int64\n",
            "cb                   16882 non-null float64\n",
            "rb                   16882 non-null float64\n",
            "lb                   16882 non-null float64\n",
            "rwb                  16882 non-null float64\n",
            "lwb                  16882 non-null float64\n",
            "cdm                  16882 non-null float64\n",
            "cm                   16882 non-null float64\n",
            "rm                   16882 non-null float64\n",
            "lm                   16882 non-null float64\n",
            "cam                  16882 non-null float64\n",
            "cf                   16882 non-null float64\n",
            "rf                   16882 non-null float64\n",
            "lf                   16882 non-null float64\n",
            "rw                   16882 non-null float64\n",
            "lw                   16882 non-null float64\n",
            "st                   16882 non-null float64\n",
            "traits               7151 non-null object\n",
            "specialities         2380 non-null object\n",
            "base_id              18831 non-null int64\n",
            "dtypes: float64(28), int64(38), object(16)\n",
            "memory usage: 11.8+ MB\n"
          ],
          "name": "stdout"
        }
      ]
    },
    {
      "cell_type": "code",
      "metadata": {
        "id": "WqTRIXF7LX6f",
        "outputId": "ecd333e3-dc43-41cb-e76c-b5b2b11b0f48"
      },
      "source": [
        "#imprima a coluna extended_name do 4534º jogador usando loc e iloc\n",
        "print(fut_players.iloc[4533,2])\n",
        "print(fut_players.loc[4533,'extended_name'])"
      ],
      "execution_count": null,
      "outputs": [
        {
          "output_type": "stream",
          "text": [
            "Sandro Sirigu\n",
            "Sandro Sirigu\n"
          ],
          "name": "stdout"
        }
      ]
    },
    {
      "cell_type": "code",
      "metadata": {
        "id": "0sasag87LX6g",
        "outputId": "be47bd8c-e813-42b2-e9df-8de596c889f2"
      },
      "source": [
        "#nosso DataFrame tem muitas colunas\n",
        "#crie outro DataFrame (fut_players_2) apenas com as colunas na lista abaixo\n",
        "selected_columns = ['id', 'name', 'overall', 'nationality', 'position', 'pref_foot', 'base_id']\n",
        "\n",
        "fut_players_2 = fut_players[selected_columns]\n",
        "\n",
        "fut_players_2.info()"
      ],
      "execution_count": null,
      "outputs": [
        {
          "output_type": "stream",
          "text": [
            "<class 'pandas.core.frame.DataFrame'>\n",
            "RangeIndex: 18831 entries, 0 to 18830\n",
            "Data columns (total 7 columns):\n",
            "id             18831 non-null int64\n",
            "name           18831 non-null object\n",
            "overall        18831 non-null int64\n",
            "nationality    18831 non-null object\n",
            "position       18831 non-null object\n",
            "pref_foot      18831 non-null object\n",
            "base_id        18831 non-null int64\n",
            "dtypes: int64(3), object(4)\n",
            "memory usage: 1.0+ MB\n"
          ],
          "name": "stdout"
        }
      ]
    },
    {
      "cell_type": "code",
      "metadata": {
        "id": "QhYaVkXcLX6i",
        "outputId": "e1649856-121c-4c23-d11b-52f43449effe"
      },
      "source": [
        "#queremos ver os melhores jogadores nascidos no Brasil (Brazil), isto é, aqueles com médio (overall) acima de 90\n",
        "#mostre os 15 primeiros\n",
        "aux_1 = fut_players_2[(fut_players_2.overall>90)&(fut_players_2.nationality=='Brazil')]\n",
        "aux_1.head(15)"
      ],
      "execution_count": null,
      "outputs": [
        {
          "output_type": "execute_result",
          "data": {
            "text/html": [
              "<div>\n",
              "<style scoped>\n",
              "    .dataframe tbody tr th:only-of-type {\n",
              "        vertical-align: middle;\n",
              "    }\n",
              "\n",
              "    .dataframe tbody tr th {\n",
              "        vertical-align: top;\n",
              "    }\n",
              "\n",
              "    .dataframe thead th {\n",
              "        text-align: right;\n",
              "    }\n",
              "</style>\n",
              "<table border=\"1\" class=\"dataframe\">\n",
              "  <thead>\n",
              "    <tr style=\"text-align: right;\">\n",
              "      <th></th>\n",
              "      <th>id</th>\n",
              "      <th>name</th>\n",
              "      <th>overall</th>\n",
              "      <th>nationality</th>\n",
              "      <th>position</th>\n",
              "      <th>pref_foot</th>\n",
              "      <th>base_id</th>\n",
              "    </tr>\n",
              "  </thead>\n",
              "  <tbody>\n",
              "    <tr>\n",
              "      <td>0</td>\n",
              "      <td>1</td>\n",
              "      <td>Pelé</td>\n",
              "      <td>98</td>\n",
              "      <td>Brazil</td>\n",
              "      <td>CAM</td>\n",
              "      <td>Right</td>\n",
              "      <td>237067</td>\n",
              "    </tr>\n",
              "    <tr>\n",
              "      <td>2</td>\n",
              "      <td>3</td>\n",
              "      <td>Ronaldo</td>\n",
              "      <td>96</td>\n",
              "      <td>Brazil</td>\n",
              "      <td>ST</td>\n",
              "      <td>Right</td>\n",
              "      <td>37576</td>\n",
              "    </tr>\n",
              "    <tr>\n",
              "      <td>3</td>\n",
              "      <td>4</td>\n",
              "      <td>Pelé</td>\n",
              "      <td>95</td>\n",
              "      <td>Brazil</td>\n",
              "      <td>CF</td>\n",
              "      <td>Right</td>\n",
              "      <td>237068</td>\n",
              "    </tr>\n",
              "    <tr>\n",
              "      <td>6</td>\n",
              "      <td>7</td>\n",
              "      <td>Ronaldo</td>\n",
              "      <td>94</td>\n",
              "      <td>Brazil</td>\n",
              "      <td>ST</td>\n",
              "      <td>Right</td>\n",
              "      <td>237064</td>\n",
              "    </tr>\n",
              "    <tr>\n",
              "      <td>8</td>\n",
              "      <td>9</td>\n",
              "      <td>Ronaldinho</td>\n",
              "      <td>94</td>\n",
              "      <td>Brazil</td>\n",
              "      <td>LW</td>\n",
              "      <td>Right</td>\n",
              "      <td>28130</td>\n",
              "    </tr>\n",
              "    <tr>\n",
              "      <td>37</td>\n",
              "      <td>38</td>\n",
              "      <td>Ronaldinho</td>\n",
              "      <td>91</td>\n",
              "      <td>Brazil</td>\n",
              "      <td>CAM</td>\n",
              "      <td>Right</td>\n",
              "      <td>238395</td>\n",
              "    </tr>\n",
              "    <tr>\n",
              "      <td>48</td>\n",
              "      <td>49</td>\n",
              "      <td>Pelé</td>\n",
              "      <td>91</td>\n",
              "      <td>Brazil</td>\n",
              "      <td>CF</td>\n",
              "      <td>Right</td>\n",
              "      <td>190043</td>\n",
              "    </tr>\n",
              "    <tr>\n",
              "      <td>51</td>\n",
              "      <td>52</td>\n",
              "      <td>Carlos</td>\n",
              "      <td>91</td>\n",
              "      <td>Brazil</td>\n",
              "      <td>LB</td>\n",
              "      <td>Left</td>\n",
              "      <td>238430</td>\n",
              "    </tr>\n",
              "    <tr>\n",
              "      <td>826</td>\n",
              "      <td>846</td>\n",
              "      <td>Neymar Jr</td>\n",
              "      <td>92</td>\n",
              "      <td>Brazil</td>\n",
              "      <td>LW</td>\n",
              "      <td>Right</td>\n",
              "      <td>190871</td>\n",
              "    </tr>\n",
              "    <tr>\n",
              "      <td>12632</td>\n",
              "      <td>13091</td>\n",
              "      <td>Rivaldo</td>\n",
              "      <td>92</td>\n",
              "      <td>Brazil</td>\n",
              "      <td>LW</td>\n",
              "      <td>Left</td>\n",
              "      <td>4231</td>\n",
              "    </tr>\n",
              "    <tr>\n",
              "      <td>12637</td>\n",
              "      <td>13096</td>\n",
              "      <td>Sócrates</td>\n",
              "      <td>91</td>\n",
              "      <td>Brazil</td>\n",
              "      <td>CAM</td>\n",
              "      <td>Right</td>\n",
              "      <td>190046</td>\n",
              "    </tr>\n",
              "    <tr>\n",
              "      <td>16491</td>\n",
              "      <td>16951</td>\n",
              "      <td>Neymar Jr</td>\n",
              "      <td>93</td>\n",
              "      <td>Brazil</td>\n",
              "      <td>LW</td>\n",
              "      <td>Right</td>\n",
              "      <td>190871</td>\n",
              "    </tr>\n",
              "    <tr>\n",
              "      <td>16551</td>\n",
              "      <td>17014</td>\n",
              "      <td>Neymar Jr</td>\n",
              "      <td>93</td>\n",
              "      <td>Brazil</td>\n",
              "      <td>LF</td>\n",
              "      <td>Right</td>\n",
              "      <td>190871</td>\n",
              "    </tr>\n",
              "    <tr>\n",
              "      <td>16923</td>\n",
              "      <td>17388</td>\n",
              "      <td>Neymar Jr</td>\n",
              "      <td>94</td>\n",
              "      <td>Brazil</td>\n",
              "      <td>CAM</td>\n",
              "      <td>Right</td>\n",
              "      <td>190871</td>\n",
              "    </tr>\n",
              "    <tr>\n",
              "      <td>17139</td>\n",
              "      <td>17604</td>\n",
              "      <td>Marcelo</td>\n",
              "      <td>94</td>\n",
              "      <td>Brazil</td>\n",
              "      <td>LB</td>\n",
              "      <td>Left</td>\n",
              "      <td>176676</td>\n",
              "    </tr>\n",
              "  </tbody>\n",
              "</table>\n",
              "</div>"
            ],
            "text/plain": [
              "          id        name  overall nationality position pref_foot  base_id\n",
              "0          1        Pelé       98      Brazil      CAM     Right   237067\n",
              "2          3     Ronaldo       96      Brazil       ST     Right    37576\n",
              "3          4        Pelé       95      Brazil       CF     Right   237068\n",
              "6          7     Ronaldo       94      Brazil       ST     Right   237064\n",
              "8          9  Ronaldinho       94      Brazil       LW     Right    28130\n",
              "37        38  Ronaldinho       91      Brazil      CAM     Right   238395\n",
              "48        49        Pelé       91      Brazil       CF     Right   190043\n",
              "51        52      Carlos       91      Brazil       LB      Left   238430\n",
              "826      846   Neymar Jr       92      Brazil       LW     Right   190871\n",
              "12632  13091     Rivaldo       92      Brazil       LW      Left     4231\n",
              "12637  13096    Sócrates       91      Brazil      CAM     Right   190046\n",
              "16491  16951   Neymar Jr       93      Brazil       LW     Right   190871\n",
              "16551  17014   Neymar Jr       93      Brazil       LF     Right   190871\n",
              "16923  17388   Neymar Jr       94      Brazil      CAM     Right   190871\n",
              "17139  17604     Marcelo       94      Brazil       LB      Left   176676"
            ]
          },
          "metadata": {
            "tags": []
          },
          "execution_count": 66
        }
      ]
    },
    {
      "cell_type": "code",
      "metadata": {
        "id": "NxsJk3tULX6k",
        "outputId": "13c8cb86-87bf-41cd-d0b5-d4b44d7a0dcf"
      },
      "source": [
        "#vários jogadores bons!\n",
        "#agora mostre os jogadores brasileiros que sejam canhotos (pref_foot é Left) ou que sejam goleiros (position é GK)\n",
        "aux_2 = fut_players_2[(fut_players_2.pref_foot=='Left')&(fut_players_2.position=='GK')]\n",
        "aux_2.head(20)"
      ],
      "execution_count": null,
      "outputs": [
        {
          "output_type": "execute_result",
          "data": {
            "text/html": [
              "<div>\n",
              "<style scoped>\n",
              "    .dataframe tbody tr th:only-of-type {\n",
              "        vertical-align: middle;\n",
              "    }\n",
              "\n",
              "    .dataframe tbody tr th {\n",
              "        vertical-align: top;\n",
              "    }\n",
              "\n",
              "    .dataframe thead th {\n",
              "        text-align: right;\n",
              "    }\n",
              "</style>\n",
              "<table border=\"1\" class=\"dataframe\">\n",
              "  <thead>\n",
              "    <tr style=\"text-align: right;\">\n",
              "      <th></th>\n",
              "      <th>id</th>\n",
              "      <th>name</th>\n",
              "      <th>overall</th>\n",
              "      <th>nationality</th>\n",
              "      <th>position</th>\n",
              "      <th>pref_foot</th>\n",
              "      <th>base_id</th>\n",
              "    </tr>\n",
              "  </thead>\n",
              "  <tbody>\n",
              "    <tr>\n",
              "      <td>184</td>\n",
              "      <td>186</td>\n",
              "      <td>Pinsoglio</td>\n",
              "      <td>72</td>\n",
              "      <td>Italy</td>\n",
              "      <td>GK</td>\n",
              "      <td>Left</td>\n",
              "      <td>189342</td>\n",
              "    </tr>\n",
              "    <tr>\n",
              "      <td>292</td>\n",
              "      <td>298</td>\n",
              "      <td>Ederson</td>\n",
              "      <td>87</td>\n",
              "      <td>Brazil</td>\n",
              "      <td>GK</td>\n",
              "      <td>Left</td>\n",
              "      <td>210257</td>\n",
              "    </tr>\n",
              "    <tr>\n",
              "      <td>296</td>\n",
              "      <td>302</td>\n",
              "      <td>Ederson</td>\n",
              "      <td>86</td>\n",
              "      <td>Brazil</td>\n",
              "      <td>GK</td>\n",
              "      <td>Left</td>\n",
              "      <td>210257</td>\n",
              "    </tr>\n",
              "    <tr>\n",
              "      <td>452</td>\n",
              "      <td>459</td>\n",
              "      <td>Früchtl</td>\n",
              "      <td>65</td>\n",
              "      <td>Germany</td>\n",
              "      <td>GK</td>\n",
              "      <td>Left</td>\n",
              "      <td>235266</td>\n",
              "    </tr>\n",
              "    <tr>\n",
              "      <td>506</td>\n",
              "      <td>513</td>\n",
              "      <td>Lloris</td>\n",
              "      <td>89</td>\n",
              "      <td>France</td>\n",
              "      <td>GK</td>\n",
              "      <td>Left</td>\n",
              "      <td>167948</td>\n",
              "    </tr>\n",
              "    <tr>\n",
              "      <td>508</td>\n",
              "      <td>515</td>\n",
              "      <td>Lloris</td>\n",
              "      <td>88</td>\n",
              "      <td>France</td>\n",
              "      <td>GK</td>\n",
              "      <td>Left</td>\n",
              "      <td>167948</td>\n",
              "    </tr>\n",
              "    <tr>\n",
              "      <td>560</td>\n",
              "      <td>569</td>\n",
              "      <td>Cech</td>\n",
              "      <td>82</td>\n",
              "      <td>Czech Republic</td>\n",
              "      <td>GK</td>\n",
              "      <td>Left</td>\n",
              "      <td>48940</td>\n",
              "    </tr>\n",
              "    <tr>\n",
              "      <td>580</td>\n",
              "      <td>591</td>\n",
              "      <td>Courtois</td>\n",
              "      <td>91</td>\n",
              "      <td>Belgium</td>\n",
              "      <td>GK</td>\n",
              "      <td>Left</td>\n",
              "      <td>192119</td>\n",
              "    </tr>\n",
              "    <tr>\n",
              "      <td>584</td>\n",
              "      <td>595</td>\n",
              "      <td>Courtois</td>\n",
              "      <td>90</td>\n",
              "      <td>Belgium</td>\n",
              "      <td>GK</td>\n",
              "      <td>Left</td>\n",
              "      <td>192119</td>\n",
              "    </tr>\n",
              "    <tr>\n",
              "      <td>624</td>\n",
              "      <td>636</td>\n",
              "      <td>Pickford</td>\n",
              "      <td>83</td>\n",
              "      <td>England</td>\n",
              "      <td>GK</td>\n",
              "      <td>Left</td>\n",
              "      <td>204935</td>\n",
              "    </tr>\n",
              "    <tr>\n",
              "      <td>677</td>\n",
              "      <td>694</td>\n",
              "      <td>Viviano</td>\n",
              "      <td>83</td>\n",
              "      <td>Italy</td>\n",
              "      <td>GK</td>\n",
              "      <td>Left</td>\n",
              "      <td>168354</td>\n",
              "    </tr>\n",
              "    <tr>\n",
              "      <td>698</td>\n",
              "      <td>715</td>\n",
              "      <td>Salin</td>\n",
              "      <td>73</td>\n",
              "      <td>France</td>\n",
              "      <td>GK</td>\n",
              "      <td>Left</td>\n",
              "      <td>150477</td>\n",
              "    </tr>\n",
              "    <tr>\n",
              "      <td>739</td>\n",
              "      <td>758</td>\n",
              "      <td>Meret</td>\n",
              "      <td>76</td>\n",
              "      <td>Italy</td>\n",
              "      <td>GK</td>\n",
              "      <td>Left</td>\n",
              "      <td>225116</td>\n",
              "    </tr>\n",
              "    <tr>\n",
              "      <td>743</td>\n",
              "      <td>762</td>\n",
              "      <td>Meret</td>\n",
              "      <td>75</td>\n",
              "      <td>Italy</td>\n",
              "      <td>GK</td>\n",
              "      <td>Left</td>\n",
              "      <td>225116</td>\n",
              "    </tr>\n",
              "    <tr>\n",
              "      <td>752</td>\n",
              "      <td>772</td>\n",
              "      <td>Casillas</td>\n",
              "      <td>83</td>\n",
              "      <td>Spain</td>\n",
              "      <td>GK</td>\n",
              "      <td>Left</td>\n",
              "      <td>5479</td>\n",
              "    </tr>\n",
              "    <tr>\n",
              "      <td>755</td>\n",
              "      <td>775</td>\n",
              "      <td>Casillas</td>\n",
              "      <td>82</td>\n",
              "      <td>Spain</td>\n",
              "      <td>GK</td>\n",
              "      <td>Left</td>\n",
              "      <td>5479</td>\n",
              "    </tr>\n",
              "    <tr>\n",
              "      <td>889</td>\n",
              "      <td>909</td>\n",
              "      <td>Adán</td>\n",
              "      <td>84</td>\n",
              "      <td>Spain</td>\n",
              "      <td>GK</td>\n",
              "      <td>Left</td>\n",
              "      <td>178086</td>\n",
              "    </tr>\n",
              "    <tr>\n",
              "      <td>890</td>\n",
              "      <td>910</td>\n",
              "      <td>Adán</td>\n",
              "      <td>83</td>\n",
              "      <td>Spain</td>\n",
              "      <td>GK</td>\n",
              "      <td>Left</td>\n",
              "      <td>178086</td>\n",
              "    </tr>\n",
              "    <tr>\n",
              "      <td>947</td>\n",
              "      <td>970</td>\n",
              "      <td>Foster</td>\n",
              "      <td>77</td>\n",
              "      <td>England</td>\n",
              "      <td>GK</td>\n",
              "      <td>Left</td>\n",
              "      <td>163155</td>\n",
              "    </tr>\n",
              "    <tr>\n",
              "      <td>1015</td>\n",
              "      <td>1039</td>\n",
              "      <td>Özcan</td>\n",
              "      <td>75</td>\n",
              "      <td>Austria</td>\n",
              "      <td>GK</td>\n",
              "      <td>Left</td>\n",
              "      <td>152211</td>\n",
              "    </tr>\n",
              "  </tbody>\n",
              "</table>\n",
              "</div>"
            ],
            "text/plain": [
              "        id       name  overall     nationality position pref_foot  base_id\n",
              "184    186  Pinsoglio       72           Italy       GK      Left   189342\n",
              "292    298    Ederson       87          Brazil       GK      Left   210257\n",
              "296    302    Ederson       86          Brazil       GK      Left   210257\n",
              "452    459    Früchtl       65         Germany       GK      Left   235266\n",
              "506    513     Lloris       89          France       GK      Left   167948\n",
              "508    515     Lloris       88          France       GK      Left   167948\n",
              "560    569       Cech       82  Czech Republic       GK      Left    48940\n",
              "580    591   Courtois       91         Belgium       GK      Left   192119\n",
              "584    595   Courtois       90         Belgium       GK      Left   192119\n",
              "624    636   Pickford       83         England       GK      Left   204935\n",
              "677    694    Viviano       83           Italy       GK      Left   168354\n",
              "698    715      Salin       73          France       GK      Left   150477\n",
              "739    758      Meret       76           Italy       GK      Left   225116\n",
              "743    762      Meret       75           Italy       GK      Left   225116\n",
              "752    772   Casillas       83           Spain       GK      Left     5479\n",
              "755    775   Casillas       82           Spain       GK      Left     5479\n",
              "889    909       Adán       84           Spain       GK      Left   178086\n",
              "890    910       Adán       83           Spain       GK      Left   178086\n",
              "947    970     Foster       77         England       GK      Left   163155\n",
              "1015  1039      Özcan       75         Austria       GK      Left   152211"
            ]
          },
          "metadata": {
            "tags": []
          },
          "execution_count": 67
        }
      ]
    },
    {
      "cell_type": "markdown",
      "metadata": {
        "id": "AmBRKdqILX6m"
      },
      "source": [
        "### 3.4 Juntando DataFrames\n",
        "\n",
        "É muito comum ter a necessidade de juntar *DataFrames* diferentes. Se você já utilizou SQL ou qualquer outro banco de dados relacional, deve conhecer isso como *join*. O Pandas também tem a mesma função utilizando o método *.merge()*. Antes do exemplo, vamos relembrar os tipos de *joins* mais comuns:<br>\n",
        "![Joining Methods](https://arquivo.devmedia.com.br/artigos/Fernanda_sallai/sql_join/image001.jpg) <br>\n",
        "Agora, vamos testar os *merge* nos *DataFrames* filtrados que criamos anteriormente:"
      ]
    },
    {
      "cell_type": "code",
      "metadata": {
        "id": "TAvmSiQ_LX6m",
        "outputId": "2fd7ff2f-7e53-4cab-c0f0-febfd57ba2eb"
      },
      "source": [
        "all_stats = pd.merge(\n",
        "    offensive_stats, #o DataDrame da esquerda\n",
        "    defensive_stats, #o DataDrame da direita\n",
        "    how='inner', #o tipo de join que queremos fazer\n",
        "    on=['#','Name']) #baseado em quais valores em comum\n",
        "all_stats.info()"
      ],
      "execution_count": null,
      "outputs": [
        {
          "output_type": "stream",
          "text": [
            "<class 'pandas.core.frame.DataFrame'>\n",
            "Int64Index: 800 entries, 0 to 799\n",
            "Data columns (total 8 columns):\n",
            "#          800 non-null int64\n",
            "Name       800 non-null object\n",
            "Attack     800 non-null int64\n",
            "Sp_Atk     800 non-null int64\n",
            "Speed      800 non-null int64\n",
            "HP         800 non-null int64\n",
            "Defense    800 non-null int64\n",
            "Sp_Def     800 non-null int64\n",
            "dtypes: int64(7), object(1)\n",
            "memory usage: 56.2+ KB\n"
          ],
          "name": "stdout"
        }
      ]
    },
    {
      "cell_type": "markdown",
      "metadata": {
        "id": "3BtOLFYiLX6o"
      },
      "source": [
        "Ótimo! Conseguimos fazer o *merge* (termo mais utilizado no Pandas) de dois *DataDrames*. Lembre-se que *inner*, *left*, *right* e *outer* terão resultados diferentes:"
      ]
    },
    {
      "cell_type": "code",
      "metadata": {
        "id": "Is4W9VlALX6o",
        "outputId": "8b8f45ee-0609-4a23-cb80-a0fd11666938"
      },
      "source": [
        "fire_pkmn.info()"
      ],
      "execution_count": null,
      "outputs": [
        {
          "output_type": "stream",
          "text": [
            "<class 'pandas.core.frame.DataFrame'>\n",
            "Int64Index: 64 entries, 4 to 799\n",
            "Data columns (total 13 columns):\n",
            "#             64 non-null int64\n",
            "Name          64 non-null object\n",
            "Type_1        64 non-null object\n",
            "Type_2        36 non-null object\n",
            "Total         64 non-null int64\n",
            "HP            64 non-null int64\n",
            "Attack        64 non-null int64\n",
            "Defense       64 non-null int64\n",
            "Sp_Atk        64 non-null int64\n",
            "Sp_Def        64 non-null int64\n",
            "Speed         64 non-null int64\n",
            "Generation    64 non-null int64\n",
            "Legendary     64 non-null bool\n",
            "dtypes: bool(1), int64(9), object(3)\n",
            "memory usage: 6.6+ KB\n"
          ],
          "name": "stdout"
        }
      ]
    },
    {
      "cell_type": "code",
      "metadata": {
        "id": "4zJxFgYaLX6q",
        "outputId": "812cf735-3e71-434d-e017-52afc77bafb9"
      },
      "source": [
        "water_pkmn.info()"
      ],
      "execution_count": null,
      "outputs": [
        {
          "output_type": "stream",
          "text": [
            "<class 'pandas.core.frame.DataFrame'>\n",
            "Int64Index: 126 entries, 9 to 799\n",
            "Data columns (total 13 columns):\n",
            "#             126 non-null int64\n",
            "Name          126 non-null object\n",
            "Type_1        126 non-null object\n",
            "Type_2        67 non-null object\n",
            "Total         126 non-null int64\n",
            "HP            126 non-null int64\n",
            "Attack        126 non-null int64\n",
            "Defense       126 non-null int64\n",
            "Sp_Atk        126 non-null int64\n",
            "Sp_Def        126 non-null int64\n",
            "Speed         126 non-null int64\n",
            "Generation    126 non-null int64\n",
            "Legendary     126 non-null bool\n",
            "dtypes: bool(1), int64(9), object(3)\n",
            "memory usage: 12.9+ KB\n"
          ],
          "name": "stdout"
        }
      ]
    },
    {
      "cell_type": "code",
      "metadata": {
        "id": "Xefi7RCeLX6s",
        "outputId": "c84d15e7-84e5-442d-8b9b-8c00334d301e"
      },
      "source": [
        "left_fire_water = pd.merge(fire_pkmn, water_pkmn, how='left', on=['#','Name'])\n",
        "left_fire_water.info()"
      ],
      "execution_count": null,
      "outputs": [
        {
          "output_type": "stream",
          "text": [
            "<class 'pandas.core.frame.DataFrame'>\n",
            "Int64Index: 64 entries, 0 to 63\n",
            "Data columns (total 24 columns):\n",
            "#               64 non-null int64\n",
            "Name            64 non-null object\n",
            "Type_1_x        64 non-null object\n",
            "Type_2_x        36 non-null object\n",
            "Total_x         64 non-null int64\n",
            "HP_x            64 non-null int64\n",
            "Attack_x        64 non-null int64\n",
            "Defense_x       64 non-null int64\n",
            "Sp_Atk_x        64 non-null int64\n",
            "Sp_Def_x        64 non-null int64\n",
            "Speed_x         64 non-null int64\n",
            "Generation_x    64 non-null int64\n",
            "Legendary_x     64 non-null bool\n",
            "Type_1_y        1 non-null object\n",
            "Type_2_y        1 non-null object\n",
            "Total_y         1 non-null float64\n",
            "HP_y            1 non-null float64\n",
            "Attack_y        1 non-null float64\n",
            "Defense_y       1 non-null float64\n",
            "Sp_Atk_y        1 non-null float64\n",
            "Sp_Def_y        1 non-null float64\n",
            "Speed_y         1 non-null float64\n",
            "Generation_y    1 non-null float64\n",
            "Legendary_y     1 non-null object\n",
            "dtypes: bool(1), float64(8), int64(9), object(6)\n",
            "memory usage: 12.1+ KB\n"
          ],
          "name": "stdout"
        }
      ]
    },
    {
      "cell_type": "code",
      "metadata": {
        "id": "vsR8DBsdLX6t",
        "outputId": "63bf4caf-db71-4ec1-afdf-3e4719d191fc"
      },
      "source": [
        "right_fire_water = pd.merge(fire_pkmn, water_pkmn, how='right', on=['#','Name'])\n",
        "right_fire_water.info()"
      ],
      "execution_count": null,
      "outputs": [
        {
          "output_type": "stream",
          "text": [
            "<class 'pandas.core.frame.DataFrame'>\n",
            "Int64Index: 126 entries, 0 to 125\n",
            "Data columns (total 24 columns):\n",
            "#               126 non-null int64\n",
            "Name            126 non-null object\n",
            "Type_1_x        1 non-null object\n",
            "Type_2_x        1 non-null object\n",
            "Total_x         1 non-null float64\n",
            "HP_x            1 non-null float64\n",
            "Attack_x        1 non-null float64\n",
            "Defense_x       1 non-null float64\n",
            "Sp_Atk_x        1 non-null float64\n",
            "Sp_Def_x        1 non-null float64\n",
            "Speed_x         1 non-null float64\n",
            "Generation_x    1 non-null float64\n",
            "Legendary_x     1 non-null object\n",
            "Type_1_y        126 non-null object\n",
            "Type_2_y        67 non-null object\n",
            "Total_y         126 non-null int64\n",
            "HP_y            126 non-null int64\n",
            "Attack_y        126 non-null int64\n",
            "Defense_y       126 non-null int64\n",
            "Sp_Atk_y        126 non-null int64\n",
            "Sp_Def_y        126 non-null int64\n",
            "Speed_y         126 non-null int64\n",
            "Generation_y    126 non-null int64\n",
            "Legendary_y     126 non-null bool\n",
            "dtypes: bool(1), float64(8), int64(9), object(6)\n",
            "memory usage: 23.7+ KB\n"
          ],
          "name": "stdout"
        }
      ]
    },
    {
      "cell_type": "code",
      "metadata": {
        "id": "FhEHdnu1LX6w",
        "outputId": "075db3d6-59cc-4fce-8f40-ec4ffe449218"
      },
      "source": [
        "inner_fire_water = pd.merge(fire_pkmn, water_pkmn, how='inner', on=['#','Name'])\n",
        "inner_fire_water.info()"
      ],
      "execution_count": null,
      "outputs": [
        {
          "output_type": "stream",
          "text": [
            "<class 'pandas.core.frame.DataFrame'>\n",
            "Int64Index: 1 entries, 0 to 0\n",
            "Data columns (total 24 columns):\n",
            "#               1 non-null int64\n",
            "Name            1 non-null object\n",
            "Type_1_x        1 non-null object\n",
            "Type_2_x        1 non-null object\n",
            "Total_x         1 non-null int64\n",
            "HP_x            1 non-null int64\n",
            "Attack_x        1 non-null int64\n",
            "Defense_x       1 non-null int64\n",
            "Sp_Atk_x        1 non-null int64\n",
            "Sp_Def_x        1 non-null int64\n",
            "Speed_x         1 non-null int64\n",
            "Generation_x    1 non-null int64\n",
            "Legendary_x     1 non-null bool\n",
            "Type_1_y        1 non-null object\n",
            "Type_2_y        1 non-null object\n",
            "Total_y         1 non-null int64\n",
            "HP_y            1 non-null int64\n",
            "Attack_y        1 non-null int64\n",
            "Defense_y       1 non-null int64\n",
            "Sp_Atk_y        1 non-null int64\n",
            "Sp_Def_y        1 non-null int64\n",
            "Speed_y         1 non-null int64\n",
            "Generation_y    1 non-null int64\n",
            "Legendary_y     1 non-null bool\n",
            "dtypes: bool(2), int64(17), object(5)\n",
            "memory usage: 186.0+ bytes\n"
          ],
          "name": "stdout"
        }
      ]
    },
    {
      "cell_type": "markdown",
      "metadata": {
        "id": "P3pxJlM-LX6y"
      },
      "source": [
        "Como podemos ver, os resultados são de fato bem diferentes.<br>\n",
        "Podemos também querer apenas concatenar dois *DataDrames*, isto é, juntá-los colocando um abaixo ou ao lado do outro. Para isso, utilizamos o método *.concat()*:"
      ]
    },
    {
      "cell_type": "code",
      "metadata": {
        "id": "kvJ5VFNoLX6y",
        "outputId": "c73717d9-370c-477f-d1e2-3fad976ac298"
      },
      "source": [
        "fire_and_water = pd.concat([fire_pkmn, water_pkmn], ignore_index=True)\n",
        "fire_and_water.info()"
      ],
      "execution_count": null,
      "outputs": [
        {
          "output_type": "stream",
          "text": [
            "<class 'pandas.core.frame.DataFrame'>\n",
            "RangeIndex: 190 entries, 0 to 189\n",
            "Data columns (total 13 columns):\n",
            "#             190 non-null int64\n",
            "Name          190 non-null object\n",
            "Type_1        190 non-null object\n",
            "Type_2        103 non-null object\n",
            "Total         190 non-null int64\n",
            "HP            190 non-null int64\n",
            "Attack        190 non-null int64\n",
            "Defense       190 non-null int64\n",
            "Sp_Atk        190 non-null int64\n",
            "Sp_Def        190 non-null int64\n",
            "Speed         190 non-null int64\n",
            "Generation    190 non-null int64\n",
            "Legendary     190 non-null bool\n",
            "dtypes: bool(1), int64(9), object(3)\n",
            "memory usage: 18.1+ KB\n"
          ],
          "name": "stdout"
        }
      ]
    },
    {
      "cell_type": "markdown",
      "metadata": {
        "id": "F6qpdRFnLX60"
      },
      "source": [
        "Acima fizemos a concatenação vertical. Vamos fazer a horizontal abaixo:"
      ]
    },
    {
      "cell_type": "code",
      "metadata": {
        "id": "zTqTPOPMLX60",
        "outputId": "ff3fd298-90cd-49ce-defe-d877fc3f366b"
      },
      "source": [
        "atk_and_defense = pd.concat([offensive_stats, defensive_stats], axis=1)\n",
        "atk_and_defense.head()"
      ],
      "execution_count": null,
      "outputs": [
        {
          "output_type": "execute_result",
          "data": {
            "text/html": [
              "<div>\n",
              "<style scoped>\n",
              "    .dataframe tbody tr th:only-of-type {\n",
              "        vertical-align: middle;\n",
              "    }\n",
              "\n",
              "    .dataframe tbody tr th {\n",
              "        vertical-align: top;\n",
              "    }\n",
              "\n",
              "    .dataframe thead th {\n",
              "        text-align: right;\n",
              "    }\n",
              "</style>\n",
              "<table border=\"1\" class=\"dataframe\">\n",
              "  <thead>\n",
              "    <tr style=\"text-align: right;\">\n",
              "      <th></th>\n",
              "      <th>#</th>\n",
              "      <th>Name</th>\n",
              "      <th>Attack</th>\n",
              "      <th>Sp_Atk</th>\n",
              "      <th>Speed</th>\n",
              "      <th>#</th>\n",
              "      <th>Name</th>\n",
              "      <th>HP</th>\n",
              "      <th>Defense</th>\n",
              "      <th>Sp_Def</th>\n",
              "    </tr>\n",
              "  </thead>\n",
              "  <tbody>\n",
              "    <tr>\n",
              "      <td>0</td>\n",
              "      <td>1</td>\n",
              "      <td>Bulbasaur</td>\n",
              "      <td>49</td>\n",
              "      <td>65</td>\n",
              "      <td>45</td>\n",
              "      <td>1</td>\n",
              "      <td>Bulbasaur</td>\n",
              "      <td>45</td>\n",
              "      <td>49</td>\n",
              "      <td>65</td>\n",
              "    </tr>\n",
              "    <tr>\n",
              "      <td>1</td>\n",
              "      <td>2</td>\n",
              "      <td>Ivysaur</td>\n",
              "      <td>62</td>\n",
              "      <td>80</td>\n",
              "      <td>60</td>\n",
              "      <td>2</td>\n",
              "      <td>Ivysaur</td>\n",
              "      <td>60</td>\n",
              "      <td>63</td>\n",
              "      <td>80</td>\n",
              "    </tr>\n",
              "    <tr>\n",
              "      <td>2</td>\n",
              "      <td>3</td>\n",
              "      <td>Venusaur</td>\n",
              "      <td>82</td>\n",
              "      <td>100</td>\n",
              "      <td>80</td>\n",
              "      <td>3</td>\n",
              "      <td>Venusaur</td>\n",
              "      <td>80</td>\n",
              "      <td>83</td>\n",
              "      <td>100</td>\n",
              "    </tr>\n",
              "    <tr>\n",
              "      <td>3</td>\n",
              "      <td>3</td>\n",
              "      <td>VenusaurMega Venusaur</td>\n",
              "      <td>100</td>\n",
              "      <td>122</td>\n",
              "      <td>80</td>\n",
              "      <td>3</td>\n",
              "      <td>VenusaurMega Venusaur</td>\n",
              "      <td>80</td>\n",
              "      <td>123</td>\n",
              "      <td>120</td>\n",
              "    </tr>\n",
              "    <tr>\n",
              "      <td>4</td>\n",
              "      <td>4</td>\n",
              "      <td>Charmander</td>\n",
              "      <td>52</td>\n",
              "      <td>60</td>\n",
              "      <td>65</td>\n",
              "      <td>4</td>\n",
              "      <td>Charmander</td>\n",
              "      <td>39</td>\n",
              "      <td>43</td>\n",
              "      <td>50</td>\n",
              "    </tr>\n",
              "  </tbody>\n",
              "</table>\n",
              "</div>"
            ],
            "text/plain": [
              "   #                   Name  Attack  Sp_Atk  Speed  #                   Name  \\\n",
              "0  1              Bulbasaur      49      65     45  1              Bulbasaur   \n",
              "1  2                Ivysaur      62      80     60  2                Ivysaur   \n",
              "2  3               Venusaur      82     100     80  3               Venusaur   \n",
              "3  3  VenusaurMega Venusaur     100     122     80  3  VenusaurMega Venusaur   \n",
              "4  4             Charmander      52      60     65  4             Charmander   \n",
              "\n",
              "   HP  Defense  Sp_Def  \n",
              "0  45       49      65  \n",
              "1  60       63      80  \n",
              "2  80       83     100  \n",
              "3  80      123     120  \n",
              "4  39       43      50  "
            ]
          },
          "metadata": {
            "tags": []
          },
          "execution_count": 75
        }
      ]
    },
    {
      "cell_type": "markdown",
      "metadata": {
        "id": "-6anHYlLLX62"
      },
      "source": [
        "#### Exercício 3.5 (9 Pontos)\n",
        "*Correção Binária: O aluno recebe todos os pontos caso cumpra todos os objetivos do exercicio (independente da lógica ou estilo da programação), caso contrário, recebe zero.*\n",
        "\n",
        "Mais uma vez, substitua os \\____ de acordo com as instruções"
      ]
    },
    {
      "cell_type": "code",
      "metadata": {
        "id": "s9d26_0ALX62",
        "outputId": "fd3864b2-e5ae-41bd-a76e-9fe77c0b1609"
      },
      "source": [
        "#the_best é um DataDrame dos melhores jogadores em drible (dribbling) e chute (shooting)\n",
        "the_best = fut_players[(fut_players.dribbling > 90) & (fut_players.shooting > 90)][['id', 'name', 'position', 'dribbling', 'shooting', 'overall']]\n",
        "\n",
        "#nationalities é um DataDrame da nacionalidade dos jogadores\n",
        "nationalities = fut_players[['id', 'name', 'nationality']]\n",
        "\n",
        "#faça um merge dos dois DataDrames para obter a nacionalidade dos melhores jogadores (dica: chave é o id)\n",
        "the_best_nationality = pd.merge(the_best, nationalities, how='left', on=['id','name'])\n",
        "the_best_nationality.head()"
      ],
      "execution_count": null,
      "outputs": [
        {
          "output_type": "execute_result",
          "data": {
            "text/html": [
              "<div>\n",
              "<style scoped>\n",
              "    .dataframe tbody tr th:only-of-type {\n",
              "        vertical-align: middle;\n",
              "    }\n",
              "\n",
              "    .dataframe tbody tr th {\n",
              "        vertical-align: top;\n",
              "    }\n",
              "\n",
              "    .dataframe thead th {\n",
              "        text-align: right;\n",
              "    }\n",
              "</style>\n",
              "<table border=\"1\" class=\"dataframe\">\n",
              "  <thead>\n",
              "    <tr style=\"text-align: right;\">\n",
              "      <th></th>\n",
              "      <th>id</th>\n",
              "      <th>name</th>\n",
              "      <th>position</th>\n",
              "      <th>dribbling</th>\n",
              "      <th>shooting</th>\n",
              "      <th>overall</th>\n",
              "      <th>nationality</th>\n",
              "    </tr>\n",
              "  </thead>\n",
              "  <tbody>\n",
              "    <tr>\n",
              "      <td>0</td>\n",
              "      <td>1</td>\n",
              "      <td>Pelé</td>\n",
              "      <td>CAM</td>\n",
              "      <td>96.0</td>\n",
              "      <td>96.0</td>\n",
              "      <td>98</td>\n",
              "      <td>Brazil</td>\n",
              "    </tr>\n",
              "    <tr>\n",
              "      <td>1</td>\n",
              "      <td>2</td>\n",
              "      <td>Maradona</td>\n",
              "      <td>CAM</td>\n",
              "      <td>97.0</td>\n",
              "      <td>93.0</td>\n",
              "      <td>97</td>\n",
              "      <td>Argentina</td>\n",
              "    </tr>\n",
              "    <tr>\n",
              "      <td>2</td>\n",
              "      <td>3</td>\n",
              "      <td>Ronaldo</td>\n",
              "      <td>ST</td>\n",
              "      <td>95.0</td>\n",
              "      <td>95.0</td>\n",
              "      <td>96</td>\n",
              "      <td>Brazil</td>\n",
              "    </tr>\n",
              "    <tr>\n",
              "      <td>3</td>\n",
              "      <td>4</td>\n",
              "      <td>Pelé</td>\n",
              "      <td>CF</td>\n",
              "      <td>95.0</td>\n",
              "      <td>93.0</td>\n",
              "      <td>95</td>\n",
              "      <td>Brazil</td>\n",
              "    </tr>\n",
              "    <tr>\n",
              "      <td>4</td>\n",
              "      <td>5</td>\n",
              "      <td>Maradona</td>\n",
              "      <td>CAM</td>\n",
              "      <td>95.0</td>\n",
              "      <td>91.0</td>\n",
              "      <td>95</td>\n",
              "      <td>Argentina</td>\n",
              "    </tr>\n",
              "  </tbody>\n",
              "</table>\n",
              "</div>"
            ],
            "text/plain": [
              "   id      name position  dribbling  shooting  overall nationality\n",
              "0   1      Pelé      CAM       96.0      96.0       98      Brazil\n",
              "1   2  Maradona      CAM       97.0      93.0       97   Argentina\n",
              "2   3   Ronaldo       ST       95.0      95.0       96      Brazil\n",
              "3   4      Pelé       CF       95.0      93.0       95      Brazil\n",
              "4   5  Maradona      CAM       95.0      91.0       95   Argentina"
            ]
          },
          "metadata": {
            "tags": []
          },
          "execution_count": 76
        }
      ]
    },
    {
      "cell_type": "markdown",
      "metadata": {
        "id": "CD6JmwxnLX64"
      },
      "source": [
        "### 3.5 Operações em grupo\n",
        "\n",
        "Com Pandas nós podemos aplicar operações em grupos usando o método *.groupby()*. Ele é muito útil por ser uma forma bem simples de extrair informação de dados agregados. Para utilizá-lo, passamos as colunas nas quais queremos agrupar os dados e a operação que queremos fazer. Para exemplificar, vamos ver quantos Pokémons lendários cada geração tem:"
      ]
    },
    {
      "cell_type": "code",
      "metadata": {
        "id": "jN6-uBmlLX64",
        "outputId": "51e7e336-7198-416a-e192-370e31121d55"
      },
      "source": [
        "pkmn.groupby('Generation').Legendary.sum() #fazendo uma soma pois a coluna Legendary é boolean"
      ],
      "execution_count": null,
      "outputs": [
        {
          "output_type": "execute_result",
          "data": {
            "text/plain": [
              "Generation\n",
              "1     6.0\n",
              "2     5.0\n",
              "3    18.0\n",
              "4    13.0\n",
              "5    15.0\n",
              "6     8.0\n",
              "Name: Legendary, dtype: float64"
            ]
          },
          "metadata": {
            "tags": []
          },
          "execution_count": 77
        }
      ]
    },
    {
      "cell_type": "markdown",
      "metadata": {
        "id": "e32q1mZ2LX66"
      },
      "source": [
        "Podemos obter um relatório da média de diversas colunas para cada tipo de Pokémon:"
      ]
    },
    {
      "cell_type": "code",
      "metadata": {
        "id": "H8EqEPiPLX66",
        "outputId": "c90a8947-8cd1-4232-9b15-acca249bfb76"
      },
      "source": [
        "pkmn.groupby('Type_1')[['HP','Attack','Defense','Sp_Atk','Sp_Def','Speed']].mean()"
      ],
      "execution_count": null,
      "outputs": [
        {
          "output_type": "execute_result",
          "data": {
            "text/html": [
              "<div>\n",
              "<style scoped>\n",
              "    .dataframe tbody tr th:only-of-type {\n",
              "        vertical-align: middle;\n",
              "    }\n",
              "\n",
              "    .dataframe tbody tr th {\n",
              "        vertical-align: top;\n",
              "    }\n",
              "\n",
              "    .dataframe thead th {\n",
              "        text-align: right;\n",
              "    }\n",
              "</style>\n",
              "<table border=\"1\" class=\"dataframe\">\n",
              "  <thead>\n",
              "    <tr style=\"text-align: right;\">\n",
              "      <th></th>\n",
              "      <th>HP</th>\n",
              "      <th>Attack</th>\n",
              "      <th>Defense</th>\n",
              "      <th>Sp_Atk</th>\n",
              "      <th>Sp_Def</th>\n",
              "      <th>Speed</th>\n",
              "    </tr>\n",
              "    <tr>\n",
              "      <th>Type_1</th>\n",
              "      <th></th>\n",
              "      <th></th>\n",
              "      <th></th>\n",
              "      <th></th>\n",
              "      <th></th>\n",
              "      <th></th>\n",
              "    </tr>\n",
              "  </thead>\n",
              "  <tbody>\n",
              "    <tr>\n",
              "      <td>Bug</td>\n",
              "      <td>56.884058</td>\n",
              "      <td>70.971014</td>\n",
              "      <td>70.724638</td>\n",
              "      <td>53.869565</td>\n",
              "      <td>64.797101</td>\n",
              "      <td>61.681159</td>\n",
              "    </tr>\n",
              "    <tr>\n",
              "      <td>Dark</td>\n",
              "      <td>66.806452</td>\n",
              "      <td>88.387097</td>\n",
              "      <td>70.225806</td>\n",
              "      <td>74.645161</td>\n",
              "      <td>69.516129</td>\n",
              "      <td>76.161290</td>\n",
              "    </tr>\n",
              "    <tr>\n",
              "      <td>Dragon</td>\n",
              "      <td>83.312500</td>\n",
              "      <td>112.125000</td>\n",
              "      <td>86.375000</td>\n",
              "      <td>96.843750</td>\n",
              "      <td>88.843750</td>\n",
              "      <td>83.031250</td>\n",
              "    </tr>\n",
              "    <tr>\n",
              "      <td>Electric</td>\n",
              "      <td>59.795455</td>\n",
              "      <td>69.090909</td>\n",
              "      <td>66.295455</td>\n",
              "      <td>90.022727</td>\n",
              "      <td>73.704545</td>\n",
              "      <td>84.500000</td>\n",
              "    </tr>\n",
              "    <tr>\n",
              "      <td>Fairy</td>\n",
              "      <td>74.117647</td>\n",
              "      <td>61.529412</td>\n",
              "      <td>65.705882</td>\n",
              "      <td>78.529412</td>\n",
              "      <td>84.705882</td>\n",
              "      <td>48.588235</td>\n",
              "    </tr>\n",
              "    <tr>\n",
              "      <td>Fighting</td>\n",
              "      <td>69.851852</td>\n",
              "      <td>96.777778</td>\n",
              "      <td>65.925926</td>\n",
              "      <td>53.111111</td>\n",
              "      <td>64.703704</td>\n",
              "      <td>66.074074</td>\n",
              "    </tr>\n",
              "    <tr>\n",
              "      <td>Fire</td>\n",
              "      <td>69.903846</td>\n",
              "      <td>84.769231</td>\n",
              "      <td>67.769231</td>\n",
              "      <td>88.980769</td>\n",
              "      <td>72.211538</td>\n",
              "      <td>74.442308</td>\n",
              "    </tr>\n",
              "    <tr>\n",
              "      <td>Flying</td>\n",
              "      <td>70.750000</td>\n",
              "      <td>78.750000</td>\n",
              "      <td>66.250000</td>\n",
              "      <td>94.250000</td>\n",
              "      <td>72.500000</td>\n",
              "      <td>102.500000</td>\n",
              "    </tr>\n",
              "    <tr>\n",
              "      <td>Ghost</td>\n",
              "      <td>64.437500</td>\n",
              "      <td>73.781250</td>\n",
              "      <td>81.187500</td>\n",
              "      <td>79.343750</td>\n",
              "      <td>76.468750</td>\n",
              "      <td>64.343750</td>\n",
              "    </tr>\n",
              "    <tr>\n",
              "      <td>Grass</td>\n",
              "      <td>67.271429</td>\n",
              "      <td>73.214286</td>\n",
              "      <td>70.800000</td>\n",
              "      <td>77.500000</td>\n",
              "      <td>70.428571</td>\n",
              "      <td>61.928571</td>\n",
              "    </tr>\n",
              "    <tr>\n",
              "      <td>Ground</td>\n",
              "      <td>73.781250</td>\n",
              "      <td>95.750000</td>\n",
              "      <td>84.843750</td>\n",
              "      <td>56.468750</td>\n",
              "      <td>62.750000</td>\n",
              "      <td>63.906250</td>\n",
              "    </tr>\n",
              "    <tr>\n",
              "      <td>Ice</td>\n",
              "      <td>72.000000</td>\n",
              "      <td>72.750000</td>\n",
              "      <td>71.416667</td>\n",
              "      <td>77.541667</td>\n",
              "      <td>76.291667</td>\n",
              "      <td>63.458333</td>\n",
              "    </tr>\n",
              "    <tr>\n",
              "      <td>Normal</td>\n",
              "      <td>77.275510</td>\n",
              "      <td>73.469388</td>\n",
              "      <td>59.846939</td>\n",
              "      <td>55.816327</td>\n",
              "      <td>63.724490</td>\n",
              "      <td>71.551020</td>\n",
              "    </tr>\n",
              "    <tr>\n",
              "      <td>Poison</td>\n",
              "      <td>67.250000</td>\n",
              "      <td>74.678571</td>\n",
              "      <td>68.821429</td>\n",
              "      <td>60.428571</td>\n",
              "      <td>64.392857</td>\n",
              "      <td>63.571429</td>\n",
              "    </tr>\n",
              "    <tr>\n",
              "      <td>Psychic</td>\n",
              "      <td>70.631579</td>\n",
              "      <td>71.456140</td>\n",
              "      <td>67.684211</td>\n",
              "      <td>98.403509</td>\n",
              "      <td>86.280702</td>\n",
              "      <td>81.491228</td>\n",
              "    </tr>\n",
              "    <tr>\n",
              "      <td>Rock</td>\n",
              "      <td>65.363636</td>\n",
              "      <td>92.863636</td>\n",
              "      <td>100.795455</td>\n",
              "      <td>63.340909</td>\n",
              "      <td>75.477273</td>\n",
              "      <td>55.909091</td>\n",
              "    </tr>\n",
              "    <tr>\n",
              "      <td>Steel</td>\n",
              "      <td>65.222222</td>\n",
              "      <td>92.703704</td>\n",
              "      <td>126.370370</td>\n",
              "      <td>67.518519</td>\n",
              "      <td>80.629630</td>\n",
              "      <td>55.259259</td>\n",
              "    </tr>\n",
              "    <tr>\n",
              "      <td>Water</td>\n",
              "      <td>72.062500</td>\n",
              "      <td>74.151786</td>\n",
              "      <td>72.946429</td>\n",
              "      <td>74.812500</td>\n",
              "      <td>70.517857</td>\n",
              "      <td>65.964286</td>\n",
              "    </tr>\n",
              "  </tbody>\n",
              "</table>\n",
              "</div>"
            ],
            "text/plain": [
              "                 HP      Attack     Defense     Sp_Atk     Sp_Def       Speed\n",
              "Type_1                                                                       \n",
              "Bug       56.884058   70.971014   70.724638  53.869565  64.797101   61.681159\n",
              "Dark      66.806452   88.387097   70.225806  74.645161  69.516129   76.161290\n",
              "Dragon    83.312500  112.125000   86.375000  96.843750  88.843750   83.031250\n",
              "Electric  59.795455   69.090909   66.295455  90.022727  73.704545   84.500000\n",
              "Fairy     74.117647   61.529412   65.705882  78.529412  84.705882   48.588235\n",
              "Fighting  69.851852   96.777778   65.925926  53.111111  64.703704   66.074074\n",
              "Fire      69.903846   84.769231   67.769231  88.980769  72.211538   74.442308\n",
              "Flying    70.750000   78.750000   66.250000  94.250000  72.500000  102.500000\n",
              "Ghost     64.437500   73.781250   81.187500  79.343750  76.468750   64.343750\n",
              "Grass     67.271429   73.214286   70.800000  77.500000  70.428571   61.928571\n",
              "Ground    73.781250   95.750000   84.843750  56.468750  62.750000   63.906250\n",
              "Ice       72.000000   72.750000   71.416667  77.541667  76.291667   63.458333\n",
              "Normal    77.275510   73.469388   59.846939  55.816327  63.724490   71.551020\n",
              "Poison    67.250000   74.678571   68.821429  60.428571  64.392857   63.571429\n",
              "Psychic   70.631579   71.456140   67.684211  98.403509  86.280702   81.491228\n",
              "Rock      65.363636   92.863636  100.795455  63.340909  75.477273   55.909091\n",
              "Steel     65.222222   92.703704  126.370370  67.518519  80.629630   55.259259\n",
              "Water     72.062500   74.151786   72.946429  74.812500  70.517857   65.964286"
            ]
          },
          "metadata": {
            "tags": []
          },
          "execution_count": 78
        }
      ]
    },
    {
      "cell_type": "markdown",
      "metadata": {
        "id": "qg8r15teLX69"
      },
      "source": [
        "Isso é realmente muito importante e extremamente utilizado com pandas pois conseguimos fazer análises dos grupos com apenas uma linha de código. Podemos perceber, por exemplo, que Pokémons do tipo *Flying* são especialistas em velocidade enquanto *Dragon* e *Fighting* são especialistas em ataque.\n",
        "\n",
        "#### Exercício 3.6 (18 Pontos)\n",
        "*Correção Binária: O aluno recebe todos os pontos caso cumpra todos os objetivos do exercicio (independente da lógica ou estilo da programação), caso contrário, recebe zero.*\n",
        "\n",
        "Use o método *.groupby()* para descobrir qual país tem o melhor *overall* médio."
      ]
    },
    {
      "cell_type": "code",
      "metadata": {
        "id": "0PGRcoPfLX69",
        "outputId": "5803bdf5-4657-4fd5-90bc-9c2721f87597"
      },
      "source": [
        "#cria o DataDrame country_avg_overall, que tem o overall médio de cada país (nationality), usando groupby\n",
        "country_avg_overall = fut_players.groupby('nationality')[['overall']].mean()\n",
        "\n",
        "#usamos o método idxmax() para encontrar o maior overall médio\n",
        "print(\"Melhor overall médio: \\n\", country_avg_overall.loc[country_avg_overall.idxmax()])\n",
        "print(\"Overall médio do Brasil: \", country_avg_overall.loc[\"Brazil\"])"
      ],
      "execution_count": null,
      "outputs": [
        {
          "output_type": "stream",
          "text": [
            "Melhor overall médio: \n",
            "                     overall\n",
            "nationality                \n",
            "Dominican Republic     79.0\n",
            "Overall médio do Brasil:  overall    75.219156\n",
            "Name: Brazil, dtype: float64\n"
          ],
          "name": "stdout"
        }
      ]
    },
    {
      "cell_type": "markdown",
      "metadata": {
        "id": "1_ZgkoXjLX6-"
      },
      "source": [
        "### 3.6 Aplicando funções no Pandas\n",
        "\n",
        "Com Pandas, nós temos um grande nível de controle de nossos dados, e somos capazes de transformá-los conforme queiramos. Nós podemos, até mesmo, executar funções em DataFrames e manipulá-lo como quisermos. Vamos revisitar o método info()\n",
        "With Pandas, we have a deep level of control of our data, and are able to transform it as we like. We can even perform functions over the DataFrame and manipulate it as we like. Let's revisit the head() method:"
      ]
    },
    {
      "cell_type": "code",
      "metadata": {
        "id": "nhnGUx5-LX6-",
        "outputId": "d2ee54af-0beb-4feb-d55c-25d10abe9bfb"
      },
      "source": [
        "pkmn.head(13)"
      ],
      "execution_count": null,
      "outputs": [
        {
          "output_type": "execute_result",
          "data": {
            "text/html": [
              "<div>\n",
              "<style scoped>\n",
              "    .dataframe tbody tr th:only-of-type {\n",
              "        vertical-align: middle;\n",
              "    }\n",
              "\n",
              "    .dataframe tbody tr th {\n",
              "        vertical-align: top;\n",
              "    }\n",
              "\n",
              "    .dataframe thead th {\n",
              "        text-align: right;\n",
              "    }\n",
              "</style>\n",
              "<table border=\"1\" class=\"dataframe\">\n",
              "  <thead>\n",
              "    <tr style=\"text-align: right;\">\n",
              "      <th></th>\n",
              "      <th>#</th>\n",
              "      <th>Name</th>\n",
              "      <th>Type_1</th>\n",
              "      <th>Type_2</th>\n",
              "      <th>Total</th>\n",
              "      <th>HP</th>\n",
              "      <th>Attack</th>\n",
              "      <th>Defense</th>\n",
              "      <th>Sp_Atk</th>\n",
              "      <th>Sp_Def</th>\n",
              "      <th>Speed</th>\n",
              "      <th>Generation</th>\n",
              "      <th>Legendary</th>\n",
              "    </tr>\n",
              "  </thead>\n",
              "  <tbody>\n",
              "    <tr>\n",
              "      <td>0</td>\n",
              "      <td>1</td>\n",
              "      <td>Bulbasaur</td>\n",
              "      <td>Grass</td>\n",
              "      <td>Poison</td>\n",
              "      <td>318</td>\n",
              "      <td>45</td>\n",
              "      <td>49</td>\n",
              "      <td>49</td>\n",
              "      <td>65</td>\n",
              "      <td>65</td>\n",
              "      <td>45</td>\n",
              "      <td>1</td>\n",
              "      <td>False</td>\n",
              "    </tr>\n",
              "    <tr>\n",
              "      <td>1</td>\n",
              "      <td>2</td>\n",
              "      <td>Ivysaur</td>\n",
              "      <td>Grass</td>\n",
              "      <td>Poison</td>\n",
              "      <td>405</td>\n",
              "      <td>60</td>\n",
              "      <td>62</td>\n",
              "      <td>63</td>\n",
              "      <td>80</td>\n",
              "      <td>80</td>\n",
              "      <td>60</td>\n",
              "      <td>1</td>\n",
              "      <td>False</td>\n",
              "    </tr>\n",
              "    <tr>\n",
              "      <td>2</td>\n",
              "      <td>3</td>\n",
              "      <td>Venusaur</td>\n",
              "      <td>Grass</td>\n",
              "      <td>Poison</td>\n",
              "      <td>525</td>\n",
              "      <td>80</td>\n",
              "      <td>82</td>\n",
              "      <td>83</td>\n",
              "      <td>100</td>\n",
              "      <td>100</td>\n",
              "      <td>80</td>\n",
              "      <td>1</td>\n",
              "      <td>False</td>\n",
              "    </tr>\n",
              "    <tr>\n",
              "      <td>3</td>\n",
              "      <td>3</td>\n",
              "      <td>VenusaurMega Venusaur</td>\n",
              "      <td>Grass</td>\n",
              "      <td>Poison</td>\n",
              "      <td>625</td>\n",
              "      <td>80</td>\n",
              "      <td>100</td>\n",
              "      <td>123</td>\n",
              "      <td>122</td>\n",
              "      <td>120</td>\n",
              "      <td>80</td>\n",
              "      <td>1</td>\n",
              "      <td>False</td>\n",
              "    </tr>\n",
              "    <tr>\n",
              "      <td>4</td>\n",
              "      <td>4</td>\n",
              "      <td>Charmander</td>\n",
              "      <td>Fire</td>\n",
              "      <td>NaN</td>\n",
              "      <td>309</td>\n",
              "      <td>39</td>\n",
              "      <td>52</td>\n",
              "      <td>43</td>\n",
              "      <td>60</td>\n",
              "      <td>50</td>\n",
              "      <td>65</td>\n",
              "      <td>1</td>\n",
              "      <td>False</td>\n",
              "    </tr>\n",
              "    <tr>\n",
              "      <td>5</td>\n",
              "      <td>5</td>\n",
              "      <td>Charmeleon</td>\n",
              "      <td>Fire</td>\n",
              "      <td>NaN</td>\n",
              "      <td>405</td>\n",
              "      <td>58</td>\n",
              "      <td>64</td>\n",
              "      <td>58</td>\n",
              "      <td>80</td>\n",
              "      <td>65</td>\n",
              "      <td>80</td>\n",
              "      <td>1</td>\n",
              "      <td>False</td>\n",
              "    </tr>\n",
              "    <tr>\n",
              "      <td>6</td>\n",
              "      <td>6</td>\n",
              "      <td>Charizard</td>\n",
              "      <td>Fire</td>\n",
              "      <td>Flying</td>\n",
              "      <td>534</td>\n",
              "      <td>78</td>\n",
              "      <td>84</td>\n",
              "      <td>78</td>\n",
              "      <td>109</td>\n",
              "      <td>85</td>\n",
              "      <td>100</td>\n",
              "      <td>1</td>\n",
              "      <td>False</td>\n",
              "    </tr>\n",
              "    <tr>\n",
              "      <td>7</td>\n",
              "      <td>6</td>\n",
              "      <td>CharizardMega Charizard X</td>\n",
              "      <td>Fire</td>\n",
              "      <td>Dragon</td>\n",
              "      <td>634</td>\n",
              "      <td>78</td>\n",
              "      <td>130</td>\n",
              "      <td>111</td>\n",
              "      <td>130</td>\n",
              "      <td>85</td>\n",
              "      <td>100</td>\n",
              "      <td>1</td>\n",
              "      <td>False</td>\n",
              "    </tr>\n",
              "    <tr>\n",
              "      <td>8</td>\n",
              "      <td>6</td>\n",
              "      <td>CharizardMega Charizard Y</td>\n",
              "      <td>Fire</td>\n",
              "      <td>Flying</td>\n",
              "      <td>634</td>\n",
              "      <td>78</td>\n",
              "      <td>104</td>\n",
              "      <td>78</td>\n",
              "      <td>159</td>\n",
              "      <td>115</td>\n",
              "      <td>100</td>\n",
              "      <td>1</td>\n",
              "      <td>False</td>\n",
              "    </tr>\n",
              "    <tr>\n",
              "      <td>9</td>\n",
              "      <td>7</td>\n",
              "      <td>Squirtle</td>\n",
              "      <td>Water</td>\n",
              "      <td>NaN</td>\n",
              "      <td>314</td>\n",
              "      <td>44</td>\n",
              "      <td>48</td>\n",
              "      <td>65</td>\n",
              "      <td>50</td>\n",
              "      <td>64</td>\n",
              "      <td>43</td>\n",
              "      <td>1</td>\n",
              "      <td>False</td>\n",
              "    </tr>\n",
              "    <tr>\n",
              "      <td>10</td>\n",
              "      <td>8</td>\n",
              "      <td>Wartortle</td>\n",
              "      <td>Water</td>\n",
              "      <td>NaN</td>\n",
              "      <td>405</td>\n",
              "      <td>59</td>\n",
              "      <td>63</td>\n",
              "      <td>80</td>\n",
              "      <td>65</td>\n",
              "      <td>80</td>\n",
              "      <td>58</td>\n",
              "      <td>1</td>\n",
              "      <td>False</td>\n",
              "    </tr>\n",
              "    <tr>\n",
              "      <td>11</td>\n",
              "      <td>9</td>\n",
              "      <td>Blastoise</td>\n",
              "      <td>Water</td>\n",
              "      <td>NaN</td>\n",
              "      <td>530</td>\n",
              "      <td>79</td>\n",
              "      <td>83</td>\n",
              "      <td>100</td>\n",
              "      <td>85</td>\n",
              "      <td>105</td>\n",
              "      <td>78</td>\n",
              "      <td>1</td>\n",
              "      <td>False</td>\n",
              "    </tr>\n",
              "    <tr>\n",
              "      <td>12</td>\n",
              "      <td>9</td>\n",
              "      <td>BlastoiseMega Blastoise</td>\n",
              "      <td>Water</td>\n",
              "      <td>NaN</td>\n",
              "      <td>630</td>\n",
              "      <td>79</td>\n",
              "      <td>103</td>\n",
              "      <td>120</td>\n",
              "      <td>135</td>\n",
              "      <td>115</td>\n",
              "      <td>78</td>\n",
              "      <td>1</td>\n",
              "      <td>False</td>\n",
              "    </tr>\n",
              "  </tbody>\n",
              "</table>\n",
              "</div>"
            ],
            "text/plain": [
              "    #                       Name Type_1  Type_2  Total  HP  Attack  Defense  \\\n",
              "0   1                  Bulbasaur  Grass  Poison    318  45      49       49   \n",
              "1   2                    Ivysaur  Grass  Poison    405  60      62       63   \n",
              "2   3                   Venusaur  Grass  Poison    525  80      82       83   \n",
              "3   3      VenusaurMega Venusaur  Grass  Poison    625  80     100      123   \n",
              "4   4                 Charmander   Fire     NaN    309  39      52       43   \n",
              "5   5                 Charmeleon   Fire     NaN    405  58      64       58   \n",
              "6   6                  Charizard   Fire  Flying    534  78      84       78   \n",
              "7   6  CharizardMega Charizard X   Fire  Dragon    634  78     130      111   \n",
              "8   6  CharizardMega Charizard Y   Fire  Flying    634  78     104       78   \n",
              "9   7                   Squirtle  Water     NaN    314  44      48       65   \n",
              "10  8                  Wartortle  Water     NaN    405  59      63       80   \n",
              "11  9                  Blastoise  Water     NaN    530  79      83      100   \n",
              "12  9    BlastoiseMega Blastoise  Water     NaN    630  79     103      120   \n",
              "\n",
              "    Sp_Atk  Sp_Def  Speed  Generation  Legendary  \n",
              "0       65      65     45           1      False  \n",
              "1       80      80     60           1      False  \n",
              "2      100     100     80           1      False  \n",
              "3      122     120     80           1      False  \n",
              "4       60      50     65           1      False  \n",
              "5       80      65     80           1      False  \n",
              "6      109      85    100           1      False  \n",
              "7      130      85    100           1      False  \n",
              "8      159     115    100           1      False  \n",
              "9       50      64     43           1      False  \n",
              "10      65      80     58           1      False  \n",
              "11      85     105     78           1      False  \n",
              "12     135     115     78           1      False  "
            ]
          },
          "metadata": {
            "tags": []
          },
          "execution_count": 80
        }
      ]
    },
    {
      "cell_type": "markdown",
      "metadata": {
        "id": "HsfKDWpPLX7A"
      },
      "source": [
        "Existem algumas mega evoluções misturadas no dataset. Não seria legal se nós tivéssemos alguma flag que nos diria se um pokémon é mega ou não? E, por um acaso, será que os pokémons mega são mais poderosos?\n",
        "\n",
        "Você deve ter percebido que evoluções mega têm um padrão em nosso DataFrame, algo como 'PokemonMega Pokemon'. Se nós tivermos esse padrão, podemos construir uma função que retorna True is este padrão for detectado:"
      ]
    },
    {
      "cell_type": "code",
      "metadata": {
        "id": "eQNl9NqBLX7A"
      },
      "source": [
        "def is_it_mega(pokemon_name):\n",
        "    \"\"\"\n",
        "    Recebe um nome de pokemon e diz se é uma mega evolução ou não\n",
        "    I: string pokemon_name\n",
        "    O: boolean para Mega evos\n",
        "    \"\"\"\n",
        "    if 'Mega ' in pokemon_name: #é importante usar 'Mega ' e não 'mega', pois há um pokemon chamado called Yanmega e outro chamado Meganium que não são uma mega evolução\n",
        "        return True\n",
        "    else:\n",
        "        return False"
      ],
      "execution_count": null,
      "outputs": []
    },
    {
      "cell_type": "markdown",
      "metadata": {
        "id": "-S1H7RsKLX7C"
      },
      "source": [
        "Vamos ver se funciona:"
      ]
    },
    {
      "cell_type": "code",
      "metadata": {
        "id": "S0v3zN7pLX7C",
        "outputId": "303ba4d4-da8c-4157-96fc-89b143b4f978"
      },
      "source": [
        "is_it_mega('VenusaurMega Venusaur')"
      ],
      "execution_count": null,
      "outputs": [
        {
          "output_type": "execute_result",
          "data": {
            "text/plain": [
              "True"
            ]
          },
          "metadata": {
            "tags": []
          },
          "execution_count": 82
        }
      ]
    },
    {
      "cell_type": "code",
      "metadata": {
        "id": "vwi0SugSLX7D",
        "outputId": "3e7eb736-32b1-4297-e38d-df21b1251381"
      },
      "source": [
        "is_it_mega('Squirtle')"
      ],
      "execution_count": null,
      "outputs": [
        {
          "output_type": "execute_result",
          "data": {
            "text/plain": [
              "False"
            ]
          },
          "metadata": {
            "tags": []
          },
          "execution_count": 83
        }
      ]
    },
    {
      "cell_type": "markdown",
      "metadata": {
        "id": "cOKaDBLHLX7F"
      },
      "source": [
        "Excelente! Seria ótimo se conseguíssemos aplicar essa função em todo nosso DataFrame. Para fazer isso, usaremos o método .apply(). Também criaremos uma coluna que é uma flag se o pokémon é mega:"
      ]
    },
    {
      "cell_type": "code",
      "metadata": {
        "id": "-cMeIQ_kLX7F"
      },
      "source": [
        "pkmn['Mega'] = pkmn.apply(\n",
        "    lambda row: is_it_mega(row['Name']), #chamando uma função lambda que acabamos de construir\n",
        "    axis=1 #qual direção queremos executar a função. 0 para horizontal, 1 para vertical\n",
        ")"
      ],
      "execution_count": null,
      "outputs": []
    },
    {
      "cell_type": "code",
      "metadata": {
        "id": "KIfuksrFLX7G",
        "outputId": "b2cafa66-c879-47b6-e2ab-85399875284d"
      },
      "source": [
        "pkmn.head()"
      ],
      "execution_count": null,
      "outputs": [
        {
          "output_type": "execute_result",
          "data": {
            "text/html": [
              "<div>\n",
              "<style scoped>\n",
              "    .dataframe tbody tr th:only-of-type {\n",
              "        vertical-align: middle;\n",
              "    }\n",
              "\n",
              "    .dataframe tbody tr th {\n",
              "        vertical-align: top;\n",
              "    }\n",
              "\n",
              "    .dataframe thead th {\n",
              "        text-align: right;\n",
              "    }\n",
              "</style>\n",
              "<table border=\"1\" class=\"dataframe\">\n",
              "  <thead>\n",
              "    <tr style=\"text-align: right;\">\n",
              "      <th></th>\n",
              "      <th>#</th>\n",
              "      <th>Name</th>\n",
              "      <th>Type_1</th>\n",
              "      <th>Type_2</th>\n",
              "      <th>Total</th>\n",
              "      <th>HP</th>\n",
              "      <th>Attack</th>\n",
              "      <th>Defense</th>\n",
              "      <th>Sp_Atk</th>\n",
              "      <th>Sp_Def</th>\n",
              "      <th>Speed</th>\n",
              "      <th>Generation</th>\n",
              "      <th>Legendary</th>\n",
              "      <th>Mega</th>\n",
              "    </tr>\n",
              "  </thead>\n",
              "  <tbody>\n",
              "    <tr>\n",
              "      <td>0</td>\n",
              "      <td>1</td>\n",
              "      <td>Bulbasaur</td>\n",
              "      <td>Grass</td>\n",
              "      <td>Poison</td>\n",
              "      <td>318</td>\n",
              "      <td>45</td>\n",
              "      <td>49</td>\n",
              "      <td>49</td>\n",
              "      <td>65</td>\n",
              "      <td>65</td>\n",
              "      <td>45</td>\n",
              "      <td>1</td>\n",
              "      <td>False</td>\n",
              "      <td>False</td>\n",
              "    </tr>\n",
              "    <tr>\n",
              "      <td>1</td>\n",
              "      <td>2</td>\n",
              "      <td>Ivysaur</td>\n",
              "      <td>Grass</td>\n",
              "      <td>Poison</td>\n",
              "      <td>405</td>\n",
              "      <td>60</td>\n",
              "      <td>62</td>\n",
              "      <td>63</td>\n",
              "      <td>80</td>\n",
              "      <td>80</td>\n",
              "      <td>60</td>\n",
              "      <td>1</td>\n",
              "      <td>False</td>\n",
              "      <td>False</td>\n",
              "    </tr>\n",
              "    <tr>\n",
              "      <td>2</td>\n",
              "      <td>3</td>\n",
              "      <td>Venusaur</td>\n",
              "      <td>Grass</td>\n",
              "      <td>Poison</td>\n",
              "      <td>525</td>\n",
              "      <td>80</td>\n",
              "      <td>82</td>\n",
              "      <td>83</td>\n",
              "      <td>100</td>\n",
              "      <td>100</td>\n",
              "      <td>80</td>\n",
              "      <td>1</td>\n",
              "      <td>False</td>\n",
              "      <td>False</td>\n",
              "    </tr>\n",
              "    <tr>\n",
              "      <td>3</td>\n",
              "      <td>3</td>\n",
              "      <td>VenusaurMega Venusaur</td>\n",
              "      <td>Grass</td>\n",
              "      <td>Poison</td>\n",
              "      <td>625</td>\n",
              "      <td>80</td>\n",
              "      <td>100</td>\n",
              "      <td>123</td>\n",
              "      <td>122</td>\n",
              "      <td>120</td>\n",
              "      <td>80</td>\n",
              "      <td>1</td>\n",
              "      <td>False</td>\n",
              "      <td>True</td>\n",
              "    </tr>\n",
              "    <tr>\n",
              "      <td>4</td>\n",
              "      <td>4</td>\n",
              "      <td>Charmander</td>\n",
              "      <td>Fire</td>\n",
              "      <td>NaN</td>\n",
              "      <td>309</td>\n",
              "      <td>39</td>\n",
              "      <td>52</td>\n",
              "      <td>43</td>\n",
              "      <td>60</td>\n",
              "      <td>50</td>\n",
              "      <td>65</td>\n",
              "      <td>1</td>\n",
              "      <td>False</td>\n",
              "      <td>False</td>\n",
              "    </tr>\n",
              "  </tbody>\n",
              "</table>\n",
              "</div>"
            ],
            "text/plain": [
              "   #                   Name Type_1  Type_2  Total  HP  Attack  Defense  \\\n",
              "0  1              Bulbasaur  Grass  Poison    318  45      49       49   \n",
              "1  2                Ivysaur  Grass  Poison    405  60      62       63   \n",
              "2  3               Venusaur  Grass  Poison    525  80      82       83   \n",
              "3  3  VenusaurMega Venusaur  Grass  Poison    625  80     100      123   \n",
              "4  4             Charmander   Fire     NaN    309  39      52       43   \n",
              "\n",
              "   Sp_Atk  Sp_Def  Speed  Generation  Legendary   Mega  \n",
              "0      65      65     45           1      False  False  \n",
              "1      80      80     60           1      False  False  \n",
              "2     100     100     80           1      False  False  \n",
              "3     122     120     80           1      False   True  \n",
              "4      60      50     65           1      False  False  "
            ]
          },
          "metadata": {
            "tags": []
          },
          "execution_count": 85
        }
      ]
    },
    {
      "cell_type": "markdown",
      "metadata": {
        "id": "fWcih9uJLX7J"
      },
      "source": [
        "Agora, vamos verificar quão poderosos são os pokémons mega:"
      ]
    },
    {
      "cell_type": "code",
      "metadata": {
        "id": "A37ABavSLX7K",
        "outputId": "5924b0a9-5d08-4833-86c5-caa62497e650"
      },
      "source": [
        "pkmn.groupby('Mega').Total.mean()"
      ],
      "execution_count": null,
      "outputs": [
        {
          "output_type": "execute_result",
          "data": {
            "text/plain": [
              "Mega\n",
              "False    423.457447\n",
              "True     617.541667\n",
              "Name: Total, dtype: float64"
            ]
          },
          "metadata": {
            "tags": []
          },
          "execution_count": 86
        }
      ]
    },
    {
      "cell_type": "markdown",
      "metadata": {
        "id": "6jCDXM_MLX7L"
      },
      "source": [
        "Uau! Eles têm quase 200 stat points a mais que pokémons normais! Evoluções mega são, sim, muito poderosos! Uma boa prática é sempre tentar manter nosso DataFrame organizado. A forma como os pokémons mega estão nomeados não é muito ótima, e nós já temos uma coluna com a flag para pokémons Mega, então, vamos atacar isso! A estrutura do nome de um pokémon mega é da seguinte forma: 'NomeMega Nome'. Portanto, se nós pegarmos o qeu vem após o caractere ' ', teremos o nome original do pokémon!"
      ]
    },
    {
      "cell_type": "code",
      "metadata": {
        "id": "pBfdDafgLX7L",
        "outputId": "d68d2b3d-923c-45a9-b083-ff3afcd17123"
      },
      "source": [
        "pkmn.Name.nunique() #counts unique elements in a given column"
      ],
      "execution_count": null,
      "outputs": [
        {
          "output_type": "execute_result",
          "data": {
            "text/plain": [
              "800"
            ]
          },
          "metadata": {
            "tags": []
          },
          "execution_count": 87
        }
      ]
    },
    {
      "cell_type": "code",
      "metadata": {
        "id": "r9w1LIl1LX7N",
        "scrolled": true,
        "outputId": "daf90f61-1d65-4618-9e43-a191e55130b5"
      },
      "source": [
        "def get_original_name(s):\n",
        "    \"\"\"\n",
        "    Recebe um nome de pokemon e retorna seu nome original\n",
        "    I: s string\n",
        "    O: string\n",
        "    \"\"\"\n",
        "    return s.split(' ')[-1]\n",
        "\n",
        "pkmn['Name'] = pkmn.Name.apply(lambda s: get_original_name(s)) #sobreescrevendo a coluna Name\n",
        "pkmn.Name.nunique()"
      ],
      "execution_count": null,
      "outputs": [
        {
          "output_type": "execute_result",
          "data": {
            "text/plain": [
              "715"
            ]
          },
          "metadata": {
            "tags": []
          },
          "execution_count": 88
        }
      ]
    },
    {
      "cell_type": "code",
      "metadata": {
        "id": "k8RzR1OjLX7P",
        "outputId": "de91088b-7d5d-45cd-a4a4-b76ebf9ee3cf"
      },
      "source": [
        "pkmn.head()"
      ],
      "execution_count": null,
      "outputs": [
        {
          "output_type": "execute_result",
          "data": {
            "text/html": [
              "<div>\n",
              "<style scoped>\n",
              "    .dataframe tbody tr th:only-of-type {\n",
              "        vertical-align: middle;\n",
              "    }\n",
              "\n",
              "    .dataframe tbody tr th {\n",
              "        vertical-align: top;\n",
              "    }\n",
              "\n",
              "    .dataframe thead th {\n",
              "        text-align: right;\n",
              "    }\n",
              "</style>\n",
              "<table border=\"1\" class=\"dataframe\">\n",
              "  <thead>\n",
              "    <tr style=\"text-align: right;\">\n",
              "      <th></th>\n",
              "      <th>#</th>\n",
              "      <th>Name</th>\n",
              "      <th>Type_1</th>\n",
              "      <th>Type_2</th>\n",
              "      <th>Total</th>\n",
              "      <th>HP</th>\n",
              "      <th>Attack</th>\n",
              "      <th>Defense</th>\n",
              "      <th>Sp_Atk</th>\n",
              "      <th>Sp_Def</th>\n",
              "      <th>Speed</th>\n",
              "      <th>Generation</th>\n",
              "      <th>Legendary</th>\n",
              "      <th>Mega</th>\n",
              "    </tr>\n",
              "  </thead>\n",
              "  <tbody>\n",
              "    <tr>\n",
              "      <td>0</td>\n",
              "      <td>1</td>\n",
              "      <td>Bulbasaur</td>\n",
              "      <td>Grass</td>\n",
              "      <td>Poison</td>\n",
              "      <td>318</td>\n",
              "      <td>45</td>\n",
              "      <td>49</td>\n",
              "      <td>49</td>\n",
              "      <td>65</td>\n",
              "      <td>65</td>\n",
              "      <td>45</td>\n",
              "      <td>1</td>\n",
              "      <td>False</td>\n",
              "      <td>False</td>\n",
              "    </tr>\n",
              "    <tr>\n",
              "      <td>1</td>\n",
              "      <td>2</td>\n",
              "      <td>Ivysaur</td>\n",
              "      <td>Grass</td>\n",
              "      <td>Poison</td>\n",
              "      <td>405</td>\n",
              "      <td>60</td>\n",
              "      <td>62</td>\n",
              "      <td>63</td>\n",
              "      <td>80</td>\n",
              "      <td>80</td>\n",
              "      <td>60</td>\n",
              "      <td>1</td>\n",
              "      <td>False</td>\n",
              "      <td>False</td>\n",
              "    </tr>\n",
              "    <tr>\n",
              "      <td>2</td>\n",
              "      <td>3</td>\n",
              "      <td>Venusaur</td>\n",
              "      <td>Grass</td>\n",
              "      <td>Poison</td>\n",
              "      <td>525</td>\n",
              "      <td>80</td>\n",
              "      <td>82</td>\n",
              "      <td>83</td>\n",
              "      <td>100</td>\n",
              "      <td>100</td>\n",
              "      <td>80</td>\n",
              "      <td>1</td>\n",
              "      <td>False</td>\n",
              "      <td>False</td>\n",
              "    </tr>\n",
              "    <tr>\n",
              "      <td>3</td>\n",
              "      <td>3</td>\n",
              "      <td>Venusaur</td>\n",
              "      <td>Grass</td>\n",
              "      <td>Poison</td>\n",
              "      <td>625</td>\n",
              "      <td>80</td>\n",
              "      <td>100</td>\n",
              "      <td>123</td>\n",
              "      <td>122</td>\n",
              "      <td>120</td>\n",
              "      <td>80</td>\n",
              "      <td>1</td>\n",
              "      <td>False</td>\n",
              "      <td>True</td>\n",
              "    </tr>\n",
              "    <tr>\n",
              "      <td>4</td>\n",
              "      <td>4</td>\n",
              "      <td>Charmander</td>\n",
              "      <td>Fire</td>\n",
              "      <td>NaN</td>\n",
              "      <td>309</td>\n",
              "      <td>39</td>\n",
              "      <td>52</td>\n",
              "      <td>43</td>\n",
              "      <td>60</td>\n",
              "      <td>50</td>\n",
              "      <td>65</td>\n",
              "      <td>1</td>\n",
              "      <td>False</td>\n",
              "      <td>False</td>\n",
              "    </tr>\n",
              "  </tbody>\n",
              "</table>\n",
              "</div>"
            ],
            "text/plain": [
              "   #        Name Type_1  Type_2  Total  HP  Attack  Defense  Sp_Atk  Sp_Def  \\\n",
              "0  1   Bulbasaur  Grass  Poison    318  45      49       49      65      65   \n",
              "1  2     Ivysaur  Grass  Poison    405  60      62       63      80      80   \n",
              "2  3    Venusaur  Grass  Poison    525  80      82       83     100     100   \n",
              "3  3    Venusaur  Grass  Poison    625  80     100      123     122     120   \n",
              "4  4  Charmander   Fire     NaN    309  39      52       43      60      50   \n",
              "\n",
              "   Speed  Generation  Legendary   Mega  \n",
              "0     45           1      False  False  \n",
              "1     60           1      False  False  \n",
              "2     80           1      False  False  \n",
              "3     80           1      False   True  \n",
              "4     65           1      False  False  "
            ]
          },
          "metadata": {
            "tags": []
          },
          "execution_count": 89
        }
      ]
    },
    {
      "cell_type": "markdown",
      "metadata": {
        "id": "2GdCfzPyLX7Q"
      },
      "source": [
        "Parece que conseguimos limpar o nome deles! Agora nós cobrimos todas a parte básica de Pandas! Vamos praticar essa última parte!\n",
        "\n",
        "#### Exercício 3.7 (27 Pontos)\n",
        "*Correção Binária: O aluno recebe todos os pontos caso cumpra todos os objetivos do exercicio (independente da lógica ou estilo da programação), caso contrário, recebe zero.*\n",
        "\n",
        "Crie uma função que retorna a classificação para o jogador de acordo com as instruções abaixo, então aplique isso para o dataframe fut_players."
      ]
    },
    {
      "cell_type": "code",
      "metadata": {
        "id": "ORfR0TuTLX7Q",
        "outputId": "91495bd9-823e-4300-f260-681f910962da"
      },
      "source": [
        "def get_classification(overall):\n",
        "    \"\"\"\n",
        "    Recebe um overall de algum jogador e retorna a classificação conforme a seguir:\n",
        "    Overall -> classification\n",
        "    -50     -> \"Amador\"\n",
        "    50-60   -> \"Ruim\"\n",
        "    60-70   -> \"Ok\"\n",
        "    70-80   -> \"Bom\"\n",
        "    80-90   -> \"Ótimo\"\n",
        "    90+     -> \"Lenda\"\n",
        "    \n",
        "    I: int overall\n",
        "    O: string\n",
        "    \"\"\"\n",
        "    if overall < 50:\n",
        "        classificacao = 'Amador'\n",
        "    elif overall >= 50 & overall < 60:\n",
        "        classificacao = 'Ruim'\n",
        "    elif overall >= 60 & overall < 70:\n",
        "        classificacao = 'Ok'\n",
        "    elif overall >= 70 & overall < 80:\n",
        "        classificacao = 'Bom'\n",
        "    elif overall >= 80 & overall < 90:\n",
        "        classificacao = 'Ótimo'\n",
        "    elif overall >= 90:\n",
        "        classificacao = 'Lenda'\n",
        "    else:\n",
        "        classificacao = 'Fora dos limites'\n",
        "        \n",
        "    return classificacao\n",
        "    \n",
        "fut_players[\"classification\"] = fut_players['overall'].apply(get_classification)\n",
        "fut_players.head()"
      ],
      "execution_count": null,
      "outputs": [
        {
          "output_type": "execute_result",
          "data": {
            "text/html": [
              "<div>\n",
              "<style scoped>\n",
              "    .dataframe tbody tr th:only-of-type {\n",
              "        vertical-align: middle;\n",
              "    }\n",
              "\n",
              "    .dataframe tbody tr th {\n",
              "        vertical-align: top;\n",
              "    }\n",
              "\n",
              "    .dataframe thead th {\n",
              "        text-align: right;\n",
              "    }\n",
              "</style>\n",
              "<table border=\"1\" class=\"dataframe\">\n",
              "  <thead>\n",
              "    <tr style=\"text-align: right;\">\n",
              "      <th></th>\n",
              "      <th>id</th>\n",
              "      <th>name</th>\n",
              "      <th>extended_name</th>\n",
              "      <th>quality</th>\n",
              "      <th>revision</th>\n",
              "      <th>origin</th>\n",
              "      <th>overall</th>\n",
              "      <th>club</th>\n",
              "      <th>league</th>\n",
              "      <th>nationality</th>\n",
              "      <th>...</th>\n",
              "      <th>cf</th>\n",
              "      <th>rf</th>\n",
              "      <th>lf</th>\n",
              "      <th>rw</th>\n",
              "      <th>lw</th>\n",
              "      <th>st</th>\n",
              "      <th>traits</th>\n",
              "      <th>specialities</th>\n",
              "      <th>base_id</th>\n",
              "      <th>classification</th>\n",
              "    </tr>\n",
              "  </thead>\n",
              "  <tbody>\n",
              "    <tr>\n",
              "      <td>0</td>\n",
              "      <td>1</td>\n",
              "      <td>Pelé</td>\n",
              "      <td>Arantes Nascimento Edson</td>\n",
              "      <td>Gold - Rare</td>\n",
              "      <td>Icon</td>\n",
              "      <td>Prime</td>\n",
              "      <td>98</td>\n",
              "      <td>Icons</td>\n",
              "      <td>Icons</td>\n",
              "      <td>Brazil</td>\n",
              "      <td>...</td>\n",
              "      <td>96.0</td>\n",
              "      <td>96.0</td>\n",
              "      <td>96.0</td>\n",
              "      <td>96.0</td>\n",
              "      <td>96.0</td>\n",
              "      <td>95.0</td>\n",
              "      <td>Finesse Shot</td>\n",
              "      <td>Speedster, Aerial Threat, Dribbler, Play Maker...</td>\n",
              "      <td>237067</td>\n",
              "      <td>Ruim</td>\n",
              "    </tr>\n",
              "    <tr>\n",
              "      <td>1</td>\n",
              "      <td>2</td>\n",
              "      <td>Maradona</td>\n",
              "      <td>Diego Maradona</td>\n",
              "      <td>Gold - Rare</td>\n",
              "      <td>Icon</td>\n",
              "      <td>Prime</td>\n",
              "      <td>97</td>\n",
              "      <td>Icons</td>\n",
              "      <td>Icons</td>\n",
              "      <td>Argentina</td>\n",
              "      <td>...</td>\n",
              "      <td>94.0</td>\n",
              "      <td>94.0</td>\n",
              "      <td>94.0</td>\n",
              "      <td>94.0</td>\n",
              "      <td>94.0</td>\n",
              "      <td>90.0</td>\n",
              "      <td>Avoids Using Weaker Foot, Finesse Shot, Flair,...</td>\n",
              "      <td>Speedster, Dribbler, Play Maker, Distance Shoo...</td>\n",
              "      <td>190042</td>\n",
              "      <td>Ruim</td>\n",
              "    </tr>\n",
              "    <tr>\n",
              "      <td>2</td>\n",
              "      <td>3</td>\n",
              "      <td>Ronaldo</td>\n",
              "      <td>Nazário de Lima Ronaldo Luís</td>\n",
              "      <td>Gold - Rare</td>\n",
              "      <td>Icon</td>\n",
              "      <td>Prime</td>\n",
              "      <td>96</td>\n",
              "      <td>Icons</td>\n",
              "      <td>Icons</td>\n",
              "      <td>Brazil</td>\n",
              "      <td>...</td>\n",
              "      <td>94.0</td>\n",
              "      <td>94.0</td>\n",
              "      <td>94.0</td>\n",
              "      <td>92.0</td>\n",
              "      <td>92.0</td>\n",
              "      <td>94.0</td>\n",
              "      <td>Tries To Beat Defensive Line, Finesse Shot</td>\n",
              "      <td>Speedster, Dribbler, Distance Shooter, FK Spec...</td>\n",
              "      <td>37576</td>\n",
              "      <td>Ruim</td>\n",
              "    </tr>\n",
              "    <tr>\n",
              "      <td>3</td>\n",
              "      <td>4</td>\n",
              "      <td>Pelé</td>\n",
              "      <td>Arantes Nascimento Edson</td>\n",
              "      <td>Gold - Rare</td>\n",
              "      <td>Icon</td>\n",
              "      <td>Medium</td>\n",
              "      <td>95</td>\n",
              "      <td>Icons</td>\n",
              "      <td>Icons</td>\n",
              "      <td>Brazil</td>\n",
              "      <td>...</td>\n",
              "      <td>94.0</td>\n",
              "      <td>94.0</td>\n",
              "      <td>94.0</td>\n",
              "      <td>94.0</td>\n",
              "      <td>94.0</td>\n",
              "      <td>92.0</td>\n",
              "      <td>Finesse Shot</td>\n",
              "      <td>Speedster, Dribbler, Distance Shooter, Crosser...</td>\n",
              "      <td>237068</td>\n",
              "      <td>Ruim</td>\n",
              "    </tr>\n",
              "    <tr>\n",
              "      <td>4</td>\n",
              "      <td>5</td>\n",
              "      <td>Maradona</td>\n",
              "      <td>Diego Maradona</td>\n",
              "      <td>Gold - Rare</td>\n",
              "      <td>Icon</td>\n",
              "      <td>Medium</td>\n",
              "      <td>95</td>\n",
              "      <td>Icons</td>\n",
              "      <td>Icons</td>\n",
              "      <td>Argentina</td>\n",
              "      <td>...</td>\n",
              "      <td>92.0</td>\n",
              "      <td>92.0</td>\n",
              "      <td>92.0</td>\n",
              "      <td>92.0</td>\n",
              "      <td>92.0</td>\n",
              "      <td>88.0</td>\n",
              "      <td>Avoids Using Weaker Foot, Finesse Shot, Flair,...</td>\n",
              "      <td>Dribbler, Play Maker, Distance Shooter, Crosse...</td>\n",
              "      <td>237074</td>\n",
              "      <td>Ruim</td>\n",
              "    </tr>\n",
              "  </tbody>\n",
              "</table>\n",
              "<p>5 rows × 83 columns</p>\n",
              "</div>"
            ],
            "text/plain": [
              "   id      name                 extended_name      quality revision  origin  \\\n",
              "0   1      Pelé      Arantes Nascimento Edson  Gold - Rare     Icon   Prime   \n",
              "1   2  Maradona                Diego Maradona  Gold - Rare     Icon   Prime   \n",
              "2   3   Ronaldo  Nazário de Lima Ronaldo Luís  Gold - Rare     Icon   Prime   \n",
              "3   4      Pelé      Arantes Nascimento Edson  Gold - Rare     Icon  Medium   \n",
              "4   5  Maradona                Diego Maradona  Gold - Rare     Icon  Medium   \n",
              "\n",
              "   overall   club league nationality  ...    cf    rf    lf    rw    lw    st  \\\n",
              "0       98  Icons  Icons      Brazil  ...  96.0  96.0  96.0  96.0  96.0  95.0   \n",
              "1       97  Icons  Icons   Argentina  ...  94.0  94.0  94.0  94.0  94.0  90.0   \n",
              "2       96  Icons  Icons      Brazil  ...  94.0  94.0  94.0  92.0  92.0  94.0   \n",
              "3       95  Icons  Icons      Brazil  ...  94.0  94.0  94.0  94.0  94.0  92.0   \n",
              "4       95  Icons  Icons   Argentina  ...  92.0  92.0  92.0  92.0  92.0  88.0   \n",
              "\n",
              "                                              traits  \\\n",
              "0                                       Finesse Shot   \n",
              "1  Avoids Using Weaker Foot, Finesse Shot, Flair,...   \n",
              "2         Tries To Beat Defensive Line, Finesse Shot   \n",
              "3                                       Finesse Shot   \n",
              "4  Avoids Using Weaker Foot, Finesse Shot, Flair,...   \n",
              "\n",
              "                                        specialities  base_id  classification  \n",
              "0  Speedster, Aerial Threat, Dribbler, Play Maker...   237067            Ruim  \n",
              "1  Speedster, Dribbler, Play Maker, Distance Shoo...   190042            Ruim  \n",
              "2  Speedster, Dribbler, Distance Shooter, FK Spec...    37576            Ruim  \n",
              "3  Speedster, Dribbler, Distance Shooter, Crosser...   237068            Ruim  \n",
              "4  Dribbler, Play Maker, Distance Shooter, Crosse...   237074            Ruim  \n",
              "\n",
              "[5 rows x 83 columns]"
            ]
          },
          "metadata": {
            "tags": []
          },
          "execution_count": 90
        }
      ]
    },
    {
      "cell_type": "markdown",
      "metadata": {
        "id": "hCDKPkx8LX7R"
      },
      "source": [
        "<a id=\"encerramento\"></a>\n",
        "# 4. Encerramento\n",
        "\n",
        "Obrigado por participar da trilha, você acaba de finalizar a primeira aula. Neste momento você já deve ser capaz de manipular seus dados no Python, utilizando as bibliotecas que acabamos de aprender! \n",
        "\n",
        "Lembre-se que sempre que surgir alguma dúvida, você pode olhar a documentação do [Numpy](https://numpy.org/doc/) e do [Pandas](https://pandas.pydata.org/docs/).\n",
        "\n",
        "Na próxima aula vamos aprofundar um pouco mais nas visualizações iniciais dos nossos dados, com a parte de EDA (Exploratory Data Analysis) e também veremos o primeiro tipo de algoritmo de ML (Aprendizado Não Supervisionado)."
      ]
    }
  ]
}